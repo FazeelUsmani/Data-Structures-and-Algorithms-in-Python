{
 "cells": [
  {
   "cell_type": "markdown",
   "metadata": {},
   "source": [
    "# Terminologies in Graphs:"
   ]
  },
  {
   "cell_type": "markdown",
   "metadata": {},
   "source": [
    "### 1) Adjacent Vertex: Two vertices are adjacent if they're connected through an edge\n",
    "![download.png](img/download.png)\n"
   ]
  },
  {
   "cell_type": "markdown",
   "metadata": {},
   "source": [
    "Here 0 and 4 is an adjacent vertex. Like this, there are many others in the above graph."
   ]
  },
  {
   "cell_type": "markdown",
   "metadata": {},
   "source": [
    "### 2) Degree of a Vertex: Number of edges going through a vertex\n",
    "\n",
    "\n",
    "![tree.png](img/tree.png)"
   ]
  },
  {
   "cell_type": "code",
   "execution_count": null,
   "metadata": {},
   "outputs": [],
   "source": [
    "Vertex     Degree\n",
    "  1          1\n",
    "  2          1\n",
    "  3          1 \n",
    "  4          4\n",
    "  5          2\n",
    "  6          1"
   ]
  },
  {
   "cell_type": "markdown",
   "metadata": {},
   "source": [
    "\n",
    "\n",
    "### 3) Path: The route from one vertex to the other \n",
    "If you can reach out  to the another vertex through the first vertex via some edges then they have a path. \n",
    "\n",
    "\n",
    "\n",
    "![table.png](img/table.png)"
   ]
  },
  {
   "attachments": {},
   "cell_type": "markdown",
   "metadata": {},
   "source": [
    "\n",
    "\n",
    "\n",
    "\n",
    "### 4) Connected Graph: If there is a path between any two vertices in a graph then it is a connected graph. There is a path from any vertex to any other vertex\n",
    "\n",
    "\n",
    "![connected.png](img/connected.png)"
   ]
  },
  {
   "cell_type": "markdown",
   "metadata": {},
   "source": [
    "### 5) Connected Component: Any subgraph of G which is connected\n",
    "\n",
    "\n",
    "![two%20component.png](img/two%20component.png)\n"
   ]
  },
  {
   "cell_type": "markdown",
   "metadata": {},
   "source": [
    "### 6) Tree: A parent-child structure which can also called as a graph. A tree is also a graph\n",
    "\n",
    "#### Tree is always a connected graph and there are no cycles in a tree\n"
   ]
  },
  {
   "cell_type": "markdown",
   "metadata": {},
   "source": [
    "\n",
    "![diagram%20graph.png](img/diagram%20graph.png)"
   ]
  },
  {
   "cell_type": "markdown",
   "metadata": {},
   "source": [
    "\n",
    "\n",
    "![tree%20graph.png](img/tree%20graph.png)"
   ]
  },
  {
   "cell_type": "markdown",
   "metadata": {},
   "source": [
    "\n",
    "![graph%20types.png](img/graph%20types.png)"
   ]
  }
 ],
 "metadata": {
  "kernelspec": {
   "display_name": "Python 3",
   "language": "python",
   "name": "python3"
  },
  "language_info": {
   "codemirror_mode": {
    "name": "ipython",
    "version": 3
   },
   "file_extension": ".py",
   "mimetype": "text/x-python",
   "name": "python",
   "nbconvert_exporter": "python",
   "pygments_lexer": "ipython3",
   "version": "3.7.3"
  }
 },
 "nbformat": 4,
 "nbformat_minor": 2
}
