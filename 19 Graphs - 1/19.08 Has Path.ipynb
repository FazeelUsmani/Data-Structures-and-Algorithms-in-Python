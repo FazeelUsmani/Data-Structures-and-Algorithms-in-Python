{
 "cells": [
  {
   "cell_type": "markdown",
   "metadata": {},
   "source": [
    "## Check whether v1 and v2 vertices has a path in between them"
   ]
  },
  {
   "cell_type": "code",
   "execution_count": 245,
   "metadata": {},
   "outputs": [],
   "source": [
    "# This format was asked in Coding Ninjas Assignment:-\n",
    "import queue\n",
    "class Graph:\n",
    "    def __init__(self, nVertices):\n",
    "        self.nVertices = nVertices\n",
    "        self.adjMatrix = [[0 for i in range(nVertices)] for j in range(nVertices)]\n",
    "       \n",
    "    \n",
    "    def addEdge(self, v1, v2):\n",
    "        self.adjMatrix[v1][v2] = 1\n",
    "        self.adjMatrix[v2][v1] = 1\n",
    "        \n",
    "        \n",
    "    def removeEdge(self, v1, v2):\n",
    "        if self.containEdge(v1, v2) is False:\n",
    "            return\n",
    "        self.adjMatrix[v1][v2] = 0\n",
    "        self.adjMatrix[v2][v1] = 0\n",
    "        \n",
    "        \n",
    "    def containsEdge(self, v1, v2):\n",
    "        return True if self.adjMatrix[v1][v2] > 0 else False\n",
    "        \n",
    "    def __str__(self):\n",
    "        return str(self.adjMatrix)\n",
    "    \n",
    "    \n",
    "    def hasPathHelper(self, v1, v2, visited):\n",
    "\n",
    "        if self.adjMatrix[v1][v2] > 0:\n",
    "            return True\n",
    "        \n",
    "        visited[v1] = True\n",
    "\n",
    "        for i in range(self.nVertices):\n",
    "            if self.adjMatrix[v1][i] > 0  and visited[i] is False:\n",
    "                if self.hasPathHelper(i, v2, visited):\n",
    "                    return True         \n",
    "                \n",
    "        return False    \n",
    "    \n",
    "    def hasPath(self, v1, v2):\n",
    "        visited = [False] * 7\n",
    "        return self.hasPathHelper(v1, v2, visited)        "
   ]
  },
  {
   "cell_type": "code",
   "execution_count": 246,
   "metadata": {},
   "outputs": [
    {
     "name": "stdout",
     "output_type": "stream",
     "text": [
      "True\n",
      "True\n",
      "True\n",
      "True\n",
      "True\n"
     ]
    }
   ],
   "source": [
    "g = Graph(7)\n",
    "g.addEdge(0, 1)\n",
    "g.addEdge(0, 2)\n",
    "g.addEdge(0, 3)\n",
    "\n",
    "g.addEdge(1, 5)\n",
    "g.addEdge(2, 4)\n",
    "g.addEdge(3, 6)\n",
    "\n",
    "g.addEdge(4, 6)\n",
    "\n",
    "\n",
    "print(g.hasPath(1, 3))\n",
    "print(g.hasPath(5, 6))\n",
    "print(g.hasPath(1, 6))\n",
    "print(g.hasPath(0, 5))\n",
    "print(g.hasPath(2, 3))"
   ]
  },
  {
   "cell_type": "code",
   "execution_count": 248,
   "metadata": {},
   "outputs": [
    {
     "name": "stdout",
     "output_type": "stream",
     "text": [
      "6 3\n",
      "5 3 \n",
      "0 1\n",
      "3 4\n",
      "0 3\n",
      "false\n"
     ]
    }
   ],
   "source": [
    "# Coding Ninjas Assignment:\n",
    "class Graph:\n",
    "    def __init__(self, nVertices):\n",
    "        self.nVertices = nVertices\n",
    "        self.adjMatrix = [[0 for i in range(nVertices)] for j in range(nVertices)]\n",
    "       \n",
    "    \n",
    "    def addEdge(self, v1, v2):\n",
    "        self.adjMatrix[v1][v2] = 1\n",
    "        self.adjMatrix[v2][v1] = 1\n",
    "        \n",
    "    def hasPathHelper(self, v1, v2, visited):\n",
    "\n",
    "        if self.adjMatrix[v1][v2] > 0:\n",
    "            return True\n",
    "        \n",
    "        visited[v1] = True\n",
    "        \n",
    "        for i in range(self.nVertices):\n",
    "            if self.adjMatrix[v1][i] > 0  and visited[i] is False:\n",
    "                if self.hasPathHelper(i, v2, visited):\n",
    "                    #visited[v2] = True\n",
    "                    return True\n",
    "             \n",
    "        return False\n",
    "    \n",
    "    \n",
    "    def hasPath(self, v1, v2, n):\n",
    "        visited = [False] * n\n",
    "        return self.hasPathHelper(v1, v2, visited)\n",
    "                \n",
    "v, e = [int (i) for i in input().split()[:2]]\n",
    "g = Graph(v)\n",
    "for i in range(e):\n",
    "    a, b = [int(x) for x in input().split()[:2]]\n",
    "    g.addEdge(a, b)\n",
    "    \n",
    "v1, v2 = [int (r) for r in input().split()[:2]]\n",
    "if g.hasPath(v1, v2, v):\n",
    "    print(\"true\")\n",
    "else:\n",
    "    print(\"false\")"
   ]
  }
 ],
 "metadata": {
  "kernelspec": {
   "display_name": "Python 3",
   "language": "python",
   "name": "python3"
  },
  "language_info": {
   "codemirror_mode": {
    "name": "ipython",
    "version": 3
   },
   "file_extension": ".py",
   "mimetype": "text/x-python",
   "name": "python",
   "nbconvert_exporter": "python",
   "pygments_lexer": "ipython3",
   "version": "3.7.3"
  }
 },
 "nbformat": 4,
 "nbformat_minor": 2
}
