{
 "cells": [
  {
   "cell_type": "markdown",
   "metadata": {},
   "source": [
    "# BFS CODE:"
   ]
  },
  {
   "attachments": {},
   "cell_type": "markdown",
   "metadata": {},
   "source": [
    "\n",
    "![bfs.png](img/bfs.png)"
   ]
  },
  {
   "cell_type": "markdown",
   "metadata": {},
   "source": [
    "## BFS PATH: 0 1 2 3 4 6 5"
   ]
  },
  {
   "cell_type": "code",
   "execution_count": 9,
   "metadata": {},
   "outputs": [],
   "source": [
    "import queue\n",
    "class Graph:\n",
    "    def __init__(self, nVertices):\n",
    "        self.nVertices = nVertices\n",
    "        self.adjMatrix = [[0 for i in range(nVertices)] for j in range(nVertices)]\n",
    "       \n",
    "    \n",
    "    def addEdge(self, v1, v2):\n",
    "        self.adjMatrix[v1][v2] = 1\n",
    "        self.adjMatrix[v2][v1] = 1\n",
    "        \n",
    "        \n",
    "    def removeEdge(self, v1, v2):\n",
    "        if self.containEdge(v1, v2) is False:\n",
    "            return\n",
    "        self.adjMatrix[v1][v2] = 0\n",
    "        self.adjMatrix[v2][v1] = 0\n",
    "        \n",
    "        \n",
    "    def containsEdge(self, v1, v2):\n",
    "        return True if self.adjMatrix[v1][v2] > 0 else False\n",
    "        \n",
    "    def __str__(self):\n",
    "        return str(self.adjMatrix)\n",
    "    \n",
    "    \n",
    "    def __bfsHelper(self, sv, visited):\n",
    "        q = queue.Queue()\n",
    "        q.put(sv)\n",
    "        \n",
    "        for i in range(self.nVertices):\n",
    "            if self.adjMatrix[sv][i] > 0 and visited[i] is False:\n",
    "                x = q.get()\n",
    "                print(x)\n",
    "                visited[x] = True\n",
    "                self.__bfsHelper(i, visited)                  \n",
    "\n",
    "    def bfs(self):       # Using BFS for traversing all vertices of a graph\n",
    "        q = queue.Queue()\n",
    "        visited = [False for i in range(self.nVertices)]\n",
    "        visited[0] = True\n",
    "        q.put(0)\n",
    "        while q.empty() is False:\n",
    "          u = q.get()\n",
    "          print(u)\n",
    "          for i in range(self.nVertices):\n",
    "            if self.adjMatrix[u][i] > 0 and visited[i] is False:\n",
    "              q.put(i)\n",
    "              visited[i] = True\n",
    "    "
   ]
  },
  {
   "cell_type": "code",
   "execution_count": 10,
   "metadata": {},
   "outputs": [
    {
     "name": "stdout",
     "output_type": "stream",
     "text": [
      "0\n",
      "1\n",
      "2\n",
      "3\n",
      "4\n",
      "6\n",
      "5\n"
     ]
    }
   ],
   "source": [
    "g = Graph(7)\n",
    "g.addEdge(0, 1)\n",
    "g.addEdge(1, 2)\n",
    "g.addEdge(1, 3)\n",
    "g.addEdge(1, 4)\n",
    "g.addEdge(2, 6)\n",
    "g.addEdge(4, 5)\n",
    "g.addEdge(5, 6)\n",
    "g.bfs()"
   ]
  },
  {
   "cell_type": "code",
   "execution_count": 6,
   "metadata": {},
   "outputs": [
    {
     "name": "stdout",
     "output_type": "stream",
     "text": [
      "4 4 \n",
      "0 1\n",
      "0 3\n",
      "1 2\n",
      "2 3\n",
      "0\n",
      "1\n",
      "3\n",
      "2\n"
     ]
    }
   ],
   "source": [
    "# This format was asked in Coding Ninjas Assignment:-\n",
    "import queue\n",
    "class Graph:\n",
    "    def __init__(self, nVertices):\n",
    "        self.nVertices = nVertices\n",
    "        self.adjMatrix = [[0 for i in range(nVertices)] for j in range(nVertices)]\n",
    "       \n",
    "    \n",
    "    def addEdge(self, v1, v2):\n",
    "        self.adjMatrix[v1][v2] = 1\n",
    "        self.adjMatrix[v2][v1] = 1\n",
    "        \n",
    "        \n",
    "    def removeEdge(self, v1, v2):\n",
    "        if self.containEdge(v1, v2) is False:\n",
    "            return\n",
    "        self.adjMatrix[v1][v2] = 0\n",
    "        self.adjMatrix[v2][v1] = 0\n",
    "        \n",
    "        \n",
    "    def containsEdge(self, v1, v2):\n",
    "        return True if self.adjMatrix[v1][v2] > 0 else False\n",
    "        \n",
    "    def __str__(self):\n",
    "        return str(self.adjMatrix)\n",
    "    \n",
    "\n",
    "    \n",
    "    def __bfsHelper(self, sv, visited):\n",
    "        q = queue.Queue()\n",
    "        q.put(sv)\n",
    "            \n",
    "    def bfs(self):       # Using BFS for traversing all vertices of a graph\n",
    "        q = queue.Queue()\n",
    "        visited = [False for i in range(self.nVertices)]\n",
    "        visited[0] = True\n",
    "        q.put(0)\n",
    "        while q.empty() is False:\n",
    "          u = q.get()\n",
    "          print(u, end = \" \")\n",
    "          for i in range(self.nVertices):\n",
    "            if self.adjMatrix[u][i] > 0 and visited[i] is False:\n",
    "              q.put(i)\n",
    "              visited[i] = True\n",
    "    \n",
    "    \n",
    "v, e = [int(x) for x in input().split()[:2]]    \n",
    "g = Graph(v)\n",
    "for i in range(e):\n",
    "    a, b = [int(x) for x in input().split()[:2]]\n",
    "    g.addEdge(a,b)\n",
    "g.bfs()"
   ]
  }
 ],
 "metadata": {
  "kernelspec": {
   "display_name": "Python 3",
   "language": "python",
   "name": "python3"
  },
  "language_info": {
   "codemirror_mode": {
    "name": "ipython",
    "version": 3
   },
   "file_extension": ".py",
   "mimetype": "text/x-python",
   "name": "python",
   "nbconvert_exporter": "python",
   "pygments_lexer": "ipython3",
   "version": "3.7.3"
  }
 },
 "nbformat": 4,
 "nbformat_minor": 2
}
