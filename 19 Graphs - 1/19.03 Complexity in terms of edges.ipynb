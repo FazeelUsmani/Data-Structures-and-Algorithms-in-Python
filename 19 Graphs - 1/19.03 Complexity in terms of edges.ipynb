{
 "cells": [
  {
   "cell_type": "markdown",
   "metadata": {},
   "source": [
    "1) Minimum edges in a graph is 0\n",
    "\n",
    "2) Minimum edges in a connected graph for n vetices is (n-1) edges \n",
    "    #P.S: A tree is a connected graph in which it has n vertices and (n-1) edges\n",
    "    \n",
    "3) Maximum number of edges in a connected graph fo n vertices is (n-1)!\n",
    "   (n-1) + (n-2) + (n-3) + (n-4) + --- + 1\n",
    "   \n",
    "   Complexity:\n",
    "   \n",
    "   = n(n-1)/2 = O(n**2) = O(E) [Edges]"
   ]
  }
 ],
 "metadata": {
  "kernelspec": {
   "display_name": "Python 3",
   "language": "python",
   "name": "python3"
  },
  "language_info": {
   "codemirror_mode": {
    "name": "ipython",
    "version": 3
   },
   "file_extension": ".py",
   "mimetype": "text/x-python",
   "name": "python",
   "nbconvert_exporter": "python",
   "pygments_lexer": "ipython3",
   "version": "3.7.3"
  }
 },
 "nbformat": 4,
 "nbformat_minor": 2
}
