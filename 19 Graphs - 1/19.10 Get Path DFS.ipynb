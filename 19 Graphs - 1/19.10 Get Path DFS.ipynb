{
 "cells": [
  {
   "cell_type": "code",
   "execution_count": 95,
   "metadata": {},
   "outputs": [
    {
     "name": "stdout",
     "output_type": "stream",
     "text": [
      "4 4\n",
      "0 1\n",
      "0 3\n",
      "1 2\n",
      "2 3\n",
      "1 3\n",
      "3 0 1 "
     ]
    }
   ],
   "source": [
    "class Graph:\n",
    "    def __init__(self, nVertices):\n",
    "        self.nVertices = nVertices\n",
    "        self.adjMatrix = [[0 for i in range(nVertices)] for j in range(nVertices)]\n",
    "       \n",
    "    \n",
    "    def addEdge(self, v1, v2):\n",
    "        self.adjMatrix[v1][v2] = 1\n",
    "        self.adjMatrix[v2][v1] = 1\n",
    "        \n",
    "    def getPathHelper(self, v1, v2, visited, list):\n",
    "\n",
    "        if self.adjMatrix[v1][v2] > 0:\n",
    "            list.append(v2)\n",
    "            list.append(v1)\n",
    "            \n",
    "            return list\n",
    "        \n",
    "        visited[v1] = True\n",
    "        \n",
    "        for i in range(self.nVertices):\n",
    "            if self.adjMatrix[v1][i] > 0  and visited[i] is False:\n",
    "                if self.getPathHelper(i, v2, visited, list):\n",
    "                    list.append(v1)\n",
    "                    \n",
    "                    return list \n",
    "             \n",
    "        return False\n",
    "    \n",
    "    \n",
    "    def getPath(self, v1, v2, n):\n",
    "        visited = [False] * n\n",
    "        return self.getPathHelper(v1, v2, visited, [])\n",
    "                    \n",
    "\n",
    "v, e = [int (i) for i in input().split()[:2]]\n",
    "g = Graph(v)\n",
    "for i in range(e):\n",
    "    a, b = [int(x) for x in input().split()[:2]]\n",
    "    g.addEdge(a, b)\n",
    "    \n",
    "v1, v2 = [int (r) for r in input().split()[:2]]\n",
    "list = g.getPath(v1, v2, v)\n",
    "if list:\n",
    "    for i in g.getPath(v1, v2, v):\n",
    "        print(i, end = \" \")"
   ]
  }
 ],
 "metadata": {
  "kernelspec": {
   "display_name": "Python 3",
   "language": "python",
   "name": "python3"
  },
  "language_info": {
   "codemirror_mode": {
    "name": "ipython",
    "version": 3
   },
   "file_extension": ".py",
   "mimetype": "text/x-python",
   "name": "python",
   "nbconvert_exporter": "python",
   "pygments_lexer": "ipython3",
   "version": "3.7.3"
  }
 },
 "nbformat": 4,
 "nbformat_minor": 2
}
