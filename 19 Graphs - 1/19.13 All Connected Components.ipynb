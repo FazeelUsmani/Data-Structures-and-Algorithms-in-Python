{
 "cells": [
  {
   "cell_type": "code",
   "execution_count": 32,
   "metadata": {},
   "outputs": [
    {
     "name": "stdout",
     "output_type": "stream",
     "text": [
      "0 7 \n",
      "1 2 4 \n",
      "3 5 6 \n"
     ]
    }
   ],
   "source": [
    "class Graph:\n",
    "    def __init__(self, nVertices):\n",
    "        self.nVertices = nVertices\n",
    "        self.adjMatrix = [[0 for i in range(nVertices)] for j in range(nVertices)]\n",
    "       \n",
    "    \n",
    "    def addEdge(self, v1, v2):\n",
    "        self.adjMatrix[v1][v2] = 1\n",
    "        self.adjMatrix[v2][v1] = 1\n",
    "        \n",
    "    def __dfsHelper(self, sv, visited, list):\n",
    "        \n",
    "        #print(sv, end = \" \")\n",
    "        list.append(sv)\n",
    "        visited[sv] = True \n",
    "        for i in range(self.nVertices):\n",
    "            if self.adjMatrix[sv][i] > 0 and visited[i] is False:\n",
    "                self.__dfsHelper(i, visited, list)\n",
    "            \n",
    "        return list\n",
    "    \n",
    "    def dfs(self):         \n",
    "        visited = [False for i in range(self.nVertices)]\n",
    "        final_list = []\n",
    "        for i in range(self.nVertices):\n",
    "            if not visited[i]:\n",
    "                cc = self.__dfsHelper(i, visited, [])\n",
    "                final_list.append(cc)\n",
    "\n",
    "        #self.__dfsHelper(0, visited)\n",
    "        return final_list\n",
    "    \n",
    "g = Graph(8)\n",
    "g.addEdge(0, 7)\n",
    "g.addEdge(1, 2)\n",
    "g.addEdge(1, 4)\n",
    "g.addEdge(3, 5)\n",
    "g.addEdge(3, 6)\n",
    "\n",
    "list = g.dfs()\n",
    "\n",
    "for i in list:\n",
    "    i.sort()\n",
    "    for j in i:\n",
    "        print(j, end = \" \")\n",
    "    print()"
   ]
  },
  {
   "cell_type": "code",
   "execution_count": 33,
   "metadata": {},
   "outputs": [
    {
     "name": "stdout",
     "output_type": "stream",
     "text": [
      "4 3\n",
      "0 1\n",
      "1 3\n",
      "0 3\n",
      "0 1 3 \n",
      "2 \n"
     ]
    }
   ],
   "source": [
    "## Read input as specified in the question.\n",
    "## Print output as specified in the question.\n",
    "class Graph:\n",
    "    def __init__(self, nVertices):\n",
    "        self.nVertices = nVertices\n",
    "        self.adjMatrix = [[0 for i in range(nVertices)] for j in range(nVertices)]\n",
    "       \n",
    "    \n",
    "    def addEdge(self, v1, v2):\n",
    "        self.adjMatrix[v1][v2] = 1\n",
    "        self.adjMatrix[v2][v1] = 1\n",
    "        \n",
    "    def __dfsHelper(self, sv, visited, list):\n",
    "        \n",
    "        #print(sv, end = \" \")\n",
    "        list.append(sv)\n",
    "        visited[sv] = True \n",
    "        for i in range(self.nVertices):\n",
    "            if self.adjMatrix[sv][i] > 0 and visited[i] is False:\n",
    "                self.__dfsHelper(i, visited, list)\n",
    "            \n",
    "        return list\n",
    "    \n",
    "    def dfs(self):         \n",
    "        visited = [False for i in range(self.nVertices)]\n",
    "        final_list = []\n",
    "        for i in range(self.nVertices):\n",
    "            if not visited[i]:\n",
    "                cc = self.__dfsHelper(i, visited, [])\n",
    "                final_list.append(cc)\n",
    "\n",
    "        #self.__dfsHelper(0, visited)\n",
    "        return final_list\n",
    "    \n",
    "    \n",
    "v, e = [int (i) for i in input().split()[:2]]\n",
    "g = Graph(v)\n",
    "\n",
    "for i in range(e):\n",
    "    a, b = [int(x) for x in input().split()[:2]]\n",
    "    g.addEdge(a, b)  \n",
    "    \n",
    "list = g.dfs()\n",
    "\n",
    "for i in list:\n",
    "    i.sort()\n",
    "    for j in i:\n",
    "        \n",
    "        print(j, end = \" \")\n",
    "    print()"
   ]
  }
 ],
 "metadata": {
  "kernelspec": {
   "display_name": "Python 3",
   "language": "python",
   "name": "python3"
  },
  "language_info": {
   "codemirror_mode": {
    "name": "ipython",
    "version": 3
   },
   "file_extension": ".py",
   "mimetype": "text/x-python",
   "name": "python",
   "nbconvert_exporter": "python",
   "pygments_lexer": "ipython3",
   "version": "3.7.3"
  }
 },
 "nbformat": 4,
 "nbformat_minor": 2
}
