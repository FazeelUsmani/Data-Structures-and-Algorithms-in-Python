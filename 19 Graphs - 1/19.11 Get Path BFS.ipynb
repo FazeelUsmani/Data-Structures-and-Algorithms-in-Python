{
 "cells": [
  {
   "cell_type": "code",
   "execution_count": 30,
   "metadata": {},
   "outputs": [
    {
     "name": "stdout",
     "output_type": "stream",
     "text": [
      "4 4\n",
      "0 1\n",
      "0 3\n",
      "1 2\n",
      "2 3\n",
      "1 3\n",
      "[3, 0, 1]\n",
      "[3, 0, 1]\n"
     ]
    }
   ],
   "source": [
    "class Graph:\n",
    "    def __init__(self, nVertices):\n",
    "        self.nVertices = nVertices\n",
    "        self.adjMatrix = [[0 for i in range(nVertices)] for j in range(nVertices)]\n",
    "           \n",
    "    def addEdge(self, v1, v2):\n",
    "        self.adjMatrix[v1][v2] = 1\n",
    "        self.adjMatrix[v2][v1] = 1\n",
    "    \n",
    "    def getPath(self, v1, v2):        \n",
    "        parent = {}\n",
    "        visited = [False] * self.nVertices\n",
    "        \n",
    "        queue = []\n",
    "        queue.append(v1)\n",
    "        visited[v1] = True\n",
    "        \n",
    "        while queue:\n",
    "            front = queue.pop(0)\n",
    "                                    \n",
    "            if front == v2:\n",
    "                return parent\n",
    "            \n",
    "            for i in range(self.nVertices):\n",
    "                if self.adjMatrix[front][i] > 0 and visited[i] is False:\n",
    "                    queue.append(i)\n",
    "                    visited[i] = True\n",
    "                    parent[i] = front  \n",
    "                    \n",
    "        return None\n",
    " \n",
    "\n",
    "v, e = [int (i) for i in input().split()[:2]]\n",
    "g = Graph(v)\n",
    "\n",
    "for i in range(e):\n",
    "    a, b = [int(x) for x in input().split()[:2]]\n",
    "    g.addEdge(a, b)    \n",
    "v1, v2 = [int (r) for r in input().split()[:2]]\n",
    "\n",
    "parent = g.getPath(v1, v2)\n",
    "\n",
    "list = [v2]\n",
    "prev = parent[v2]\n",
    "list.append(prev)\n",
    "while (1):\n",
    "    prev = parent[prev]\n",
    "    list.append(prev)\n",
    "    if prev == v1:\n",
    "        break\n",
    "    \n",
    "for j in list:\n",
    "    print(j, end = \" \")\n",
    "\n",
    "\n",
    "\n"
   ]
  },
  {
   "cell_type": "code",
   "execution_count": null,
   "metadata": {},
   "outputs": [],
   "source": [
    "g = Graph(7)\n",
    "g.addEdge(0, 1)\n",
    "g.addEdge(0, 2)\n",
    "g.addEdge(0, 3)\n",
    "g.addEdge(2, 4)\n",
    "g.addEdge(4, 6)\n",
    "g.addEdge(3, 6)\n",
    "\n",
    "parent = g.getPath(0, 6)\n",
    "\n",
    "print(parent)"
   ]
  }
 ],
 "metadata": {
  "kernelspec": {
   "display_name": "Python 3",
   "language": "python",
   "name": "python3"
  },
  "language_info": {
   "codemirror_mode": {
    "name": "ipython",
    "version": 3
   },
   "file_extension": ".py",
   "mimetype": "text/x-python",
   "name": "python",
   "nbconvert_exporter": "python",
   "pygments_lexer": "ipython3",
   "version": "3.7.3"
  }
 },
 "nbformat": 4,
 "nbformat_minor": 2
}
