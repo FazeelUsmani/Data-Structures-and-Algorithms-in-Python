{
 "cells": [
  {
   "cell_type": "code",
   "execution_count": 33,
   "metadata": {},
   "outputs": [
    {
     "name": "stdout",
     "output_type": "stream",
     "text": [
      "4 4\n",
      "0 1\n",
      "0 3\n",
      "1 2\n",
      "2 3\n",
      "true\n"
     ]
    }
   ],
   "source": [
    "class Graph:\n",
    "    def __init__(self, nVertices):\n",
    "        self.nVertices = nVertices\n",
    "        self.adjMatrix = [[0 for i in range(nVertices)] for j in range(nVertices)]\n",
    "       \n",
    "    \n",
    "    def addEdge(self, v1, v2):\n",
    "        self.adjMatrix[v1][v2] = 1\n",
    "        self.adjMatrix[v2][v1] = 1\n",
    "        \n",
    "        \n",
    "    def removeEdge(self, v1, v2):\n",
    "        if self.containEdge(v1, v2) is False:\n",
    "            return\n",
    "        self.adjMatrix[v1][v2] = 0\n",
    "        self.adjMatrix[v2][v1] = 0\n",
    "        \n",
    "        \n",
    "    def containsEdge(self, v1, v2):\n",
    "        return True if self.adjMatrix[v1][v2] > 0 else False\n",
    "        \n",
    "    def __str__(self):\n",
    "        return str(self.adjMatrix)\n",
    "    \n",
    "    def __dfsHelper(self, sv, visited):\n",
    "        \n",
    "        #print(sv, end = \" \")\n",
    "        visited[sv] = True            # Marking vertex as visited\n",
    "        for i in range(self.nVertices):\n",
    "            if self.adjMatrix[sv][i] > 0 and visited[i] is False:\n",
    "                self.__dfsHelper(i, visited)\n",
    "                        \n",
    "        return visited\n",
    "        \n",
    "    \n",
    "    def dfs(self, sv):          # USing DFS for traversing all vertices of a graph\n",
    "        visited = [False for i in range(self.nVertices)]\n",
    "        return self.__dfsHelper(sv, visited)\n",
    "        \n",
    "v, e = [int (i) for i in input().split()[:2]]\n",
    "g = Graph(v)\n",
    "\n",
    "for i in range(e):\n",
    "    a, b = [int(x) for x in input().split()[:2]]\n",
    "    g.addEdge(a, b)  \n",
    "    \n",
    "visited = g.dfs(0)\n",
    "#print(visited)\n",
    "flag = True\n",
    "for j in visited:\n",
    "    if j is False:\n",
    "        flag = False\n",
    "            \n",
    "if flag:\n",
    "    print(\"true\")\n",
    "else:\n",
    "    print(\"false\")"
   ]
  },
  {
   "cell_type": "code",
   "execution_count": 34,
   "metadata": {},
   "outputs": [
    {
     "name": "stdout",
     "output_type": "stream",
     "text": [
      "[True, True, True, True, True, True, True]\n",
      "true\n"
     ]
    }
   ],
   "source": [
    "g = Graph(7)\n",
    "g.addEdge(0, 1)\n",
    "g.addEdge(0, 2)\n",
    "g.addEdge(0, 3)\n",
    "g.addEdge(2, 4)\n",
    "g.addEdge(4, 5)\n",
    "g.addEdge(3, 6)\n",
    "\n",
    "\n",
    "visited = g.dfs(0)\n",
    "print(visited)\n",
    "flag = True\n",
    "for j in visited:\n",
    "    if j is False:\n",
    "        flag = False\n",
    "            \n",
    "if flag:\n",
    "    print(\"true\")\n",
    "else:\n",
    "    print(\"false\")"
   ]
  }
 ],
 "metadata": {
  "kernelspec": {
   "display_name": "Python 3",
   "language": "python",
   "name": "python3"
  },
  "language_info": {
   "codemirror_mode": {
    "name": "ipython",
    "version": 3
   },
   "file_extension": ".py",
   "mimetype": "text/x-python",
   "name": "python",
   "nbconvert_exporter": "python",
   "pygments_lexer": "ipython3",
   "version": "3.7.3"
  }
 },
 "nbformat": 4,
 "nbformat_minor": 2
}
