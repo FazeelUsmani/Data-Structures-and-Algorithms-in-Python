{
 "cells": [
  {
   "cell_type": "markdown",
   "metadata": {},
   "source": [
    "### Trees Examples in real life scenario: File System in our computers and mobile phones\n",
    "\n",
    "Root Directory ---> can have some directories and some files -----> Each of the directory can have some more directories and files. This is how a file structure is designed. \n",
    "\n",
    "### Example 2: Company \n",
    "\n",
    "CEO ---> Managers ---> Team Leads ---> Software Engineers\n",
    "\n",
    "#### Must read: https://www.freecodecamp.org/news/all-you-need-to-know-about-tree-data-structures-bceacb85490c/\n",
    "#### Refer for indepth knowledge: http://openbookproject.net/thinkcs/python/english3e/trees.html\n",
    "\n",
    "Tree has a beautiful structure which has a root node and its nodes (may be sub trees). Usually trees which contains more than 2 nodes in it are known as \"Generic Trees\".\n",
    "\n",
    "#### Binary Trees: If each node can only have either 0, 1 or 2 nodes at pax"
   ]
  },
  {
   "cell_type": "code",
   "execution_count": null,
   "metadata": {},
   "outputs": [],
   "source": [
    "If node is a child: child1 \n",
    "                    child2 -> None\n",
    "        \n",
    "If node is a leaf:  child1 -> None\n",
    "                    child2 -> None\n",
    "    \n",
    "A binary node has its data and the adress of left and right childrens."
   ]
  },
  {
   "cell_type": "markdown",
   "metadata": {},
   "source": [
    "### Creation of a Binary Tree Node:"
   ]
  },
  {
   "cell_type": "code",
   "execution_count": 3,
   "metadata": {},
   "outputs": [],
   "source": [
    "class BinaryTreeNode:\n",
    "    def __init__(self, data):\n",
    "        self.__data = data\n",
    "        self.__left = None\n",
    "        self.__right = None   "
   ]
  },
  {
   "cell_type": "code",
   "execution_count": 5,
   "metadata": {},
   "outputs": [],
   "source": [
    "btn1 = BinaryTreeNode(1)\n",
    "btn2 = BinaryTreeNode(4)\n",
    "btn3 = BinaryTreeNode(5)\n",
    "\n",
    "btn1.left = btn2\n",
    "btn1.right = btn3"
   ]
  },
  {
   "cell_type": "markdown",
   "metadata": {},
   "source": [
    "#### A tree doesn't have any cycles. So, be careful while creating links between nodes"
   ]
  }
 ],
 "metadata": {
  "kernelspec": {
   "display_name": "Python 3",
   "language": "python",
   "name": "python3"
  },
  "language_info": {
   "codemirror_mode": {
    "name": "ipython",
    "version": 3
   },
   "file_extension": ".py",
   "mimetype": "text/x-python",
   "name": "python",
   "nbconvert_exporter": "python",
   "pygments_lexer": "ipython3",
   "version": "3.7.3"
  }
 },
 "nbformat": 4,
 "nbformat_minor": 2
}
