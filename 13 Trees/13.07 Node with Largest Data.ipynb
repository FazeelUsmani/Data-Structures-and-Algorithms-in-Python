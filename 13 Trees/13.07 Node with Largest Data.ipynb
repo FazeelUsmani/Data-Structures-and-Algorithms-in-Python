{
 "cells": [
  {
   "cell_type": "markdown",
   "metadata": {},
   "source": [
    "### Return the node with largest number:"
   ]
  },
  {
   "cell_type": "code",
   "execution_count": 4,
   "metadata": {},
   "outputs": [
    {
     "name": "stdout",
     "output_type": "stream",
     "text": [
      "8\n",
      "3\n",
      "10\n",
      "1\n",
      "6\n",
      "-1\n",
      "14\n",
      "-1\n",
      "-1\n",
      "4\n",
      "7\n",
      "13\n",
      "-1\n",
      "-1\n",
      "-1\n",
      "-1\n",
      "-1\n",
      "-1\n",
      "-1\n",
      "14\n"
     ]
    }
   ],
   "source": [
    "class BinaryTreeNode:\n",
    "    def __init__(self, data):\n",
    "        self.data = data\n",
    "        self.left = None\n",
    "        self.right = None\n",
    "           \n",
    "def treeInput():\n",
    "        \n",
    "    rootData = int(input())\n",
    "    if rootData == -1:\n",
    "        return None\n",
    "    \n",
    "    root = BinaryTreeNode(rootData)\n",
    "    root.left = treeInput()\n",
    "    root.right = treeInput()\n",
    "\n",
    "    return root\n",
    "\n",
    "def printTreeDetailed(root):\n",
    "    if root == None:\n",
    "        return\n",
    "    print(root.data, end = \":\")\n",
    "    \n",
    "    if root.left is not None:\n",
    "        print(\"L\", root.left.data, end = \",\")\n",
    "        \n",
    "    if root.right is not None:\n",
    "        print(\"R\", root.right.data, end = \" \")\n",
    "        \n",
    "    print()\n",
    "    printTreeDetailed(root.left)\n",
    "    printTreeDetailed(root.right)\n",
    "    \n",
    "def findLargest(root):\n",
    "    if root == None:\n",
    "        return -1             # Ideally return -infinity \n",
    "    \n",
    "    leftLargest = findLargest(root.left)\n",
    "    rightLargest = findLargest(root.right)\n",
    "    \n",
    "    m = max(root.data, leftLargest, rightLargest)     # Max functions works for 3 numbers as well\n",
    "    \n",
    "    return m\n",
    "\n",
    "root = treeInput()\n",
    "print(findLargest(root))\n",
    "    \n",
    "    "
   ]
  }
 ],
 "metadata": {
  "kernelspec": {
   "display_name": "Python 3",
   "language": "python",
   "name": "python3"
  },
  "language_info": {
   "codemirror_mode": {
    "name": "ipython",
    "version": 3
   },
   "file_extension": ".py",
   "mimetype": "text/x-python",
   "name": "python",
   "nbconvert_exporter": "python",
   "pygments_lexer": "ipython3",
   "version": "3.7.3"
  }
 },
 "nbformat": 4,
 "nbformat_minor": 2
}
