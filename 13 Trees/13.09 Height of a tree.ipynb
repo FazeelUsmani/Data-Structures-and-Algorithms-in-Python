{
 "cells": [
  {
   "cell_type": "markdown",
   "metadata": {},
   "source": [
    "None tree has a height 0\n",
    "\n",
    "Single node tree has a height 1"
   ]
  },
  {
   "cell_type": "code",
   "execution_count": 2,
   "metadata": {},
   "outputs": [
    {
     "name": "stdout",
     "output_type": "stream",
     "text": [
      "10\n",
      "9\n",
      "4\n",
      "-1\n",
      "-1\n",
      "5\n",
      "8\n",
      "-1\n",
      "6\n",
      "-1\n",
      "-1\n",
      "3\n",
      "-1\n",
      "-1\n",
      "-1\n",
      "5\n"
     ]
    }
   ],
   "source": [
    "import queue\n",
    "class BinaryTreeNode:\n",
    "    def __init__(self, data):\n",
    "        self.data = data\n",
    "        self.left = None\n",
    "        self.right = None\n",
    "\n",
    "def height(root):\n",
    "    if root == None:\n",
    "        return 0\n",
    "    \n",
    "    leftHeight = height(root.left)\n",
    "    rightHeight = height(root.right)\n",
    "    \n",
    "    return 1 + max(leftHeight, rightHeight)     \n",
    "    \n",
    "\n",
    "def buildLevelTree():\n",
    "    \n",
    "    root = BinaryTreeNode(int(input()))\n",
    "    q = queue.Queue()\n",
    "    q.put(root)\n",
    "    while not q.empty():\n",
    "        currentNode = q.get()\n",
    "        leftChild = int(input())\n",
    "        if leftChild != -1:\n",
    "            leftNode = BinaryTreeNode(leftChild)\n",
    "            currentNode.left =leftNode\n",
    "            q.put(leftNode)\n",
    "        rightChild = int(input())\n",
    "        if rightChild != -1:\n",
    "            rightNode = BinaryTreeNode(rightChild)\n",
    "            currentNode.right =rightNode\n",
    "            q.put(rightNode)\n",
    "    return root\n",
    "\n",
    "# Main\n",
    "root = buildLevelTree()\n",
    "print(height(root))\n",
    "\n"
   ]
  },
  {
   "cell_type": "code",
   "execution_count": null,
   "metadata": {},
   "outputs": [],
   "source": []
  }
 ],
 "metadata": {
  "kernelspec": {
   "display_name": "Python 3",
   "language": "python",
   "name": "python3"
  },
  "language_info": {
   "codemirror_mode": {
    "name": "ipython",
    "version": 3
   },
   "file_extension": ".py",
   "mimetype": "text/x-python",
   "name": "python",
   "nbconvert_exporter": "python",
   "pygments_lexer": "ipython3",
   "version": "3.7.3"
  }
 },
 "nbformat": 4,
 "nbformat_minor": 2
}
