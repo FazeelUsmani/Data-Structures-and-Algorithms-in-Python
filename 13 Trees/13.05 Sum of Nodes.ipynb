{
 "cells": [
  {
   "cell_type": "code",
   "execution_count": 2,
   "metadata": {},
   "outputs": [
    {
     "name": "stdout",
     "output_type": "stream",
     "text": [
      "5\n",
      "6\n",
      "10\n",
      "2\n",
      "3\n",
      "-1\n",
      "-1\n",
      "-1\n",
      "-1\n",
      "-1\n",
      "9\n",
      "-1\n",
      "-1\n",
      "No. of nodes are  6\n",
      "Sum of nodes is  35\n"
     ]
    }
   ],
   "source": [
    "class BinaryTreeNode:\n",
    "    def __init__(self, data):\n",
    "        self.data = data\n",
    "        self.left = None\n",
    "        self.right = None\n",
    "        \n",
    "def printTreeDetailed(root):\n",
    "    if root == None:\n",
    "        return\n",
    "    print(root.data, end = \":\")\n",
    "    \n",
    "    if root.left is not None:\n",
    "        print(root.left.data, end = \",\")\n",
    "        \n",
    "    if root.right is not None:\n",
    "        print(root.right.data, end = \" \")\n",
    "        \n",
    "    print()\n",
    "    printTreeDetailed(root.left)\n",
    "    printTreeDetailed(root.right)\n",
    "    \n",
    "def treeInput():\n",
    "        \n",
    "    rootData = int(input())\n",
    "    if rootData == -1:\n",
    "        return None\n",
    "    \n",
    "    root = BinaryTreeNode(rootData)\n",
    "    leftTree = treeInput()\n",
    "    rightTree = treeInput()\n",
    "    root.left = leftTree\n",
    "    root.right = rightTree\n",
    "\n",
    "    return root\n",
    "\n",
    "def numNodes(root):\n",
    "    if root == None:\n",
    "        return 0\n",
    "    leftCount = numNodes(root.left)\n",
    "    rightCount = numNodes(root.right)\n",
    "    \n",
    "    return 1 + leftCount + rightCount      # Why 1?\n",
    "           # If you don't add 1 then you'll get the result as 0 no matter how many nodes are there in a tree\n",
    "\n",
    "def sumOfNodes(root):\n",
    "    if root == None:\n",
    "        return 0\n",
    "    leftSum = sumOfNodes(root.left)\n",
    "    rightSum = sumOfNodes(root.right)\n",
    "    \n",
    "    return root.data + leftSum + rightSum       # As simple as that.... $$Thug Life$$\n",
    "    \n",
    "\n",
    "root = treeInput()\n",
    "print(\"No. of nodes are \", numNodes(root))\n",
    "print(\"Sum of nodes is \", sumOfNodes(root))   "
   ]
  },
  {
   "cell_type": "code",
   "execution_count": null,
   "metadata": {},
   "outputs": [],
   "source": []
  }
 ],
 "metadata": {
  "kernelspec": {
   "display_name": "Python 3",
   "language": "python",
   "name": "python3"
  },
  "language_info": {
   "codemirror_mode": {
    "name": "ipython",
    "version": 3
   },
   "file_extension": ".py",
   "mimetype": "text/x-python",
   "name": "python",
   "nbconvert_exporter": "python",
   "pygments_lexer": "ipython3",
   "version": "3.7.3"
  }
 },
 "nbformat": 4,
 "nbformat_minor": 2
}
