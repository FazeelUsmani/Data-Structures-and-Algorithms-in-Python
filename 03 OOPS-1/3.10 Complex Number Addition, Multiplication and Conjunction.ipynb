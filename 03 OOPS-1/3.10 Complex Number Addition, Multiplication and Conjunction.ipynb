{
 "cells": [
  {
   "cell_type": "code",
   "execution_count": 75,
   "metadata": {},
   "outputs": [],
   "source": [
    "class cNumber:\n",
    "    def __init__(self, real, imag):\n",
    "        self.real = real\n",
    "        self.imag = imag\n",
    "    \n",
    "    def print(self):\n",
    "        if self.imag < 0:\n",
    "            print(self.real, '- i', end = \"\")\n",
    "            print(self.imag* -1)\n",
    "        else:\n",
    "            print(self.real, '+ i', end = \"\")\n",
    "            print(self.imag)\n",
    "              \n",
    "    def add(self, otherNumber):\n",
    "        newReal = self.real + otherNumber.real\n",
    "        newImag = self.imag + otherNumber.imag\n",
    "        self.real = newReal\n",
    "        self.imag = newImag\n",
    "    \n",
    "    def multiply(self, otherNumber):\n",
    "        newReal = self.real * otherNumber.real - self.imag * otherNumber.imag\n",
    "        newImag = self.imag * otherNumber.real + self.real * otherNumber.imag\n",
    "        self.real = newReal\n",
    "        self.imag = newImag\n",
    "    \n",
    "    def conjunction(self):        # Conjunction returns 'a - ib' for the input 'a + ib'\n",
    "        self.real = self.real\n",
    "        self.imag = self.imag * -1\n",
    "    "
   ]
  },
  {
   "cell_type": "code",
   "execution_count": 76,
   "metadata": {},
   "outputs": [],
   "source": [
    "c1 = cNumber(4,5)\n",
    "c2 = cNumber(1,2)"
   ]
  },
  {
   "cell_type": "code",
   "execution_count": 77,
   "metadata": {},
   "outputs": [
    {
     "name": "stdout",
     "output_type": "stream",
     "text": [
      "5 + i7\n"
     ]
    }
   ],
   "source": [
    "c1.add(c2)\n",
    "c1.print()"
   ]
  },
  {
   "cell_type": "code",
   "execution_count": 78,
   "metadata": {},
   "outputs": [
    {
     "name": "stdout",
     "output_type": "stream",
     "text": [
      "-9 + i17\n"
     ]
    }
   ],
   "source": [
    "c1.multiply(c2)\n",
    "c1.print()"
   ]
  },
  {
   "cell_type": "code",
   "execution_count": 74,
   "metadata": {},
   "outputs": [
    {
     "name": "stdout",
     "output_type": "stream",
     "text": [
      "2 - i3\n"
     ]
    }
   ],
   "source": [
    "c3 = cNumber(2,3)\n",
    "c3.conjunction()\n",
    "c3.print()"
   ]
  },
  {
   "cell_type": "code",
   "execution_count": null,
   "metadata": {},
   "outputs": [],
   "source": []
  }
 ],
 "metadata": {
  "kernelspec": {
   "display_name": "Python 3",
   "language": "python",
   "name": "python3"
  },
  "language_info": {
   "codemirror_mode": {
    "name": "ipython",
    "version": 3
   },
   "file_extension": ".py",
   "mimetype": "text/x-python",
   "name": "python",
   "nbconvert_exporter": "python",
   "pygments_lexer": "ipython3",
   "version": "3.7.3"
  }
 },
 "nbformat": 4,
 "nbformat_minor": 2
}
