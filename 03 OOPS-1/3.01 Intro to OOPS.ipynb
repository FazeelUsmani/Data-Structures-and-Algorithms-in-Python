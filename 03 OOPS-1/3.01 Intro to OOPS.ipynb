{
 "cells": [
  {
   "cell_type": "markdown",
   "metadata": {},
   "source": [
    "#### Basic idea behind OOP \n",
    "\n",
    "batch.giveAdmission(student)\n",
    "\n",
    "batch --> object\n",
    "\n",
    "giveAdmission --> function\n",
    "\n",
    "student --> an argument\n",
    "\n",
    "We have classes and objects:\n",
    "\n",
    "Objects like batch, student and so on and so forth\n",
    "\n",
    "There may have lots of batches and students\n",
    "\n",
    "** Class is basically a template\n",
    "\n",
    "** Object is the instance of the class\n",
    "\n"
   ]
  }
 ],
 "metadata": {
  "kernelspec": {
   "display_name": "Python 3",
   "language": "python",
   "name": "python3"
  },
  "language_info": {
   "codemirror_mode": {
    "name": "ipython",
    "version": 3
   },
   "file_extension": ".py",
   "mimetype": "text/x-python",
   "name": "python",
   "nbconvert_exporter": "python",
   "pygments_lexer": "ipython3",
   "version": "3.7.3"
  }
 },
 "nbformat": 4,
 "nbformat_minor": 2
}
