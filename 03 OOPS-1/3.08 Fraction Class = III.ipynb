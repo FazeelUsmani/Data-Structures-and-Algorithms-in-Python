{
 "cells": [
  {
   "cell_type": "code",
   "execution_count": 37,
   "metadata": {},
   "outputs": [],
   "source": [
    "class Fraction:\n",
    "    def __init__(self, num = 0, den = 1):\n",
    "        if den == 0: \n",
    "            #Throw error\n",
    "            den = 1\n",
    "            \n",
    "        self.num = num\n",
    "        self.den = den\n",
    "        \n",
    "    def print(self):\n",
    "        if self.num == 0:\n",
    "            print(0)\n",
    "        elif self.den == 1:\n",
    "            print(self.num)\n",
    "        else:\n",
    "            print(self.num, '/', self.den)\n",
    "    def simplify(self):\n",
    "        if self.num == 0:\n",
    "            self.den == 1\n",
    "            return\n",
    "        current = min(self.num, self.den)\n",
    "        while current > 1:\n",
    "            if self.num % current == 0 and self.den % current == 0:\n",
    "                break\n",
    "            current -= 1\n",
    "        self.num = self.num//current\n",
    "        self.den = self.den//current\n",
    "    \n",
    "    def add(self, otherFraction):\n",
    "        newNumerator = otherFraction.den*self.num + otherFraction.num*self.den    # bx + ay\n",
    "        newDenominator = otherFraction.den * self.den                             # b*y \n",
    "        \n",
    "        self.num = newNumerator\n",
    "        self.den = newDenominator\n",
    "        self.simplify()\n",
    "        \n",
    "    def multiply(self, otherFraction):\n",
    "        newNumerator = otherFraction.num * self.num \n",
    "        newDenominator = otherFraction.den * self.den\n",
    "        self.num = newNumerator\n",
    "        self.den = newDenominator\n",
    "        self.simplify()\n",
    "        \n",
    "        "
   ]
  },
  {
   "cell_type": "code",
   "execution_count": 41,
   "metadata": {},
   "outputs": [],
   "source": [
    "f1 = Fraction(7,3)\n",
    "f2 = Fraction(1)"
   ]
  },
  {
   "cell_type": "markdown",
   "metadata": {},
   "source": [
    "### x/y + a/b = (b*x + a*y) / b*y"
   ]
  },
  {
   "cell_type": "code",
   "execution_count": 43,
   "metadata": {},
   "outputs": [
    {
     "name": "stdout",
     "output_type": "stream",
     "text": [
      "10 / 3\n"
     ]
    }
   ],
   "source": [
    "f1.add(f2)            # 2/5 + 1/3 = 6+5/15 = 11/15\n",
    "f1.print() "
   ]
  },
  {
   "cell_type": "code",
   "execution_count": 42,
   "metadata": {},
   "outputs": [
    {
     "name": "stdout",
     "output_type": "stream",
     "text": [
      "7 / 3\n"
     ]
    }
   ],
   "source": [
    "f1.multiply(f2)\n",
    "f1.print()"
   ]
  },
  {
   "cell_type": "code",
   "execution_count": null,
   "metadata": {},
   "outputs": [],
   "source": []
  }
 ],
 "metadata": {
  "kernelspec": {
   "display_name": "Python 3",
   "language": "python",
   "name": "python3"
  },
  "language_info": {
   "codemirror_mode": {
    "name": "ipython",
    "version": 3
   },
   "file_extension": ".py",
   "mimetype": "text/x-python",
   "name": "python",
   "nbconvert_exporter": "python",
   "pygments_lexer": "ipython3",
   "version": "3.7.3"
  }
 },
 "nbformat": 4,
 "nbformat_minor": 2
}
