{
 "cells": [
  {
   "cell_type": "code",
   "execution_count": 1,
   "metadata": {},
   "outputs": [
    {
     "name": "stdout",
     "output_type": "stream",
     "text": [
      "4 5\n",
      "1 2\n",
      "1\n",
      "5 + i7\n"
     ]
    }
   ],
   "source": [
    "# Based on the assignment\n",
    "\n",
    "class cNumber:\n",
    "    def __init__(self, real, imag):\n",
    "        self.real = real\n",
    "        self.imag = imag\n",
    "    \n",
    "    def print(self):\n",
    "        print(self.real, '+ i', end = \"\")\n",
    "        print(self.imag)\n",
    "              \n",
    "    def add(self, otherNumber):\n",
    "        newReal = self.real + otherNumber.real\n",
    "        newImag = self.imag + otherNumber.imag\n",
    "        self.real = newReal\n",
    "        self.imag = newImag\n",
    "        self.print()\n",
    "    \n",
    "    def multiply(self, otherNumber):\n",
    "        newReal = self.real * otherNumber.real - self.imag * otherNumber.imag\n",
    "        newImag = self.imag * otherNumber.real + self.real * otherNumber.imag\n",
    "        self.real = newReal\n",
    "        self.imag = newImag\n",
    "        self.print()\n",
    "\n",
    "str1 = input().split()\n",
    "str2 = input().split()\n",
    "\n",
    "a,b = int(str1[0]), int(str1[1])\n",
    "c,d = int(str2[0]), int(str2[1])\n",
    "operation = int(input())          #1-addition | 2-multiplication\n",
    "\n",
    "c1 = cNumber(a,b)\n",
    "c2 = cNumber(c,d)\n",
    "\n",
    "if operation == 1:\n",
    "  c1.add(c2)\n",
    "elif operation == 2:\n",
    "  c1.multiply(c2)\n",
    "\n"
   ]
  },
  {
   "cell_type": "code",
   "execution_count": null,
   "metadata": {},
   "outputs": [],
   "source": []
  }
 ],
 "metadata": {
  "kernelspec": {
   "display_name": "Python 3",
   "language": "python",
   "name": "python3"
  },
  "language_info": {
   "codemirror_mode": {
    "name": "ipython",
    "version": 3
   },
   "file_extension": ".py",
   "mimetype": "text/x-python",
   "name": "python",
   "nbconvert_exporter": "python",
   "pygments_lexer": "ipython3",
   "version": "3.7.3"
  }
 },
 "nbformat": 4,
 "nbformat_minor": 2
}
