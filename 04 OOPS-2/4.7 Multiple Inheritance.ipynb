{
 "cells": [
  {
   "cell_type": "markdown",
   "metadata": {},
   "source": [
    "#### Multiple Inheritance: Two base classes inheriting their properties to a child class\n",
    "Ex: Mother, Father (Base classes) and their child (child class)"
   ]
  },
  {
   "cell_type": "code",
   "execution_count": 2,
   "metadata": {},
   "outputs": [
    {
     "name": "stdout",
     "output_type": "stream",
     "text": [
      "Name of child is  Fazeel\n",
      "Print of Father called\n"
     ]
    }
   ],
   "source": [
    "class Mother:\n",
    "    \n",
    "    def print(self):\n",
    "        \n",
    "        print('Print of Mother called')\n",
    "        \n",
    "class Father: \n",
    "    \n",
    "    def print(self):\n",
    "        \n",
    "        print(\"Print of Father called\")\n",
    "    \n",
    "class Child(Father, Mother):     \n",
    "    \n",
    "    def __init__(self, name):\n",
    "        self.name = name\n",
    "        \n",
    "    def printChild(self):\n",
    "        print(\"Name of child is \", self.name)\n",
    "        \n",
    "c = Child(\"Fazeel\")\n",
    "c.printChild()\n",
    "c.print()"
   ]
  },
  {
   "cell_type": "code",
   "execution_count": 4,
   "metadata": {},
   "outputs": [
    {
     "name": "stdout",
     "output_type": "stream",
     "text": [
      "Name of child is  Fazeel\n",
      "Print of Mother called\n"
     ]
    }
   ],
   "source": [
    "class Mother:\n",
    "    \n",
    "    def print(self):\n",
    "        \n",
    "        print('Print of Mother called')\n",
    "        \n",
    "class Father: \n",
    "    \n",
    "    def print(self):\n",
    "        \n",
    "        print(\"Print of Father called\")\n",
    "    \n",
    "class Child(Mother, Father):     \n",
    "    \n",
    "    def __init__(self, name):\n",
    "        self.name = name\n",
    "        \n",
    "    def printChild(self):\n",
    "        print(\"Name of child is \", self.name)\n",
    "        \n",
    "c = Child(\"Fazeel\")\n",
    "c.printChild()\n",
    "c.print()"
   ]
  },
  {
   "cell_type": "markdown",
   "metadata": {},
   "source": [
    "** In the above examples, you can see the output depends on the order of inheritance"
   ]
  },
  {
   "cell_type": "code",
   "execution_count": 10,
   "metadata": {},
   "outputs": [
    {
     "name": "stdout",
     "output_type": "stream",
     "text": [
      "Name of child is  Usmani\n"
     ]
    }
   ],
   "source": [
    "class Mother:\n",
    "    \n",
    "    def __init__(self):\n",
    "        self.name = \"Usmani\"\n",
    "    \n",
    "    def print(self):\n",
    "        print('Print of Mother called')\n",
    "        \n",
    "class Father: \n",
    "    \n",
    "    def __init__(self):\n",
    "        self.name = \"Abdulla\"\n",
    "    \n",
    "    def print(self):\n",
    "        print(\"Print of Father called\")\n",
    "    \n",
    "class Child(Mother, Father):     \n",
    "    \n",
    "    def __init__(self):\n",
    "        super().__init__()\n",
    "        \n",
    "    def printChild(self):\n",
    "        print(\"Name of child is \", self.name)\n",
    "        \n",
    "c = Child()\n",
    "c.printChild()"
   ]
  },
  {
   "cell_type": "code",
   "execution_count": 12,
   "metadata": {},
   "outputs": [
    {
     "name": "stdout",
     "output_type": "stream",
     "text": [
      "init of B called\n"
     ]
    }
   ],
   "source": [
    "class A:\n",
    "\n",
    "    def __init__(self):\n",
    "        print(\"init of A called\")\n",
    "class B:\n",
    "    def __init__(self):\n",
    "        print(\"init of B called\")\n",
    "\n",
    "class C(B,A):\n",
    "    def __init__(self):\n",
    "        super().__init__()\n",
    "\n",
    "c = C()"
   ]
  },
  {
   "cell_type": "code",
   "execution_count": null,
   "metadata": {},
   "outputs": [],
   "source": []
  }
 ],
 "metadata": {
  "kernelspec": {
   "display_name": "Python 3",
   "language": "python",
   "name": "python3"
  },
  "language_info": {
   "codemirror_mode": {
    "name": "ipython",
    "version": 3
   },
   "file_extension": ".py",
   "mimetype": "text/x-python",
   "name": "python",
   "nbconvert_exporter": "python",
   "pygments_lexer": "ipython3",
   "version": "3.7.3"
  }
 },
 "nbformat": 4,
 "nbformat_minor": 2
}
