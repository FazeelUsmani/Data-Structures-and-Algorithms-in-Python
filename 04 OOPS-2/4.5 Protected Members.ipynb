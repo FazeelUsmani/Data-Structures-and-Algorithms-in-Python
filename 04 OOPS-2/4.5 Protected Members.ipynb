{
 "cells": [
  {
   "cell_type": "markdown",
   "metadata": {},
   "source": [
    "#### Protected Members:\n",
    "There is no difference between public and protected members in Python. Just it is used for our understanding and it's a very bad practice to change the values of protected variables in a sub class. Protected variables are started with '_' (single underscore) [which is for our interpretation only].\n",
    "\n",
    "_ --> Protected variables\n",
    "__ --> Private variables\n",
    "\n",
    "\n",
    "It should be used in the concept of sub classes like Inheritance"
   ]
  },
  {
   "cell_type": "markdown",
   "metadata": {},
   "source": [
    "### Programmers are Sensible\n",
    "--> Don't try to change the value of protected members in sub classes. You can perform then there will be no difference between public and protected then. It is for our (programmer's) assumption and not for Python compiler."
   ]
  },
  {
   "cell_type": "code",
   "execution_count": 4,
   "metadata": {},
   "outputs": [
    {
     "name": "stdout",
     "output_type": "stream",
     "text": [
      "Color :  red\n",
      "MaxSpeed : 35\n",
      "NumGears : 5\n",
      "IsConvertible : False\n",
      "_____________________________\n",
      "Color :  green\n",
      "MaxSpeed : 98\n",
      "Color :  green\n",
      "MaxSpeed : 120\n"
     ]
    }
   ],
   "source": [
    "class Vehicle:\n",
    "    \n",
    "    def __init__(self, color, maxSpeed):\n",
    "        self.color = color\n",
    "        self._maxSpeed = maxSpeed    #Making maxSpeed as protected using '_' before the memeber\n",
    "    \n",
    "    def getMaxSpeed(self):            #get method is a public function\n",
    "        return self._maxSpeed\n",
    "    \n",
    "    def setMaxSpeed(self, maxSpeed):  #set method is a public function\n",
    "        self._maxSpeed = maxSpeed\n",
    "        \n",
    "    def print(self):                            #Another way of accessing printing private members --> printing within a class\n",
    "        print(\"Color : \",self.color)\n",
    "        print(\"MaxSpeed :\", self._maxSpeed)\n",
    "\n",
    "class Car(Vehicle):\n",
    "    \n",
    "    def __init__(self, color, maxSpeed, numGears, isConvertible):\n",
    "        \n",
    "        super().__init__(color, maxSpeed) #Inheriting from vehicle class       \n",
    "        self.numGears = numGears          #Passing via arguments in car class\n",
    "        self.isConvertible = isConvertible \n",
    "        \n",
    "    def print(self): \n",
    "        #super().print()                 #Here there is only one print() and we can use self or super in this example.\n",
    "        print(\"Color : \",self.color)\n",
    "        print(\"MaxSpeed :\", self._maxSpeed)\n",
    "        print(\"NumGears :\", self.numGears)\n",
    "        print(\"IsConvertible :\", self.isConvertible)\n",
    "        \n",
    "c = Car(\"red\", 35, 5, False)\n",
    "c.print()\n",
    "\n",
    "print(\"_____________________________\")\n",
    "\n",
    "v = Vehicle(\"green\", 98)\n",
    "v.print()\n",
    "v._maxSpeed = 120            #We can change the speed of a protected member function\n",
    "v.print()"
   ]
  },
  {
   "cell_type": "code",
   "execution_count": null,
   "metadata": {},
   "outputs": [],
   "source": []
  }
 ],
 "metadata": {
  "kernelspec": {
   "display_name": "Python 3",
   "language": "python",
   "name": "python3"
  },
  "language_info": {
   "codemirror_mode": {
    "name": "ipython",
    "version": 3
   },
   "file_extension": ".py",
   "mimetype": "text/x-python",
   "name": "python",
   "nbconvert_exporter": "python",
   "pygments_lexer": "ipython3",
   "version": "3.7.3"
  }
 },
 "nbformat": 4,
 "nbformat_minor": 2
}
