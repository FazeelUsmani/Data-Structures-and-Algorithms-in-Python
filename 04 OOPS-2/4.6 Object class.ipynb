{
 "cells": [
  {
   "cell_type": "markdown",
   "metadata": {},
   "source": [
    "#### By default, every class is inherited from Object class.\n",
    "\n",
    "There are 3 methods in object class:\n",
    "\n",
    "1) __new__ --> create new object. Used to override an object\n",
    "\n",
    "2) __init__ --> We use it in every class\n",
    "\n",
    "3) __str__  --> Used to give the description of a class\n",
    "\n"
   ]
  },
  {
   "cell_type": "code",
   "execution_count": 1,
   "metadata": {},
   "outputs": [
    {
     "name": "stdout",
     "output_type": "stream",
     "text": [
      "<__main__.Circle object at 0x000001D0C67B0390>\n"
     ]
    }
   ],
   "source": [
    "class Circle(object):\n",
    "    \n",
    "    def __init__(self, radius):\n",
    "        self.__radius = radius\n",
    "        \n",
    "c = Circle(3)\n",
    "print(c)"
   ]
  },
  {
   "cell_type": "code",
   "execution_count": 3,
   "metadata": {},
   "outputs": [
    {
     "name": "stdout",
     "output_type": "stream",
     "text": [
      "This is a Circle class which takes radius as an argument\n"
     ]
    }
   ],
   "source": [
    "# If you need description of the class the use __str__()\n",
    "class Circle(object):\n",
    "    \n",
    "    def __init__(self, radius):\n",
    "        self.__radius = radius\n",
    "        \n",
    "    def __str__(self):\n",
    "        return \"This is a Circle class which takes radius as an argument\"\n",
    "        \n",
    "c = Circle(3)\n",
    "print(c)"
   ]
  },
  {
   "cell_type": "code",
   "execution_count": 6,
   "metadata": {},
   "outputs": [
    {
     "name": "stdout",
     "output_type": "stream",
     "text": [
      "This is a Circle Class\n"
     ]
    }
   ],
   "source": [
    "#Predict the output:\n",
    "class Circle(object):\n",
    "    def __str__(self):\n",
    "        return \"This is a Circle Class\"\n",
    "    \n",
    "c = Circle()\n",
    "print(c)"
   ]
  },
  {
   "cell_type": "code",
   "execution_count": null,
   "metadata": {},
   "outputs": [],
   "source": []
  }
 ],
 "metadata": {
  "kernelspec": {
   "display_name": "Python 3",
   "language": "python",
   "name": "python3"
  },
  "language_info": {
   "codemirror_mode": {
    "name": "ipython",
    "version": 3
   },
   "file_extension": ".py",
   "mimetype": "text/x-python",
   "name": "python",
   "nbconvert_exporter": "python",
   "pygments_lexer": "ipython3",
   "version": "3.7.3"
  }
 },
 "nbformat": 4,
 "nbformat_minor": 2
}
