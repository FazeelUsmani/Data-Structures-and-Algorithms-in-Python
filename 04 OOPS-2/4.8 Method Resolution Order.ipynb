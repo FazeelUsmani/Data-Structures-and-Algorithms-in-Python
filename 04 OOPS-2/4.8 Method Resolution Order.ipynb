{
 "cells": [
  {
   "cell_type": "markdown",
   "metadata": {},
   "source": [
    "#### MRO - Method Resolution Order"
   ]
  },
  {
   "cell_type": "code",
   "execution_count": 4,
   "metadata": {},
   "outputs": [
    {
     "name": "stdout",
     "output_type": "stream",
     "text": [
      "Name of child is  Usmani\n",
      "[<class '__main__.Child'>, <class '__main__.Mother'>, <class '__main__.Father'>, <class 'object'>]\n"
     ]
    }
   ],
   "source": [
    "class Mother:\n",
    "    \n",
    "    def __init__(self):\n",
    "        self.name = \"Usmani\"\n",
    "    \n",
    "    def print(self):\n",
    "        print('Print of Mother called')\n",
    "        \n",
    "class Father: \n",
    "    \n",
    "    def __init__(self):\n",
    "        self.name = \"Abdulla\"\n",
    "    \n",
    "    def print(self):\n",
    "        print(\"Print of Father called\")\n",
    "    \n",
    "class Child(Mother, Father):     \n",
    "    \n",
    "    def __init__(self):\n",
    "        super().__init__()\n",
    "        \n",
    "    def print(self):\n",
    "        print(\"Name of child is \", self.name)\n",
    "        \n",
    "c = Child()\n",
    "c.print()\n",
    "print(Child.mro())"
   ]
  },
  {
   "cell_type": "code",
   "execution_count": 6,
   "metadata": {},
   "outputs": [
    {
     "name": "stdout",
     "output_type": "stream",
     "text": [
      "Name of child is  Abdulla\n",
      "[<class '__main__.Child'>, <class '__main__.Mother'>, <class '__main__.Father'>, <class 'object'>]\n"
     ]
    }
   ],
   "source": [
    "class Mother:\n",
    "    \n",
    "    def __init__(self):\n",
    "        self.name = \"Usmani\"\n",
    "        super().__init__()    # name of child is changed to Abdulla\n",
    "    \n",
    "    def print(self):\n",
    "        print('Print of Mother called')\n",
    "        \n",
    "class Father: \n",
    "    \n",
    "    def __init__(self):\n",
    "        self.name = \"Abdulla\"\n",
    "        super().__init__()   # It will go to object and nothing will happen\n",
    "    \n",
    "    def print(self):\n",
    "        print(\"Print of Father called\")\n",
    "    \n",
    "class Child(Mother, Father):     \n",
    "    \n",
    "    def __init__(self):\n",
    "        super().__init__()\n",
    "        \n",
    "    def print(self):\n",
    "        print(\"Name of child is \", self.name)\n",
    "        \n",
    "c = Child()\n",
    "c.print()\n",
    "print(Child.mro())"
   ]
  },
  {
   "cell_type": "code",
   "execution_count": null,
   "metadata": {},
   "outputs": [],
   "source": []
  }
 ],
 "metadata": {
  "kernelspec": {
   "display_name": "Python 3",
   "language": "python",
   "name": "python3"
  },
  "language_info": {
   "codemirror_mode": {
    "name": "ipython",
    "version": 3
   },
   "file_extension": ".py",
   "mimetype": "text/x-python",
   "name": "python",
   "nbconvert_exporter": "python",
   "pygments_lexer": "ipython3",
   "version": "3.7.3"
  }
 },
 "nbformat": 4,
 "nbformat_minor": 2
}
