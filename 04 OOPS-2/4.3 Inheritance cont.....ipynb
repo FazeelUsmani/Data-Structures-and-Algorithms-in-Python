{
 "cells": [
  {
   "cell_type": "markdown",
   "metadata": {},
   "source": [
    "### Parent class and sub class have a same method with same number of arguments and when you call that method from sub class then which method will be called? "
   ]
  },
  {
   "cell_type": "code",
   "execution_count": 6,
   "metadata": {},
   "outputs": [
    {
     "name": "stdout",
     "output_type": "stream",
     "text": [
      "NumGears : 5\n",
      "IsConvertible : False\n"
     ]
    }
   ],
   "source": [
    "class Vehicle:\n",
    "    \n",
    "    def __init__(self, color, maxSpeed):\n",
    "        self.color = color\n",
    "        self.__maxSpeed = maxSpeed    #Making maxSpeed as private using '__' before the memeber\n",
    "    \n",
    "    def getMaxSpeed(self):            #get method is a public function\n",
    "        return self.__maxSpeed\n",
    "    \n",
    "    def setMaxSpeed(self, maxSpeed):  #set method is a public function\n",
    "        self.__maxSpeed = maxSpeed\n",
    "        \n",
    "    def print(self):                            #Another way of accessing printing private members --> printing within a class\n",
    "        print(\"Color : \",self.color)\n",
    "        print(\"MaxSpeed :\", self.__maxSpeed)\n",
    "\n",
    "class Car(Vehicle):\n",
    "    \n",
    "    def __init__(self, color, maxSpeed, numGears, isConvertible):\n",
    "        \n",
    "        super().__init__(color, maxSpeed) #Inheriting from vehicle class       \n",
    "        self.numGears = numGears          #Passing via arguments in car class\n",
    "        self.isConvertible = isConvertible \n",
    "        \n",
    "    def print(self):\n",
    "        print(\"NumGears :\", self.numGears)\n",
    "        print(\"IsConvertible :\", self.isConvertible)\n",
    "        \n",
    "c = Car(\"red\", 35, 5, False)\n",
    "c.print()   #Car print() is printed"
   ]
  },
  {
   "cell_type": "markdown",
   "metadata": {},
   "source": [
    "** Eventhough the print() is available in both Vehicle and Car class, print() of Car (derived class) got executed because it's called from derived class"
   ]
  },
  {
   "cell_type": "markdown",
   "metadata": {},
   "source": [
    "### Ans) First it checks the child class in which the print() is called if it's not there then the control goes to its parent class if it's not there then the control goes to it's parent class and so on and so forth"
   ]
  },
  {
   "cell_type": "code",
   "execution_count": 7,
   "metadata": {},
   "outputs": [
    {
     "name": "stdout",
     "output_type": "stream",
     "text": [
      "Color :  red\n",
      "MaxSpeed : 35\n"
     ]
    }
   ],
   "source": [
    "class Vehicle:\n",
    "    \n",
    "    def __init__(self, color, maxSpeed):\n",
    "        self.color = color\n",
    "        self.__maxSpeed = maxSpeed    #Making maxSpeed as private using '__' before the memeber\n",
    "    \n",
    "    def getMaxSpeed(self):            #get method is a public function\n",
    "        return self.__maxSpeed\n",
    "    \n",
    "    def setMaxSpeed(self, maxSpeed):  #set method is a public function\n",
    "        self.__maxSpeed = maxSpeed\n",
    "        \n",
    "    def print(self):                            #Another way of accessing printing private members --> printing within a class\n",
    "        print(\"Color : \",self.color)\n",
    "        print(\"MaxSpeed :\", self.__maxSpeed)\n",
    "\n",
    "class Car(Vehicle):\n",
    "    \n",
    "    def __init__(self, color, maxSpeed, numGears, isConvertible):\n",
    "        \n",
    "        super().__init__(color, maxSpeed) #Inheriting from vehicle class       \n",
    "        self.numGears = numGears          #Passing via arguments in car class\n",
    "        self.isConvertible = isConvertible \n",
    "        \n",
    "       \n",
    "c = Car(\"red\", 35, 5, False)\n",
    "c.print()   #Car print() is printed"
   ]
  },
  {
   "cell_type": "markdown",
   "metadata": {},
   "source": [
    "** Here in the above example there is no print() in derived class so the control goes to its parent class and the print() got executed"
   ]
  },
  {
   "cell_type": "code",
   "execution_count": null,
   "metadata": {},
   "outputs": [],
   "source": []
  }
 ],
 "metadata": {
  "kernelspec": {
   "display_name": "Python 3",
   "language": "python",
   "name": "python3"
  },
  "language_info": {
   "codemirror_mode": {
    "name": "ipython",
    "version": 3
   },
   "file_extension": ".py",
   "mimetype": "text/x-python",
   "name": "python",
   "nbconvert_exporter": "python",
   "pygments_lexer": "ipython3",
   "version": "3.7.3"
  }
 },
 "nbformat": 4,
 "nbformat_minor": 2
}
