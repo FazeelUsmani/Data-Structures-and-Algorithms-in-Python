{
 "cells": [
  {
   "cell_type": "markdown",
   "metadata": {},
   "source": [
    "1 + 2 = 3\n",
    "\n",
    "\"Faz\" + \"eel\" --> \"Fazeel\"\n",
    "\n",
    "p = point(1,2)      p1 = point(3,4)\n",
    "\n",
    "point <-- (4,6)\n",
    "\n",
    "p2 = p + p1"
   ]
  },
  {
   "cell_type": "code",
   "execution_count": 1,
   "metadata": {},
   "outputs": [
    {
     "name": "stdout",
     "output_type": "stream",
     "text": [
      "This point is at (5,7)\n"
     ]
    }
   ],
   "source": [
    "class Point:\n",
    "    \n",
    "    def __init__(self, x, y):\n",
    "        self.__x = x\n",
    "        self.__y = y\n",
    "        \n",
    "    def __str__(self):\n",
    "        return \"This point is at (\" + str(self.__x)+\",\" + str(self.__y) + \")\"\n",
    "    \n",
    "    def __add__(self, point_object):\n",
    "        return Point(self.__x + point_object.__x, self.__y + point_object.__y)\n",
    "    \n",
    "p1 = Point(1,2)\n",
    "p2 = Point(4,5)\n",
    "p3 = p1 + p2\n",
    "print(p3)\n",
    "\n"
   ]
  },
  {
   "cell_type": "code",
   "execution_count": 6,
   "metadata": {},
   "outputs": [
    {
     "name": "stdout",
     "output_type": "stream",
     "text": [
      "This point is at (5,7)\n",
      "True\n",
      "False\n"
     ]
    }
   ],
   "source": [
    "import math\n",
    "class Point:\n",
    "    \n",
    "    def __init__(self, x, y):\n",
    "        self.__x = x\n",
    "        self.__y = y\n",
    "        \n",
    "    def __str__(self):\n",
    "        return \"This point is at (\" + str(self.__x)+\",\" + str(self.__y) + \")\"\n",
    "    \n",
    "    def __add__(self, point_object):\n",
    "        return Point(self.__x + point_object.__x, self.__y + point_object.__y)\n",
    "    \n",
    "    def __lt__(self, point_object):\n",
    "        return math.sqrt(self.__x**2 + self.__y**2) < math.sqrt(point_object.__x**2 + point_object.__y**2)\n",
    "p1 = Point(1,2)\n",
    "p2 = Point(4,5)\n",
    "p3 = p1 + p2\n",
    "print(p3)\n",
    "p4 = p1 < p2\n",
    "print(p4)\n",
    "print(p2 < p1)\n"
   ]
  },
  {
   "cell_type": "code",
   "execution_count": null,
   "metadata": {},
   "outputs": [],
   "source": []
  }
 ],
 "metadata": {
  "kernelspec": {
   "display_name": "Python 3",
   "language": "python",
   "name": "python3"
  },
  "language_info": {
   "codemirror_mode": {
    "name": "ipython",
    "version": 3
   },
   "file_extension": ".py",
   "mimetype": "text/x-python",
   "name": "python",
   "nbconvert_exporter": "python",
   "pygments_lexer": "ipython3",
   "version": "3.7.3"
  }
 },
 "nbformat": 4,
 "nbformat_minor": 2
}
