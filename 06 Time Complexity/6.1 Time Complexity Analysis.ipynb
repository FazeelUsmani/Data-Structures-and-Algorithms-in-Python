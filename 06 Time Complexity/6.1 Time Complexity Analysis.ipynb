{
 "cells": [
  {
   "cell_type": "markdown",
   "metadata": {},
   "source": [
    "### Complexity comprises of both Time Complexity and Space Complexity\n",
    "\n",
    "#### Time complexity: The time taken for a program to get executed for input n\n",
    "\n",
    "#### Space complexity: The space taken for a program to get executed for input n"
   ]
  },
  {
   "cell_type": "markdown",
   "metadata": {},
   "source": [
    "## Experimental Analysis:\n"
   ]
  },
  {
   "cell_type": "code",
   "execution_count": 68,
   "metadata": {},
   "outputs": [],
   "source": [
    "def merge(s1, s2, a):\n",
    "    i,j,k = 0,0,0\n",
    "    while i <len(s1) and j < len(s2):\n",
    "      if s1[i] <= s2[j]:\n",
    "        a[k] = s1[i]\n",
    "        k += 1\n",
    "        i += 1\n",
    "      else:\n",
    "        a[k] = s2[j]\n",
    "        k += 1\n",
    "        j += 1\n",
    "    \n",
    "    while i < len(s1):\n",
    "      a[k] = s1[i]\n",
    "      k += 1\n",
    "      i += 1\n",
    "    \n",
    "    while j <len(s2):\n",
    "      a[k] = s2[j]\n",
    "      k += 1\n",
    "      j += 1\n",
    "\n",
    "def mergeSort(a):\n",
    "    if len(a) == 0 or len(a) == 1:\n",
    "      return\n",
    "\n",
    "    mid = (len(a)) // 2\n",
    "   \n",
    "    s1 = a[:mid]\n",
    "    s2 = a[mid:]    \n",
    "    mergeSort(s1)\n",
    "    mergeSort(s2)\n",
    "\n",
    "    merge(s1, s2, a) \n",
    "    "
   ]
  },
  {
   "cell_type": "code",
   "execution_count": 69,
   "metadata": {},
   "outputs": [
    {
     "name": "stdout",
     "output_type": "stream",
     "text": [
      "[1, 2, 3, 4, 5, 6, 7, 8]\n"
     ]
    }
   ],
   "source": [
    "def selectionSort(a):\n",
    "    for i in range(len(a)):\n",
    "        min_idx = i\n",
    "        for j in range(i+1, len(a)):\n",
    "            if a[min_idx] > a[j]:\n",
    "                min_idx = j\n",
    "            a[i], a[min_idx] = a[min_idx], a[i]\n",
    "a = [8,7,6,5,4,3,2,1]\n",
    "selectionSort(a)    \n",
    "print(a)"
   ]
  },
  {
   "cell_type": "code",
   "execution_count": 70,
   "metadata": {},
   "outputs": [],
   "source": [
    "def create_rev_array(n):\n",
    "    a = []\n",
    "    for i in range(n, 0, -1):\n",
    "        a.append(i)\n",
    "    return a    "
   ]
  },
  {
   "cell_type": "code",
   "execution_count": 71,
   "metadata": {},
   "outputs": [
    {
     "data": {
      "text/plain": [
       "1561218033.3579957"
      ]
     },
     "execution_count": 71,
     "metadata": {},
     "output_type": "execute_result"
    }
   ],
   "source": [
    "import time\n",
    "time.time() # THis gives you the current time"
   ]
  },
  {
   "cell_type": "code",
   "execution_count": 100,
   "metadata": {},
   "outputs": [],
   "source": [
    "n = 100000"
   ]
  },
  {
   "cell_type": "code",
   "execution_count": 101,
   "metadata": {},
   "outputs": [
    {
     "name": "stdout",
     "output_type": "stream",
     "text": [
      "1561218355.026084\n",
      "1561218356.841545\n",
      "100000 1.8154611587524414\n"
     ]
    }
   ],
   "source": [
    "a = create_rev_array(n)\n",
    "start = time.time()\n",
    "print(start)\n",
    "mergeSort(a)\n",
    "end = time.time()\n",
    "print(end)\n",
    "print(n, end-start)"
   ]
  },
  {
   "cell_type": "code",
   "execution_count": 103,
   "metadata": {},
   "outputs": [
    {
     "name": "stdout",
     "output_type": "stream",
     "text": [
      "1561218437.4376345\n",
      "1561220588.0261111\n",
      "100000 2150.5884766578674\n"
     ]
    }
   ],
   "source": [
    "a = create_rev_array(n)\n",
    "start = time.time()\n",
    "print(start)\n",
    "selectionSort(a)\n",
    "end = time.time()\n",
    "print(end)\n",
    "print(n, end-start)"
   ]
  },
  {
   "cell_type": "markdown",
   "metadata": {},
   "source": [
    "## Theoretical Analysis"
   ]
  },
  {
   "cell_type": "code",
   "execution_count": 106,
   "metadata": {},
   "outputs": [
    {
     "name": "stdout",
     "output_type": "stream",
     "text": [
      "362880\n"
     ]
    }
   ],
   "source": [
    "# Factorial of a number:\n",
    "n = 10\n",
    "ans = 1                        # 1 work\n",
    "for i in range(1, n):          \n",
    "    ans = ans * i           #2*n work as n*1 for multiplication and n*1 for incrementation of i\n",
    "print(ans)"
   ]
  },
  {
   "cell_type": "markdown",
   "metadata": {},
   "source": [
    "## Big-O Notation"
   ]
  },
  {
   "cell_type": "markdown",
   "metadata": {},
   "source": [
    "#### A --> O(n^2) if T(A,n) <= kn^2\n",
    "\n",
    "#### B --> O(n^3) if T(A,n) <= kn^3"
   ]
  }
 ],
 "metadata": {
  "kernelspec": {
   "display_name": "Python 3",
   "language": "python",
   "name": "python3"
  },
  "language_info": {
   "codemirror_mode": {
    "name": "ipython",
    "version": 3
   },
   "file_extension": ".py",
   "mimetype": "text/x-python",
   "name": "python",
   "nbconvert_exporter": "python",
   "pygments_lexer": "ipython3",
   "version": "3.7.3"
  }
 },
 "nbformat": 4,
 "nbformat_minor": 2
}
