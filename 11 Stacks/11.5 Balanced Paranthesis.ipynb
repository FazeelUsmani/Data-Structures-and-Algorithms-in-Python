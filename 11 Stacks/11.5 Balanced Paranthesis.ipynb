{
 "cells": [
  {
   "cell_type": "markdown",
   "metadata": {},
   "source": [
    "LIFO - Whoever comes in last should go out first\n",
    "\n",
    "For an example, { () () }  is a balanced paranthesis\n",
    "\n",
    "                {(a+b) + (c+d) +e}"
   ]
  },
  {
   "cell_type": "markdown",
   "metadata": {},
   "source": [
    "### Writing Stack class:"
   ]
  },
  {
   "cell_type": "code",
   "execution_count": 21,
   "metadata": {},
   "outputs": [],
   "source": [
    "### Stack Using Array\n",
    "### This part is hidden from the User\n",
    "class Stack:\n",
    "    def __init__(self):\n",
    "        self.__data = []\n",
    "    \n",
    "    def push(self, item):\n",
    "        self.__data.append(item)\n",
    "        \n",
    "    def pop(self):\n",
    "        if self.isEmpty():\n",
    "            print(\"Stack is Empty!\")\n",
    "            return\n",
    "        return self.__data.pop()\n",
    "    \n",
    "    def top(self):\n",
    "        if self.isEmpty():\n",
    "            print(\"Stack is Empty!\")\n",
    "            return\n",
    "        return self.__data[len(self.__data) - 1]\n",
    "    \n",
    "    def size(self):\n",
    "        return len(self.__data)\n",
    "        \n",
    "    def isEmpty(self):\n",
    "        return self.size() == 0"
   ]
  },
  {
   "cell_type": "code",
   "execution_count": 79,
   "metadata": {},
   "outputs": [
    {
     "name": "stdout",
     "output_type": "stream",
     "text": [
      "{a+b}\n",
      "true\n"
     ]
    }
   ],
   "source": [
    "def checkBalanced(str):           \n",
    "    for i in str:\n",
    "        if i == '(' or i == '{' or i == '[':\n",
    "            s.push(i)\n",
    "            \n",
    "        elif i =='}':\n",
    "            if s.top() != '{':\n",
    "                return False\n",
    "            s.pop()\n",
    "        elif i == ']':\n",
    "            if s.top() == '[':\n",
    "                return False\n",
    "            s.pop()\n",
    "        elif i == ')':\n",
    "            if s.top() == '(':\n",
    "                return False\n",
    "            s.pop()\n",
    "            \n",
    "            \n",
    "    if s.isEmpty():\n",
    "        return True\n",
    "    else:\n",
    "        return False\n",
    "    \n",
    "s= Stack()\n",
    "\n",
    "exp = input()\n",
    "#exp = \"{x + y ( a * b )  }\"\n",
    "if checkBalanced(exp):\n",
    "    print('true')\n",
    "else:\n",
    "    print('false')\n",
    "\n",
    "    "
   ]
  },
  {
   "cell_type": "markdown",
   "metadata": {},
   "source": [
    "### Using array / list: (By Coding Ninjas)"
   ]
  },
  {
   "cell_type": "code",
   "execution_count": 71,
   "metadata": {},
   "outputs": [
    {
     "name": "stdout",
     "output_type": "stream",
     "text": [
      "{a + b (*c) - [asdf]}\n",
      "True\n"
     ]
    }
   ],
   "source": [
    "def isBalanced(string):\n",
    "    \n",
    "    s = []\n",
    "    for char in string:\n",
    "        if char in '({[':\n",
    "            s.append(char)\n",
    "        elif char is ')':\n",
    "            if (not s or s[-1] != '('):\n",
    "                return False\n",
    "            s.pop()\n",
    "        elif char is ']':\n",
    "            if (not s or s[-1] != '['):\n",
    "                return False\n",
    "            s.pop()\n",
    "        elif char is '}':\n",
    "            if (not s or s[-1] != '{'):\n",
    "                return False\n",
    "            s.pop()\n",
    "            \n",
    "    if (not s):\n",
    "        return True\n",
    "    return False\n",
    "\n",
    "string = input()\n",
    "ans = isBalanced(string)\n",
    "print(ans)\n",
    "         "
   ]
  },
  {
   "cell_type": "code",
   "execution_count": 1,
   "metadata": {},
   "outputs": [
    {
     "name": "stdout",
     "output_type": "stream",
     "text": [
      "{ a + [ b-c}]\n",
      "False\n"
     ]
    }
   ],
   "source": [
    "def isBalanced(string):\n",
    "    \n",
    "    s = []\n",
    "    for char in string:\n",
    "        if char in '({[':\n",
    "            s.append(char)\n",
    "        elif char is ')':\n",
    "            if (not s or s[-1] != '('):\n",
    "                return False\n",
    "            s.pop()\n",
    "        elif char is ']':\n",
    "            if (not s or s[-1] != '['):\n",
    "                return False\n",
    "            s.pop()\n",
    "        elif char is '}':\n",
    "            if (not s or s[-1] != '{'):\n",
    "                return False\n",
    "            s.pop()\n",
    "            \n",
    "    if (not s):\n",
    "        return True\n",
    "    return False\n",
    "\n",
    "string = input()\n",
    "ans = isBalanced(string)\n",
    "print(ans)\n",
    "         "
   ]
  },
  {
   "cell_type": "code",
   "execution_count": 1,
   "metadata": {},
   "outputs": [
    {
     "name": "stdout",
     "output_type": "stream",
     "text": [
      "14\n",
      "13\n",
      "12\n"
     ]
    }
   ],
   "source": [
    "\n",
    "\n",
    "s.put(12)\n",
    "s.put(13)\n",
    "s.put(14)\n",
    "\n",
    "while s.empty() is False:\n",
    "    print(s.get())"
   ]
  },
  {
   "cell_type": "markdown",
   "metadata": {},
   "source": [
    "### My code:"
   ]
  },
  {
   "cell_type": "code",
   "execution_count": 32,
   "metadata": {},
   "outputs": [
    {
     "name": "stdout",
     "output_type": "stream",
     "text": [
      "[a + (b+c) - {d / [f*e] } ] \n",
      "true\n"
     ]
    }
   ],
   "source": [
    "import queue\n",
    "\n",
    "s = queue.LifoQueue()\n",
    "\n",
    "def isBalanced(str):\n",
    "    \n",
    "    for i in str:       \n",
    "        if i in \"{([\":\n",
    "            s.put(i)\n",
    "        \n",
    "        elif i == '}':\n",
    "            if (s.empty() or s.queue[-1] != '{'):\n",
    "                return False\n",
    "            s.get()\n",
    "            \n",
    "        elif i == ')':\n",
    "            if (s.empty() or s.queue[-1] != '('):\n",
    "                return False\n",
    "            s.get()\n",
    "            \n",
    "        elif i == ']':\n",
    "            if (s.empty() or s.queue[-1] != '['):\n",
    "                return False\n",
    "            s.get()\n",
    "        \n",
    "         \n",
    "    if s.empty():\n",
    "        return True\n",
    "    return False\n",
    "    \n",
    "    \n",
    "    \n",
    "\n",
    "exp=input()\n",
    "if isBalanced(exp):\n",
    "    print('true')\n",
    "else:\n",
    "    print('false')\n",
    "\n"
   ]
  }
 ],
 "metadata": {
  "kernelspec": {
   "display_name": "Python 3",
   "language": "python",
   "name": "python3"
  },
  "language_info": {
   "codemirror_mode": {
    "name": "ipython",
    "version": 3
   },
   "file_extension": ".py",
   "mimetype": "text/x-python",
   "name": "python",
   "nbconvert_exporter": "python",
   "pygments_lexer": "ipython3",
   "version": "3.7.3"
  }
 },
 "nbformat": 4,
 "nbformat_minor": 2
}
