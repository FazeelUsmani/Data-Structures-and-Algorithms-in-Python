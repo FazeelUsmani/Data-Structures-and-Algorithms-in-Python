{
 "cells": [
  {
   "cell_type": "code",
   "execution_count": 1,
   "metadata": {},
   "outputs": [],
   "source": [
    "# The one idea which jumps in your mind is to create another stack S2 and pop one by one element from S1 to S2\n",
    "# But the question is to reverse the Stack S1 (which is of a particular address)\n",
    "# So, empty stack won't give you the answer"
   ]
  },
  {
   "cell_type": "markdown",
   "metadata": {},
   "source": [
    "### We can use recursion stack (an inbuilt stack) and an empty stack S2 as well."
   ]
  },
  {
   "cell_type": "code",
   "execution_count": 20,
   "metadata": {},
   "outputs": [
    {
     "name": "stdout",
     "output_type": "stream",
     "text": [
      "4\n",
      "1 2 3 4\n",
      "1 2 3 4 "
     ]
    }
   ],
   "source": [
    "# You need to reverse the stack S1 using stack S2\n",
    "# Move (n-1) elements from S1 to S2\n",
    "# Save the last element\n",
    "# Move (n-1) elements from S2 to S1\n",
    "# reverse(S1, S2)\n",
    "# Push element into S1\n",
    "\n",
    "# Base Case: If S1 has 1 element just return\n",
    "\n",
    "\n",
    "def reverseStack(s1,s2):\n",
    "    if len(s1) == 0 or len(s1) == 1:\n",
    "        return \n",
    "    \n",
    "    x = s1[-1]\n",
    "    s1.pop()\n",
    "    \n",
    "    reverseStack(s1, s2)\n",
    "    while len(s1) > 0:\n",
    "        s2.append(s1[-1])\n",
    "        s1.pop()\n",
    "    \n",
    "    s1.append(x)\n",
    "    \n",
    "    while len(s2) > 0:\n",
    "        s1.append(s2[-1])\n",
    "        s2.pop()\n",
    "    \n",
    "    return s1\n",
    "    \n",
    "\n",
    "from sys import setrecursionlimit\n",
    "setrecursionlimit(11000)\n",
    "n = int(input())\n",
    "s1 = [int(ele) for ele in input().split()]\n",
    "s2 = []\n",
    "reverseStack(s1,s2)\n",
    "while(len(s1) !=0):\n",
    "    print(s1.pop(),end= ' ')\n"
   ]
  },
  {
   "cell_type": "code",
   "execution_count": 22,
   "metadata": {},
   "outputs": [
    {
     "name": "stdout",
     "output_type": "stream",
     "text": [
      "4\n",
      "1 2 3 4\n",
      "1 2 3 4 "
     ]
    }
   ],
   "source": [
    "# This code is given by Parikh Jain @Coding Ninjas\n",
    "def reverseStack(s1,s2):\n",
    "    if len(s1) <= 1:\n",
    "        return \n",
    "    \n",
    "    \n",
    "    while len(s1) != 1:\n",
    "        ele = s1.pop()\n",
    "        s2.append(ele)\n",
    "        \n",
    "    lastElement = s1.pop()\n",
    "    while len(s2) != 0:\n",
    "        ele = s2.pop()\n",
    "        s1.append(ele)\n",
    "    reverseStack(s1, s2)\n",
    "    \n",
    "    s1.append(lastElement)\n",
    "    \n",
    "    \n",
    "\n",
    "from sys import setrecursionlimit\n",
    "setrecursionlimit(11000)\n",
    "n = int(input())\n",
    "s1 = [int(ele) for ele in input().split()]\n",
    "s2 = []\n",
    "reverseStack(s1,s2)\n",
    "while(len(s1) !=0):\n",
    "    print(s1.pop(),end= ' ')\n"
   ]
  },
  {
   "cell_type": "code",
   "execution_count": null,
   "metadata": {},
   "outputs": [],
   "source": []
  }
 ],
 "metadata": {
  "kernelspec": {
   "display_name": "Python 3",
   "language": "python",
   "name": "python3"
  },
  "language_info": {
   "codemirror_mode": {
    "name": "ipython",
    "version": 3
   },
   "file_extension": ".py",
   "mimetype": "text/x-python",
   "name": "python",
   "nbconvert_exporter": "python",
   "pygments_lexer": "ipython3",
   "version": "3.7.3"
  }
 },
 "nbformat": 4,
 "nbformat_minor": 2
}
