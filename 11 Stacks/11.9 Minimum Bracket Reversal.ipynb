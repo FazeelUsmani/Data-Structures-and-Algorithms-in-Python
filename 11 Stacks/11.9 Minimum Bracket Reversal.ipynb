{
 "cells": [
  {
   "cell_type": "code",
   "execution_count": 1,
   "metadata": {},
   "outputs": [
    {
     "name": "stdout",
     "output_type": "stream",
     "text": [
      "{{{{}}\n",
      "1\n"
     ]
    }
   ],
   "source": [
    "def countBracketReversals(string):\n",
    "    if(len(string) == 0):\n",
    "        return 0\n",
    "    if(len(string)%2 != 0):\n",
    "        return -1\n",
    "    s = []\n",
    "    for char in string:\n",
    "        if char == '{':\n",
    "            s.append(char)\n",
    "        else:\n",
    "            if(len(s) > 0 and s[-1] == '{'):\n",
    "                s.pop()\n",
    "            else:\n",
    "                s.append(char)\n",
    "    count = 0\n",
    "    while(len(s) != 0):\n",
    "        c1 = s.pop()\n",
    "        c2 = s.pop()\n",
    "        if c1!=c2:\n",
    "            count+=2\n",
    "        else:\n",
    "            count+=1\n",
    "    return count\n",
    "string = input()\n",
    "ans = countBracketReversals(string)\n",
    "print(ans)\n",
    "\n",
    "\n",
    "\n"
   ]
  },
  {
   "cell_type": "code",
   "execution_count": null,
   "metadata": {},
   "outputs": [],
   "source": []
  }
 ],
 "metadata": {
  "kernelspec": {
   "display_name": "Python 3",
   "language": "python",
   "name": "python3"
  },
  "language_info": {
   "codemirror_mode": {
    "name": "ipython",
    "version": 3
   },
   "file_extension": ".py",
   "mimetype": "text/x-python",
   "name": "python",
   "nbconvert_exporter": "python",
   "pygments_lexer": "ipython3",
   "version": "3.7.3"
  }
 },
 "nbformat": 4,
 "nbformat_minor": 2
}
