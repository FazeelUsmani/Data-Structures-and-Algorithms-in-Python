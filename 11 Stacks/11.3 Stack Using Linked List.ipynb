{
 "cells": [
  {
   "cell_type": "code",
   "execution_count": null,
   "metadata": {},
   "outputs": [],
   "source": [
    "For push operation:\n",
    "1) Create newNode\n",
    "2) newNode.next = head\n",
    "3) head = newNode\n",
    "\n",
    "For Pop Operation:\n",
    "1) head = head.next\n",
    "\n",
    "For Size:\n",
    "Maintain a count variable\n",
    "i) Whenever you push element cnt += 1\n",
    "ii) Whenever you pop element cnt -= 1\n",
    "\n",
    "For Top:\n",
    "head.data\n",
    "\n",
    "For isEmpty() {Two ways}:\n",
    "i) Call size()\n",
    "ii) If cnt is = then True else False"
   ]
  },
  {
   "cell_type": "code",
   "execution_count": 8,
   "metadata": {},
   "outputs": [],
   "source": [
    "# THis is the developers side code and we're making head and cnt as private\n",
    "class Node:\n",
    "    def __init__(self, data):\n",
    "        self.data = data\n",
    "        self.next = None\n",
    "    \n",
    "class Stack:\n",
    "    def __init__(self):\n",
    "        self.__head = None\n",
    "        self.__cnt = 0\n",
    "        \n",
    "    def push(self, element):\n",
    "        newNode = Node(element)\n",
    "        newNode.next = self.__head\n",
    "        self.__head = newNode\n",
    "        self.__cnt += 1\n",
    "        \n",
    "        \n",
    "    def pop(self):\n",
    "        if self.isEmpty() is True:\n",
    "            print(\"Hey! Stack is Empty!!\")\n",
    "            return\n",
    "        \n",
    "        data = self.__head.data\n",
    "        self.__head = self.__head.next\n",
    "        self.__cnt -= 1\n",
    "        \n",
    "        return data\n",
    "        \n",
    "    def top(self):\n",
    "        if self.isEmpty() is True:\n",
    "            print(\"Hey! Stack is Empty!!\")\n",
    "            return\n",
    "        \n",
    "        return self.__head.data\n",
    "    \n",
    "    def size(self):\n",
    "        return self.__cnt\n",
    "        \n",
    "    def isEmpty(self):\n",
    "        return self.size() == 0         # return self.__head is None      // You can sue this as well"
   ]
  },
  {
   "cell_type": "code",
   "execution_count": 10,
   "metadata": {},
   "outputs": [
    {
     "name": "stdout",
     "output_type": "stream",
     "text": [
      "30\n",
      "20\n",
      "10\n",
      "Hey! Stack is Empty!!\n"
     ]
    }
   ],
   "source": [
    "s= Stack()\n",
    "\n",
    "s.push(10)\n",
    "s.push(20)\n",
    "s.push(30)\n",
    "\n",
    "while s.isEmpty() is False:\n",
    "    print(s.pop())\n",
    "s.top()        "
   ]
  }
 ],
 "metadata": {
  "kernelspec": {
   "display_name": "Python 3",
   "language": "python",
   "name": "python3"
  },
  "language_info": {
   "codemirror_mode": {
    "name": "ipython",
    "version": 3
   },
   "file_extension": ".py",
   "mimetype": "text/x-python",
   "name": "python",
   "nbconvert_exporter": "python",
   "pygments_lexer": "ipython3",
   "version": "3.7.3"
  }
 },
 "nbformat": 4,
 "nbformat_minor": 2
}
