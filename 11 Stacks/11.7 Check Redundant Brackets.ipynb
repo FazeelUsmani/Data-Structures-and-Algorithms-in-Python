{
 "cells": [
  {
   "cell_type": "markdown",
   "metadata": {},
   "source": [
    "(a+b) is not redundant ---- False\n",
    "\n",
    "((a+b)) is redendant   ---- False\n",
    "\n",
    "(a+(b+c)) is not redundant- False    \n",
    "\n",
    "Is there any useful information between a pair of brackets then it is not redundant else it's redundant."
   ]
  },
  {
   "cell_type": "code",
   "execution_count": 1,
   "metadata": {},
   "outputs": [
    {
     "name": "stdout",
     "output_type": "stream",
     "text": [
      "(a + (b - c))\n",
      "false\n"
     ]
    }
   ],
   "source": [
    "import queue\n",
    "\n",
    "def checkRedundant(string):\n",
    "    q=queue.LifoQueue()\n",
    "    temp=0\n",
    "    l=len(string)\n",
    "    for i in range(l-1):\n",
    "        c=string[i]\n",
    "        n=string[i+1]\n",
    "        if c=='(' and n==')':\n",
    "            return True\n",
    "        elif c=='(' and n=='(':\n",
    "            temp=2\n",
    "        elif c==')' and n==')' and temp==2:\n",
    "            return True\n",
    "    return False\n",
    "#### Implement Your Code Here\n",
    "    \n",
    "\n",
    "string = input()\n",
    "ans = checkRedundant(string)\n",
    "if ans is True:\n",
    "    print('true')\n",
    "else:\n",
    "    print('false')"
   ]
  },
  {
   "cell_type": "code",
   "execution_count": null,
   "metadata": {},
   "outputs": [],
   "source": []
  }
 ],
 "metadata": {
  "kernelspec": {
   "display_name": "Python 3",
   "language": "python",
   "name": "python3"
  },
  "language_info": {
   "codemirror_mode": {
    "name": "ipython",
    "version": 3
   },
   "file_extension": ".py",
   "mimetype": "text/x-python",
   "name": "python",
   "nbconvert_exporter": "python",
   "pygments_lexer": "ipython3",
   "version": "3.7.3"
  }
 },
 "nbformat": 4,
 "nbformat_minor": 2
}
