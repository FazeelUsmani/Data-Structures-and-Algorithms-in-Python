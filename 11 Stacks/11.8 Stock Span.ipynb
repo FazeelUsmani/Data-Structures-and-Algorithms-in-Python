{
 "cells": [
  {
   "cell_type": "code",
   "execution_count": 1,
   "metadata": {},
   "outputs": [
    {
     "name": "stdout",
     "output_type": "stream",
     "text": [
      "8\n",
      "60 70 80 100 90 75 80 120\n",
      "1 2 3 4 1 1 2 8 "
     ]
    }
   ],
   "source": [
    "\n",
    "\n",
    "def stockSpan(price,S):\n",
    "    n = len(price) \n",
    "    st = []  \n",
    "    st.append(0) \n",
    "    S[0] = 1\n",
    "    for i in range(1, n):  \n",
    "        while( len(st) > 0 and price[st[-1]] < price[i]): \n",
    "            st.pop() \n",
    "  \n",
    "        S[i] = i + 1 if len(st) <= 0 else (i - st[-1]) \n",
    "        st.append(i)  \n",
    "          \n",
    "def printArray(arr, n): \n",
    "    for i in range(0, n): \n",
    "        print (arr[i], end =\" \") \n",
    "  \n",
    "  \n",
    "n = int(input())\n",
    "price = list(int(x) for x in input().split()[:n])  \n",
    "\n",
    "S = [0 for i in range(len(price)+1)] \n",
    "  \n",
    "stockSpan(price, S) \n",
    "  \n",
    "printArray(S, len(price)) \n",
    "\n",
    "\n",
    "\n",
    "\n",
    "\n"
   ]
  },
  {
   "cell_type": "code",
   "execution_count": null,
   "metadata": {},
   "outputs": [],
   "source": []
  }
 ],
 "metadata": {
  "kernelspec": {
   "display_name": "Python 3",
   "language": "python",
   "name": "python3"
  },
  "language_info": {
   "codemirror_mode": {
    "name": "ipython",
    "version": 3
   },
   "file_extension": ".py",
   "mimetype": "text/x-python",
   "name": "python",
   "nbconvert_exporter": "python",
   "pygments_lexer": "ipython3",
   "version": "3.7.3"
  }
 },
 "nbformat": 4,
 "nbformat_minor": 2
}
