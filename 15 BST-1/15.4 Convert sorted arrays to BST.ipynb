{
 "cells": [
  {
   "cell_type": "markdown",
   "metadata": {},
   "source": [
    "1) Take the middle element and create root node\n",
    "\n",
    "2) Take left side of array pass them recursively to get left subtree\n",
    "\n",
    "3) Use right side elements to get right subtree\n",
    "\n",
    "4) Connect these subtrees with the root node"
   ]
  },
  {
   "cell_type": "code",
   "execution_count": 6,
   "metadata": {},
   "outputs": [
    {
     "name": "stdout",
     "output_type": "stream",
     "text": [
      "4 2 1 3 6 5 7 "
     ]
    }
   ],
   "source": [
    "import queue\n",
    "class BinaryTreeNode:\n",
    "    def __init__(self, data):\n",
    "        self.data = data\n",
    "        self.left = None\n",
    "        self.right = None\n",
    "\n",
    "def constructBST(lst):\n",
    "    if not lst:\n",
    "        return None\n",
    "    \n",
    "    mid = len(lst)//2\n",
    "    root = BinaryTreeNode(lst[mid])\n",
    "    root.left = constructBST(lst[:mid])\n",
    "    root.right = constructBST(lst[mid+1:])\n",
    "    \n",
    "    return root\n",
    "    \n",
    "    \n",
    "def preOrder(root):\n",
    "    if root==None:\n",
    "        return\n",
    "    print(root.data, end=' ')\n",
    "    preOrder(root.left)\n",
    "    preOrder(root.right)\n",
    "\n",
    "# Main\n",
    "#n=int(input())\n",
    "n = 7\n",
    "#lst=[int(i) for i in input().strip().split()]\n",
    "lst = [1,2,3,4,5,6,7]\n",
    "root=constructBST(lst)\n",
    "preOrder(root)\n"
   ]
  },
  {
   "cell_type": "code",
   "execution_count": null,
   "metadata": {},
   "outputs": [],
   "source": []
  }
 ],
 "metadata": {
  "kernelspec": {
   "display_name": "Python 3",
   "language": "python",
   "name": "python3"
  },
  "language_info": {
   "codemirror_mode": {
    "name": "ipython",
    "version": 3
   },
   "file_extension": ".py",
   "mimetype": "text/x-python",
   "name": "python",
   "nbconvert_exporter": "python",
   "pygments_lexer": "ipython3",
   "version": "3.7.3"
  }
 },
 "nbformat": 4,
 "nbformat_minor": 2
}
