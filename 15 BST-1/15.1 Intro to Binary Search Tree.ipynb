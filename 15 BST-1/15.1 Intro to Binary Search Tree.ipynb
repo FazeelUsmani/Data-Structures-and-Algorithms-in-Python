{
 "cells": [
  {
   "cell_type": "markdown",
   "metadata": {},
   "source": [
    "Binary Search Tree: is a binary tree in which elements are stored in a particular pattern i.e. left < root < right. And the same thing applies to it's childrens. \n",
    "\n",
    "         In case of BST, for each node with data d its left subtree has to be < d and its right subtree has to be > d."
   ]
  },
  {
   "cell_type": "markdown",
   "metadata": {},
   "source": [
    "### Searching an element in a BST :"
   ]
  },
  {
   "cell_type": "code",
   "execution_count": 3,
   "metadata": {},
   "outputs": [],
   "source": [
    "def search(root, x):\n",
    "    if root is None:\n",
    "        return None\n",
    "    if x == root.data:\n",
    "        return root\n",
    "    if x < root.data:\n",
    "        return search(root.left, x)\n",
    "    if x > root.data:\n",
    "        return search(root.right, x)"
   ]
  },
  {
   "cell_type": "markdown",
   "metadata": {},
   "source": [
    "O(h) - height of the tree \n",
    "\n",
    "In a beautiful tree, the height is log n so the time complexity would be O(log h)\n",
    "\n",
    "In a left skewed or right skewed trees, the height will be O(N)"
   ]
  }
 ],
 "metadata": {
  "kernelspec": {
   "display_name": "Python 3",
   "language": "python",
   "name": "python3"
  },
  "language_info": {
   "codemirror_mode": {
    "name": "ipython",
    "version": 3
   },
   "file_extension": ".py",
   "mimetype": "text/x-python",
   "name": "python",
   "nbconvert_exporter": "python",
   "pygments_lexer": "ipython3",
   "version": "3.7.3"
  }
 },
 "nbformat": 4,
 "nbformat_minor": 2
}
