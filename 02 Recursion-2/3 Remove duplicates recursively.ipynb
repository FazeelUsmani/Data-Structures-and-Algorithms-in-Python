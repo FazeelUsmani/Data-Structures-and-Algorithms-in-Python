{
 "cells": [
  {
   "cell_type": "code",
   "execution_count": 62,
   "metadata": {},
   "outputs": [],
   "source": [
    "def dup(s):    \n",
    "    if len(s) == 1:\n",
    "        return s\n",
    "    \n",
    "    if s[0] == s[1]:\n",
    "        if len(s) > 1:\n",
    "            smallOutput = dup(s[2:])\n",
    "            return s[0] + smallOutput\n",
    "        else:\n",
    "            return s[0]\n",
    "    else:\n",
    "        nextOutput = dup(s[1:])\n",
    "        return s[0] + nextOutput\n",
    "    \n",
    "    "
   ]
  },
  {
   "cell_type": "code",
   "execution_count": 63,
   "metadata": {},
   "outputs": [
    {
     "name": "stdout",
     "output_type": "stream",
     "text": [
      "abcasdffsf\n"
     ]
    }
   ],
   "source": [
    "print(dup(\"aabbccasdfffsf\"))"
   ]
  },
  {
   "cell_type": "code",
   "execution_count": null,
   "metadata": {},
   "outputs": [],
   "source": [
    "x = set()\n",
    "x.add('a')\n",
    "x.add('b')\n",
    "x.add('x')\n",
    "x.add('a')\n",
    "x.add('b')\n",
    "x.add('xs')\n",
    "print(x)"
   ]
  },
  {
   "cell_type": "code",
   "execution_count": null,
   "metadata": {},
   "outputs": [],
   "source": [
    "string =\"aabbCc\"\n",
    "if string[0] == string[1]:\n",
    "    print(\"true\")"
   ]
  },
  {
   "cell_type": "code",
   "execution_count": 72,
   "metadata": {},
   "outputs": [
    {
     "name": "stdout",
     "output_type": "stream",
     "text": [
      "asddd;lkjfdffkkslll\n",
      "asd;lkjfdfksl\n"
     ]
    }
   ],
   "source": [
    "# Problem ID 91, removeConsecutiveDuplicates\n",
    "def removeConsecutiveDuplicates(string):\n",
    "    # Please add your code here\n",
    "\n",
    "    if len(string) == 1:\n",
    "        return string\n",
    "    \n",
    "    if string[0] == string[1]:\n",
    "        smallOutput = removeConsecutiveDuplicates(string[1:])\n",
    "        return smallOutput   \n",
    "    \n",
    "    else:\n",
    "        nextOutput = removeConsecutiveDuplicates(string[1:])\n",
    "        return string[0] + nextOutput\n",
    "\n",
    "# Main\n",
    "string = input().strip()\n",
    "print(removeConsecutiveDuplicates(string))\n"
   ]
  },
  {
   "cell_type": "code",
   "execution_count": 71,
   "metadata": {},
   "outputs": [
    {
     "name": "stdout",
     "output_type": "stream",
     "text": [
      "asdfff;;llkkkdjfk\n",
      "asdfkdjfk\n"
     ]
    }
   ],
   "source": [
    "# Problem ID 91, removeConsecutiveDuplicates\n",
    "def removeConsecutiveDuplicates(string):\n",
    "    # Please add your code here\n",
    "\n",
    "    if len(string) == 1:\n",
    "        return string\n",
    "    \n",
    "    if string[0] == string[1]:\n",
    "        smallOutput = removeConsecutiveDuplicates(string[2:])\n",
    "        return smallOutput   \n",
    "    \n",
    "    else:\n",
    "        nextOutput = removeConsecutiveDuplicates(string[1:])\n",
    "        return string[0] + nextOutput\n",
    "\n",
    "# Main\n",
    "string = input().strip()\n",
    "print(removeConsecutiveDuplicates(string))\n"
   ]
  },
  {
   "cell_type": "code",
   "execution_count": null,
   "metadata": {},
   "outputs": [],
   "source": []
  }
 ],
 "metadata": {
  "kernelspec": {
   "display_name": "Python 3",
   "language": "python",
   "name": "python3"
  },
  "language_info": {
   "codemirror_mode": {
    "name": "ipython",
    "version": 3
   },
   "file_extension": ".py",
   "mimetype": "text/x-python",
   "name": "python",
   "nbconvert_exporter": "python",
   "pygments_lexer": "ipython3",
   "version": "3.7.3"
  }
 },
 "nbformat": 4,
 "nbformat_minor": 2
}
