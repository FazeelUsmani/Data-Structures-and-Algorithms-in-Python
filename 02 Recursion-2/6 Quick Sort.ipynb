{
 "cells": [
  {
   "cell_type": "code",
   "execution_count": 28,
   "metadata": {},
   "outputs": [],
   "source": [
    "def partition(a, si, ei):\n",
    "    pivot = a[si]\n",
    "    #find number of elements smaller than pivot    \n",
    "    count = 0\n",
    "    \n",
    "    for i in range(si, ei+1):\n",
    "        if a[i] < pivot:\n",
    "            count = count + 1\n",
    "    \n",
    "    a[si+count], a[si] = a[si], a[si+count]\n",
    "    pivot_index = si + count\n",
    "    \n",
    "    i = si\n",
    "    j = ei\n",
    "\n",
    "    while i < j:\n",
    "      if a[i] < pivot:\n",
    "        i = i + 1\n",
    "      elif a[j] >= pivot:\n",
    "        j = j - 1\n",
    "      else:\n",
    "        a[i], a[j] = a[j], a[i]\n",
    "        i = i + 1\n",
    "        j = j - 1\n",
    "        \n",
    "    return pivot_index"
   ]
  },
  {
   "cell_type": "code",
   "execution_count": 29,
   "metadata": {},
   "outputs": [],
   "source": [
    "\n",
    "def quick_sort(a, si, ei):\n",
    "    if si >= ei:\n",
    "        return \n",
    "    \n",
    "    pivot_index = partition(a, si, ei)\n",
    "    quick_sort(a, si, pivot_index-1)\n",
    "    quick_sort(a, pivot_index+1, ei)\n",
    "    "
   ]
  },
  {
   "cell_type": "code",
   "execution_count": 30,
   "metadata": {},
   "outputs": [
    {
     "data": {
      "text/plain": [
       "[1, 2, 3, 4, 5, 7, 8, 9, 10]"
      ]
     },
     "execution_count": 30,
     "metadata": {},
     "output_type": "execute_result"
    }
   ],
   "source": [
    "a = [10,9,8,7,1,3,5,4,2]\n",
    "quick_sort(a, 0, len(a)-1)\n",
    "a"
   ]
  },
  {
   "cell_type": "code",
   "execution_count": null,
   "metadata": {},
   "outputs": [],
   "source": []
  }
 ],
 "metadata": {
  "kernelspec": {
   "display_name": "Python 3",
   "language": "python",
   "name": "python3"
  },
  "language_info": {
   "codemirror_mode": {
    "name": "ipython",
    "version": 3
   },
   "file_extension": ".py",
   "mimetype": "text/x-python",
   "name": "python",
   "nbconvert_exporter": "python",
   "pygments_lexer": "ipython3",
   "version": "3.7.3"
  }
 },
 "nbformat": 4,
 "nbformat_minor": 2
}
