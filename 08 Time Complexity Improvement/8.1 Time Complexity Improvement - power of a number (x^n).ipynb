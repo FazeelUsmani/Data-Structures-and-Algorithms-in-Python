{
 "cells": [
  {
   "cell_type": "markdown",
   "metadata": {},
   "source": [
    "###    In 1 sec = 10^8 operations "
   ]
  },
  {
   "cell_type": "markdown",
   "metadata": {},
   "source": [
    "#### Here in this chapter, we're going to learn more about optimization of code and try to optimise the previously solved problems"
   ]
  },
  {
   "cell_type": "code",
   "execution_count": null,
   "metadata": {},
   "outputs": [],
   "source": [
    "# 1) Power of a number (Iterative):   x^n = x^(n-1) * x\n",
    "x = int(input(\"Enter x\"))\n",
    "n = int(input(\"Enter n\"))\n",
    "i = 0\n",
    "ans = 1\n",
    "while i < n:\n",
    "    ans = ans*x\n",
    "    i = i + 1\n",
    "print(ans)\n",
    "# THis solution has a time complexity of O(n). We reduce it further to O(log n) in the next solution"
   ]
  },
  {
   "cell_type": "code",
   "execution_count": null,
   "metadata": {},
   "outputs": [],
   "source": [
    "# Power of a NUmber:\n",
    "def power(x, n):\n",
    "    a = 0\n",
    "    if n == 0:\n",
    "        return 1\n",
    "    if n % 2 == 0:\n",
    "        return power(x, n//2)*power(x, n//2)        # Everytime we're calling power function. The recurrence relation\n",
    "                                                    # would be T(n) = k + 2T(n/2)   ---> O(n) {No imporovement}\n",
    "    else:\n",
    "        return x*power(x, n//2)*power(x, n//2)\n",
    "    \n",
    "# To optimize this solution, first we can store the power(n//2) then we can use wherever we want. \n",
    "#Recurrence Relation would be T(n) = k + T(n/2) ---> Time Complexity = O(log n), Space Complexity = O(log n) \n",
    "    \n",
    "from sys import setrecursionlimit\n",
    "setrecursionlimit(11000)\n",
    "x, n=list(int(i) for i in input().strip().split(' '))\n",
    "print(power(x, n))"
   ]
  },
  {
   "cell_type": "code",
   "execution_count": null,
   "metadata": {},
   "outputs": [],
   "source": [
    "# Power of a Number (Optimised version): x^n = (x^n/2)^2\n",
    "\n",
    "# x^n = x^n/2 * x^n/2 (if n is even)\n",
    "\n",
    "# x^n = x * x^n/2 * x^n/2 (if n is odd)\n",
    "\n",
    "def power(x, n):\n",
    "    a = 0\n",
    "    if n == 0:\n",
    "        return 1\n",
    "    a = power(x, n//2)\n",
    "    if n % 2 == 0:\n",
    "        return a*a         # Here we're returning a*a when n is even else x*a*a\n",
    "    else:\n",
    "        return x*a*a\n",
    "    \n",
    "#Recurrence Relation would be T(n) = k + T(n/2) ---> Time Complexity = O(log n), Space Complexity = O(log n)\n",
    "    \n",
    "from sys import setrecursionlimit\n",
    "setrecursionlimit(11000)\n",
    "x, n=list(int(i) for i in input().strip().split(' '))\n",
    "print(power(x, n))"
   ]
  }
 ],
 "metadata": {
  "kernelspec": {
   "display_name": "Python 3",
   "language": "python",
   "name": "python3"
  },
  "language_info": {
   "codemirror_mode": {
    "name": "ipython",
    "version": 3
   },
   "file_extension": ".py",
   "mimetype": "text/x-python",
   "name": "python",
   "nbconvert_exporter": "python",
   "pygments_lexer": "ipython3",
   "version": "3.7.3"
  }
 },
 "nbformat": 4,
 "nbformat_minor": 2
}
