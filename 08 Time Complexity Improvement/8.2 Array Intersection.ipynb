{
 "cells": [
  {
   "cell_type": "markdown",
   "metadata": {},
   "source": [
    "#### Find the intersection of two arrays:                                            "
   ]
  },
  {
   "cell_type": "markdown",
   "metadata": {},
   "source": [
    "#### If your problem takes more than or equal to O(n^2) time in arras then sorting is free. \n",
    "#### Sort the array first and then try to solve the problem"
   ]
  },
  {
   "cell_type": "code",
   "execution_count": 5,
   "metadata": {},
   "outputs": [
    {
     "name": "stdout",
     "output_type": "stream",
     "text": [
      "5\n",
      "2 6 5 4 1\n",
      "6\n",
      "3 5 1 6 8 7\n",
      "1\n",
      "5\n",
      "6\n"
     ]
    }
   ],
   "source": [
    "# Time Complexity: O(mlogm + nlogn)\n",
    "\n",
    "def intersection(arr1, arr2):\n",
    "  arr1.sort()\n",
    "  arr2.sort()\n",
    "\n",
    "  p1 = 0\n",
    "  p2 = 0\n",
    "  \n",
    "  while p1 < len(arr1) and p2 < len(arr2):\n",
    "\n",
    "    if arr1[p1] == arr2[p2]:\n",
    "      print(arr1[p1])\n",
    "      p1 += 1\n",
    "      p2 += 1\n",
    "    \n",
    "    elif arr1[p1] > arr2[p2]:\n",
    "      p2 += 1\n",
    "    \n",
    "    elif arr1[p1] < arr2[p2]:\n",
    "      p1 += 1\n",
    "\n",
    "n1=int(input())\n",
    "arr1=list(int(i) for i in input().strip().split(' ')[:n1])\n",
    "\n",
    "n2=int(input())\n",
    "arr2=list(int(i) for i in input().strip().split(' ')[:n2])\n",
    "\n",
    "intersection(arr1, arr2) \n"
   ]
  },
  {
   "cell_type": "markdown",
   "metadata": {},
   "source": [
    "### More Optimised version: O(mlog n + nlog n)"
   ]
  },
  {
   "cell_type": "code",
   "execution_count": 6,
   "metadata": {},
   "outputs": [
    {
     "name": "stdout",
     "output_type": "stream",
     "text": [
      "4\n",
      "6 3 2 5 \n",
      "5\n",
      "3 2 1 5 8\n",
      "3\n",
      "2\n",
      "5\n"
     ]
    }
   ],
   "source": [
    "# Time Complexity(mlogn + nlogn)\n",
    "# Sort the array which is smaller and then pick the element from the unsorted array. Perform a Binary search in the sorted\n",
    "# array which takes around 'log n' time and 'nlog n' for sorting. Total would be (nlog n + mlog n)\n",
    "\n",
    "def binary(arr, l, h, key):\n",
    "  mid = (l+h)// 2\n",
    "\n",
    "  if l > h:\n",
    "    return -1\n",
    "\n",
    "  if arr[mid] == key:\n",
    "    return mid\n",
    "  \n",
    "  if key < arr[mid]:\n",
    "    return binary(arr, l, mid-1, key)\n",
    "  else:\n",
    "    return binary(arr, mid+1, h, key)  \n",
    "\n",
    "def intersection(arr1, arr2):\n",
    "  if len(arr1) < len(arr2):\n",
    "    arr1.sort()\n",
    "    p2 = 0\n",
    "    l2 = len(arr2)\n",
    "\n",
    "    while l2 > 0:\n",
    "      if binary(arr1, 0, len(arr1)-1, arr2[p2]) != -1:\n",
    "        print(arr2[p2])   \n",
    "      p2 += 1\n",
    "      l2 -= 1\n",
    "\n",
    "  else:\n",
    "    arr2.sort()\n",
    "    p1 = 0\n",
    "    l1 = len(arr1)\n",
    "    while l1 > 0:\n",
    "      if binary(arr2, 0, len(arr2)-1, arr1[p1]) != -1:\n",
    "        print(arr1[p1])   \n",
    "      p1 += 1\n",
    "      l1 -= 1 \n",
    "  \n",
    "n1=int(input())\n",
    "arr1=list(int(i) for i in input().strip().split(' ')[:n1])\n",
    "\n",
    "n2=int(input())\n",
    "arr2=list(int(i) for i in input().strip().split(' ')[:n2])\n",
    "\n",
    "intersection(arr1, arr2) "
   ]
  },
  {
   "cell_type": "markdown",
   "metadata": {},
   "source": [
    "#### There is not much difference in the code but we can say that the latter one is far better than the former one"
   ]
  }
 ],
 "metadata": {
  "kernelspec": {
   "display_name": "Python 3",
   "language": "python",
   "name": "python3"
  },
  "language_info": {
   "codemirror_mode": {
    "name": "ipython",
    "version": 3
   },
   "file_extension": ".py",
   "mimetype": "text/x-python",
   "name": "python",
   "nbconvert_exporter": "python",
   "pygments_lexer": "ipython3",
   "version": "3.7.3"
  }
 },
 "nbformat": 4,
 "nbformat_minor": 2
}
