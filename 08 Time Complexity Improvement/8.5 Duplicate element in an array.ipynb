{
 "cells": [
  {
   "cell_type": "code",
   "execution_count": 4,
   "metadata": {},
   "outputs": [
    {
     "name": "stdout",
     "output_type": "stream",
     "text": [
      "9\n",
      "1 0 8 9 -3 3 8 5 3\n",
      "11\n"
     ]
    }
   ],
   "source": [
    "# Optimised solution < 10^6 \n",
    "\n",
    "def MissingNumber(arr):\n",
    "  sum1 = sum(arr)\n",
    "  x = set()\n",
    "  for i in arr:\n",
    "    x.add(i)\n",
    "  return sum1 - sum(x)\n",
    " \n",
    "\n",
    "n=int(input())\n",
    "arr=list(int(i) for i in input().strip().split(' '))\n",
    "ans=MissingNumber(arr)\n",
    "print(ans)"
   ]
  },
  {
   "cell_type": "code",
   "execution_count": null,
   "metadata": {},
   "outputs": [],
   "source": []
  }
 ],
 "metadata": {
  "kernelspec": {
   "display_name": "Python 3",
   "language": "python",
   "name": "python3"
  },
  "language_info": {
   "codemirror_mode": {
    "name": "ipython",
    "version": 3
   },
   "file_extension": ".py",
   "mimetype": "text/x-python",
   "name": "python",
   "nbconvert_exporter": "python",
   "pygments_lexer": "ipython3",
   "version": "3.7.3"
  }
 },
 "nbformat": 4,
 "nbformat_minor": 2
}
