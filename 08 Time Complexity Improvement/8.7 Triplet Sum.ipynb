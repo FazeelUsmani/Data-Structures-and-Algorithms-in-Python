{
 "cells": [
  {
   "cell_type": "markdown",
   "metadata": {},
   "source": [
    "### Triple Sum:- O(N^3) "
   ]
  },
  {
   "cell_type": "code",
   "execution_count": null,
   "metadata": {},
   "outputs": [],
   "source": [
    "n = int(input())\n",
    "list = list(int(x) for x in input().strip().split())\n",
    "x = int(input())\n",
    "\n",
    "# n = 7\n",
    "# list = [1,2,3,4,5,6,7]\n",
    "# x = 12\n",
    "list.sort()\n",
    "\n",
    "for i in range(0, len(list) - 2):\n",
    "  for j in range(i + 1, len(list) -1):\n",
    "    for k in range(j + 1, len(list)):\n",
    "      if list[i] + list[j] + list[k] == x:\n",
    "        print(list[i], list[j], list[k])"
   ]
  },
  {
   "cell_type": "markdown",
   "metadata": {},
   "source": [
    "The above code is not accepted by the Coding Ninjas assignment because it has a time complexity of O(N^2). So, I've solved it in O(N^2) [Refer code below]"
   ]
  },
  {
   "cell_type": "markdown",
   "metadata": {},
   "source": [
    "### O(N^2) Solution"
   ]
  },
  {
   "cell_type": "code",
   "execution_count": 2,
   "metadata": {},
   "outputs": [
    {
     "name": "stdout",
     "output_type": "stream",
     "text": [
      "7\n",
      "1 2 3 4 5 6 7\n",
      "10\n",
      "1 2 7\n",
      "1 3 6\n",
      "1 4 5\n",
      "2 3 5\n"
     ]
    }
   ],
   "source": [
    "n = int(input())\n",
    "list = [int(x) for x in input().split()]\n",
    "list.sort()\n",
    " \n",
    "r = int(input())\n",
    " \n",
    "for j in range(n):\n",
    "    st=j+1\n",
    "    end=n-1\n",
    "    m=r-li[j]\n",
    "    while st<=end and end<n and st>-1:\n",
    "        if list[st]+li[end]>m:\n",
    "            end-=1\n",
    "        elif list[st]+li[end]<m:\n",
    "            st+=1\n",
    "        else:\n",
    "            c1=0\n",
    "            c2=0\n",
    "            for i in range(st,end+1):\n",
    "                if list[st]==list[i]:\n",
    "                    c1=c1+1\n",
    "                else:\n",
    "                    break\n",
    "            for i in range(end,st-1,-1):\n",
    "                if list[end]==list[i]:\n",
    "                    c2=c2+1\n",
    "                else:\n",
    "                    break\n",
    "            if list[st]==list[end]:\n",
    "                com=((end-st+1)*(end-st))//2\n",
    "            else:\n",
    "                com=c1*c2\n",
    "            for i in range(com):\n",
    "                print(str(list[j]),str(list[st]),str(list[end]))\n",
    "            st=st+c1\n",
    "            end=end-c2"
   ]
  },
  {
   "cell_type": "markdown",
   "metadata": {},
   "source": [
    "### More optimized code; I mean the understandable code:"
   ]
  },
  {
   "cell_type": "code",
   "execution_count": 7,
   "metadata": {},
   "outputs": [
    {
     "name": "stdout",
     "output_type": "stream",
     "text": [
      "1 4 7\n",
      "1 5 6\n",
      "2 3 7\n",
      "2 4 6\n",
      "3 4 5\n"
     ]
    }
   ],
   "source": [
    "def triplet(arr, sum):\n",
    "    arr.sort()                        # O(NlogN) time for sorting\n",
    "    for i in range(0, len(arr) - 2):  #running loop till the last 3rd element in the list\n",
    "        s = i+1\n",
    "        e = len(arr) - 1\n",
    "        while s < e:                  # start index is less than end index\n",
    "            if ((arr[i] + arr[s] + arr[e]) == sum):\n",
    "                print(arr[i], arr[s], arr[e])        # This prints in sorted order as we sorted the array in the beginning\n",
    "                s = s + 1\n",
    "                e = e - 1\n",
    "            \n",
    "            elif ((arr[i] + arr[s] + arr[e]) < sum):\n",
    "                s = s + 1\n",
    "            \n",
    "            else:\n",
    "                e = e - 1                         \n",
    "    \n",
    "arr = [1,2,3,4,5,6,7]    \n",
    "k = 12\n",
    "triplet(arr, k)\n",
    "    "
   ]
  },
  {
   "cell_type": "code",
   "execution_count": null,
   "metadata": {},
   "outputs": [],
   "source": []
  }
 ],
 "metadata": {
  "kernelspec": {
   "display_name": "Python 3",
   "language": "python",
   "name": "python3"
  },
  "language_info": {
   "codemirror_mode": {
    "name": "ipython",
    "version": 3
   },
   "file_extension": ".py",
   "mimetype": "text/x-python",
   "name": "python",
   "nbconvert_exporter": "python",
   "pygments_lexer": "ipython3",
   "version": "3.7.3"
  }
 },
 "nbformat": 4,
 "nbformat_minor": 2
}
