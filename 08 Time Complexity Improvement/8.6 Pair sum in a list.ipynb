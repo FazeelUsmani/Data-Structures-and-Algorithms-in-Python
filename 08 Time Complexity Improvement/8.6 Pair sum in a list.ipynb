{
 "cells": [
  {
   "cell_type": "code",
   "execution_count": 1,
   "metadata": {},
   "outputs": [
    {
     "name": "stdout",
     "output_type": "stream",
     "text": [
      "7\n",
      "1 2 5 4 3 6 8 \n",
      "6\n",
      "1 5\n",
      "2 4\n",
      "2 4\n",
      "3 3\n"
     ]
    }
   ],
   "source": [
    "def pairSum(arr, x):\n",
    "    for i in range(0, len(arr)-1):\n",
    "        for j in range(1, len(arr)):\n",
    "            if arr[i] + arr[j] == x:\n",
    "                if arr[i] > arr[j]:\n",
    "                    print(arr[j], arr[i])\n",
    "                else:\n",
    "                    print(arr[i], arr[j])\n",
    "    \n",
    "    \n",
    "    \n",
    "    \n",
    "n=int(input())\n",
    "arr=list(int(i) for i in input().strip().split(' '))\n",
    "sum=int(input())\n",
    "pairSum(arr, sum)\n"
   ]
  },
  {
   "cell_type": "code",
   "execution_count": null,
   "metadata": {},
   "outputs": [],
   "source": []
  }
 ],
 "metadata": {
  "kernelspec": {
   "display_name": "Python 3",
   "language": "python",
   "name": "python3"
  },
  "language_info": {
   "codemirror_mode": {
    "name": "ipython",
    "version": 3
   },
   "file_extension": ".py",
   "mimetype": "text/x-python",
   "name": "python",
   "nbconvert_exporter": "python",
   "pygments_lexer": "ipython3",
   "version": "3.7.3"
  }
 },
 "nbformat": 4,
 "nbformat_minor": 2
}
