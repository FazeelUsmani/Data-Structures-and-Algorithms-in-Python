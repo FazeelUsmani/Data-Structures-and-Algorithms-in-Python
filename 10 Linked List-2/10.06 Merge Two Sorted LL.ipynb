{
 "cells": [
  {
   "cell_type": "code",
   "execution_count": null,
   "metadata": {},
   "outputs": [],
   "source": [
    "class Node:\n",
    "    def __init__(self, data):\n",
    "        self.data = data\n",
    "        self.next = None\n",
    "\n",
    "\n",
    "def merge(head1,head2):\n",
    "\n",
    "    fh = Node(3)               # Initialising fh as a dummy node and then fi\n",
    "    ft = fh       \n",
    "    while head1 is not None and head2 is not None:\n",
    "        if head1.data < head2.data:\n",
    "            ft.next = head1\n",
    "            ft = ft.next\n",
    "            head1 = head1.next\n",
    "        else:\n",
    "            ft.next = head2\n",
    "            ft = ft.next\n",
    "            head2 = head2.next\n",
    "            \n",
    "    while head1 is not None:\n",
    "        ft.next = head1\n",
    "        ft = ft.next\n",
    "        head1 = head1.next\n",
    "    \n",
    "    while head2 is not None:\n",
    "        ft.next = head2\n",
    "        ft = ft.next    \n",
    "        head2 = head2.next\n",
    "    \n",
    "    return fh.next\n",
    "    \n",
    "    \n",
    "def ll(arr):\n",
    "    if len(arr)==0:\n",
    "        return None\n",
    "    head = Node(arr[0])\n",
    "    last = head\n",
    "    for data in arr[1:]:\n",
    "        last.next = Node(data)\n",
    "        last = last.next\n",
    "    return head\n",
    "\n",
    "def printll(head):\n",
    "    while head:\n",
    "        print(head.data, end=' ')\n",
    "        head = head.next\n",
    "    print()\n",
    "\n",
    "# Main\n",
    "# Read the link list elements including -1\n",
    "arr1=list(int(i) for i in input().strip().split(' '))\n",
    "arr2=list(int(i) for i in input().strip().split(' '))\n",
    "# Create a Linked list after removing -1 from list\n",
    "l1 = ll(arr1[:-1])\n",
    "l2 = ll(arr2[:-1])\n",
    "l = merge(l1, l2)\n",
    "printll(l)\n"
   ]
  },
  {
   "cell_type": "code",
   "execution_count": null,
   "metadata": {},
   "outputs": [],
   "source": []
  },
  {
   "cell_type": "code",
   "execution_count": null,
   "metadata": {},
   "outputs": [],
   "source": []
  }
 ],
 "metadata": {
  "kernelspec": {
   "display_name": "Python 3",
   "language": "python",
   "name": "python3"
  },
  "language_info": {
   "codemirror_mode": {
    "name": "ipython",
    "version": 3
   },
   "file_extension": ".py",
   "mimetype": "text/x-python",
   "name": "python",
   "nbconvert_exporter": "python",
   "pygments_lexer": "ipython3",
   "version": "3.7.3"
  }
 },
 "nbformat": 4,
 "nbformat_minor": 2
}
