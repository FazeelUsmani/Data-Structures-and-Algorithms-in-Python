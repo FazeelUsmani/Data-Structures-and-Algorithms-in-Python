{
 "cells": [
  {
   "cell_type": "markdown",
   "metadata": {},
   "source": [
    "##### Given a linked list and two integers M and N. Traverse the linked list such that you retain M nodes then delete next N nodes, continue the same until end of the linked list. That is, in the given linked list you need to delete N nodes after every M nodes.\n",
    "\n",
    "Input format :\n",
    "\n",
    "Line 1 : Linked list elements (separated by space and terminated by -1)\n",
    "\n",
    "Line 2 : M\n",
    "\n",
    "Line 3 : N\n",
    "Sample Input 1 :\n",
    "\n",
    "1 2 3 4 5 6 7 8 -1\n",
    "2\n",
    "2\n",
    "\n",
    "Sample Output 1 :\n",
    "\n",
    "1 2 5 6\n",
    "\n",
    "Sample Input 2 :\n",
    "\n",
    "1 2 3 4 5 6 7 8 -1\n",
    "2\n",
    "3\n",
    "\n",
    "Sample Output 2 :\n",
    "\n",
    "1 2 6 7\n",
    "\n"
   ]
  },
  {
   "cell_type": "code",
   "execution_count": 1,
   "metadata": {},
   "outputs": [
    {
     "name": "stdout",
     "output_type": "stream",
     "text": [
      "1 2 3 4 5 6 7 8 9 -1\n",
      "3\n",
      "3\n",
      "1 2 3 7 8 9 \n"
     ]
    }
   ],
   "source": [
    "class Node:\n",
    "    def __init__(self, data):\n",
    "        self.data = data\n",
    "        self.next = None\n",
    "\n",
    "def skipMdeleteN(head, M, N):\n",
    "    if head is None:\n",
    "        return head\n",
    "    if M == 0:\n",
    "        return None\n",
    "    temp = head\n",
    "    prev = None\n",
    "    cnt = 0\n",
    "    while temp is not None:\n",
    "        if(cnt == M):\n",
    "            break\n",
    "        cnt += 1\n",
    "        prev = temp\n",
    "        temp = temp.next\n",
    "    cnt = 0\n",
    "    while temp is not None:\n",
    "        if(cnt == N):\n",
    "            break\n",
    "        cnt += 1\n",
    "        temp = temp.next\n",
    "        \n",
    "    prev.next = skipMdeleteN(temp, M, N)\n",
    "    return head\n",
    "    \n",
    "def ll(arr):\n",
    "    if len(arr)==0:\n",
    "        return None\n",
    "    head = Node(arr[0])\n",
    "    last = head\n",
    "    for data in arr[1:]:\n",
    "        last.next = Node(data)\n",
    "        last = last.next\n",
    "    return head\n",
    "\n",
    "def printll(head):\n",
    "    while head:\n",
    "        print(head.data, end=' ')\n",
    "        head = head.next\n",
    "    print()\n",
    "\n",
    "\n",
    "arr=list(int(i) for i in input().strip().split(' '))\n",
    "\n",
    "l = ll(arr[:-1])\n",
    "m=int(input())\n",
    "n=int(input())\n",
    "\n",
    "l = skipMdeleteN(l, m, n)\n",
    "printll(l) "
   ]
  },
  {
   "cell_type": "code",
   "execution_count": null,
   "metadata": {},
   "outputs": [],
   "source": []
  }
 ],
 "metadata": {
  "kernelspec": {
   "display_name": "Python 3",
   "language": "python",
   "name": "python3"
  },
  "language_info": {
   "codemirror_mode": {
    "name": "ipython",
    "version": 3
   },
   "file_extension": ".py",
   "mimetype": "text/x-python",
   "name": "python",
   "nbconvert_exporter": "python",
   "pygments_lexer": "ipython3",
   "version": "3.7.3"
  }
 },
 "nbformat": 4,
 "nbformat_minor": 2
}
