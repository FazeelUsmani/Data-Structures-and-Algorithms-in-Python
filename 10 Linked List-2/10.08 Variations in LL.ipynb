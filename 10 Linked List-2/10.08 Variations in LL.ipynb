{
 "cells": [
  {
   "cell_type": "markdown",
   "metadata": {},
   "source": [
    "## Types of Linked List:\n",
    "\n",
    "### 1) Singly Linked List:\n",
    "class Node{\n",
    "    def __init__(self, data){\n",
    "        self.data = data\n",
    "        self.next = None\n",
    "        }\n",
    "\n",
    "### 2) Doubly Linked List:\n",
    "class Node{\n",
    "    def __init__(self, data){\n",
    "        self.data = data\n",
    "        self.next = None\n",
    "        self.prev = None\n",
    "        }\n",
    "        \n",
    "### 3) Circular Singly Linked List: Same as Singly LL but tail's next will be head. \n",
    "count = 1\n",
    "temp = head.next\n",
    "while temp is not head:\n",
    "    head = head.next\n",
    "    cnt += 1\n",
    "    \n",
    "O(N) operations if you want to add an element at the beginning. First we need to traverse till the tail and assign tail.next = newNode and the newNode.next = head.\n",
    "\n",
    "### 4) Circular Doubly Linked List: \n",
    "Everything is same as DLL but the head's previous will be tail and tail's next will be head.\n",
    "\n",
    "\n",
    "\n",
    "** Try to insert and delete an element in the above stated LL\n",
    "\n",
    "\n"
   ]
  },
  {
   "cell_type": "markdown",
   "metadata": {},
   "source": [
    "# Predict the Output:\n",
    "\n",
    "### Circular doubly LL:\n",
    "\n",
    "Given an unsorted circular doubly linked list, suppose you have reference (or pointer) to its head node only, which of the following operation can be implemented in O(1) time?\n",
    "\n",
    "i) Insertion at the front of the linked list\n",
    "ii) Insertion at the end of the linked list\n",
    "iii) Deletion of the last node of the linked list\n",
    "iv) Deletion of the front node of the linked list\n",
    "\n",
    "Ans:- I, II, III and IV"
   ]
  },
  {
   "cell_type": "markdown",
   "metadata": {},
   "source": [
    "### Traversal in LL:\n",
    "\n",
    "In doubly linked lists, traversal can be done in ?\n",
    "\n",
    "Ans:- Both directions"
   ]
  },
  {
   "cell_type": "markdown",
   "metadata": {},
   "source": [
    "### Double LL: \n",
    "\n",
    "Given an unsorted doubly Linked List, suppose you have references (or pointer) to its head and tail nodes, which of the following operation can be implemented in O(1) time ?\n",
    "\n",
    "i) Insertion at the front of the linked list\n",
    "ii) Insertion at the end of the linked list\n",
    "iii) Deletion of the last node of the linked list\n",
    "iv) Deletion of the front node of the linked list\n",
    "\n",
    "Ans:- I, II, III and IV"
   ]
  },
  {
   "cell_type": "markdown",
   "metadata": {},
   "source": [
    "### Circular LL:\n",
    "\n",
    "Given an unsorted circular linked list, suppose you have reference (or pointer) to its head node only, which of the following operation can be implemented in O(1) time?\n",
    "\n",
    "i) Insertion at the front of the linked list\n",
    "ii) Insertion at the end of the linked list\n",
    "iii) Deletion of the last node of the linked list\n",
    "iv) Deletion of the front node of the linked list\n",
    "\n",
    "Ans:- None"
   ]
  }
 ],
 "metadata": {
  "kernelspec": {
   "display_name": "Python 3",
   "language": "python",
   "name": "python3"
  },
  "language_info": {
   "codemirror_mode": {
    "name": "ipython",
    "version": 3
   },
   "file_extension": ".py",
   "mimetype": "text/x-python",
   "name": "python",
   "nbconvert_exporter": "python",
   "pygments_lexer": "ipython3",
   "version": "3.7.3"
  }
 },
 "nbformat": 4,
 "nbformat_minor": 2
}
