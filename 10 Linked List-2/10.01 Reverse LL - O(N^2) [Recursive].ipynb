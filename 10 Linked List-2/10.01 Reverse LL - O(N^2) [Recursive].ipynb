{
 "cells": [
  {
   "cell_type": "markdown",
   "metadata": {},
   "source": [
    "### Reversing a LL, not printing a LL in reverse order but we're actually reversing the LL\n",
    "#### For an example:- If LL is 1-->2-->3-->4-->5-->None then the output should be 5-->4-->3-->2-->1-->None "
   ]
  },
  {
   "cell_type": "code",
   "execution_count": 20,
   "metadata": {},
   "outputs": [
    {
     "name": "stdout",
     "output_type": "stream",
     "text": [
      "1 --> 2 --> 3 --> 4 --> 5 --> None\n",
      "5 --> 4 --> 3 --> 2 --> 1 --> None\n"
     ]
    }
   ],
   "source": [
    "class Node:\n",
    "    def __init__(self, data):\n",
    "        self.data = data\n",
    "        self.next = None\n",
    "   \n",
    "    \n",
    "def printll(head):\n",
    "    while head is not None:\n",
    "        print(head.data, \"-->\", end = \" \")\n",
    "        head = head.next\n",
    "    print(\"None\")\n",
    "        \n",
    "def ll(arr):\n",
    "    if len(arr) == 0:\n",
    "        return None\n",
    "    head = Node(arr[0])\n",
    "    last = head\n",
    "    for data in arr[1:]:\n",
    "        last.next = Node(data)\n",
    "        last = last.next\n",
    "    return head  \n",
    "\n",
    "def reversell(head):\n",
    "    \n",
    "    if head is None or head.next is None:\n",
    "        return head\n",
    "   \n",
    "    smallhead = reversell(head.next)  \n",
    "    curr = smallhead\n",
    "    \n",
    "    while curr.next is not None:\n",
    "        curr = curr.next\n",
    "        \n",
    "    curr.next = head\n",
    "    head.next = None\n",
    "    return smallhead\n",
    "\n",
    "#arr = list(int(x) for x in input().split())\n",
    "arr = [1,2,3,4,5,-1]\n",
    "l = ll(arr[:-1])\n",
    "printll(l)\n",
    "\n",
    "x = reversell(l)\n",
    "printll(x)"
   ]
  },
  {
   "cell_type": "markdown",
   "metadata": {},
   "source": [
    "#### Time Complexity is O(N^2)"
   ]
  },
  {
   "cell_type": "code",
   "execution_count": null,
   "metadata": {},
   "outputs": [],
   "source": []
  }
 ],
 "metadata": {
  "kernelspec": {
   "display_name": "Python 3",
   "language": "python",
   "name": "python3"
  },
  "language_info": {
   "codemirror_mode": {
    "name": "ipython",
    "version": 3
   },
   "file_extension": ".py",
   "mimetype": "text/x-python",
   "name": "python",
   "nbconvert_exporter": "python",
   "pygments_lexer": "ipython3",
   "version": "3.7.3"
  }
 },
 "nbformat": 4,
 "nbformat_minor": 2
}
