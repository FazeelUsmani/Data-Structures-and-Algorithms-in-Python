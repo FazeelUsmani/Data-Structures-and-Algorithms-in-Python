{
 "cells": [
  {
   "cell_type": "code",
   "execution_count": 5,
   "metadata": {},
   "outputs": [
    {
     "name": "stdout",
     "output_type": "stream",
     "text": [
      "1 --> 2 --> 3 --> 4 --> 5 --> None\n",
      "5 --> 4 --> 3 --> 2 --> 1 --> None\n"
     ]
    }
   ],
   "source": [
    "class Node:\n",
    "    def __init__(self, data):\n",
    "        self.data = data\n",
    "        self.next = None\n",
    "   \n",
    "    \n",
    "def printll(head):\n",
    "    while head is not None:\n",
    "        print(head.data, \"-->\", end = \" \")\n",
    "        head = head.next\n",
    "    print(\"None\")\n",
    "        \n",
    "def ll(arr):\n",
    "    if len(arr) == 0:\n",
    "        return None\n",
    "    head = Node(arr[0])\n",
    "    last = head\n",
    "    for data in arr[1:]:\n",
    "        last.next = Node(data)\n",
    "        last = last.next\n",
    "    return head  \n",
    "\n",
    "def reverse(head):    \n",
    "    curr = head\n",
    "    prev = None\n",
    "    while curr is not None:\n",
    "        next = curr.next\n",
    "        curr.next = prev\n",
    "        prev = curr\n",
    "        curr = next\n",
    "    head = prev         \n",
    "    return head\n",
    "\n",
    "\n",
    "#arr = list(int(x) for x in input().split())\n",
    "arr = [1,2,3,4,5,-1]\n",
    "l = ll(arr[:-1])\n",
    "printll(l)\n",
    "\n",
    "head = reverse(l)\n",
    "printll(head)"
   ]
  },
  {
   "cell_type": "code",
   "execution_count": null,
   "metadata": {},
   "outputs": [],
   "source": []
  }
 ],
 "metadata": {
  "kernelspec": {
   "display_name": "Python 3",
   "language": "python",
   "name": "python3"
  },
  "language_info": {
   "codemirror_mode": {
    "name": "ipython",
    "version": 3
   },
   "file_extension": ".py",
   "mimetype": "text/x-python",
   "name": "python",
   "nbconvert_exporter": "python",
   "pygments_lexer": "ipython3",
   "version": "3.7.3"
  }
 },
 "nbformat": 4,
 "nbformat_minor": 2
}
