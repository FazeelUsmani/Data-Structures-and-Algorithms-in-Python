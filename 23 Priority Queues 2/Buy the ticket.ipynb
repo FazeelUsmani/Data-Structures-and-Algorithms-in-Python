{
 "cells": [
  {
   "cell_type": "markdown",
   "metadata": {},
   "source": [
    "# Implement buy the ticket"
   ]
  },
  {
   "cell_type": "code",
   "execution_count": 1,
   "metadata": {},
   "outputs": [
    {
     "name": "stdout",
     "output_type": "stream",
     "text": [
      "Enter total number of people standing in queue: 3\n",
      "Enter priorities of every person: 3 9 4\n",
      "Enter index of your priority: 2\n",
      "2\n"
     ]
    }
   ],
   "source": [
    "N = int(input (\"Enter total number of people standing in queue: \"))\n",
    "l = input(\"Enter priorities of every person: \").split()\n",
    "k = int(input (\"Enter index of your priority: \"))\n",
    "\n",
    "time = 0\n",
    "flag = 0\n",
    "d = { i : v for i,v in enumerate(l)}\n",
    "\n",
    "for word in range(N):\n",
    "    for i, v in d.copy().items():\n",
    "        if v < max(d.values()):       \n",
    "            d.pop(i)\n",
    "            d.update({i : v })\n",
    "            \n",
    "        elif flag == 1:\n",
    "            break\n",
    "\n",
    "        else:\n",
    "            d.pop(i)        \n",
    "            time = time + 1\n",
    "            \n",
    "            if i == k:        \n",
    "                flag = 1\n",
    "        \n",
    "print(time)   "
   ]
  }
 ],
 "metadata": {
  "kernelspec": {
   "display_name": "Python 3",
   "language": "python",
   "name": "python3"
  },
  "language_info": {
   "codemirror_mode": {
    "name": "ipython",
    "version": 3
   },
   "file_extension": ".py",
   "mimetype": "text/x-python",
   "name": "python",
   "nbconvert_exporter": "python",
   "pygments_lexer": "ipython3",
   "version": "3.7.6"
  }
 },
 "nbformat": 4,
 "nbformat_minor": 4
}
