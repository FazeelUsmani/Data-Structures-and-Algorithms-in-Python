{
 "cells": [
  {
   "cell_type": "code",
   "execution_count": null,
   "metadata": {},
   "outputs": [],
   "source": [
    "Maintain an edge class which will have a source, destination and weight\n",
    "\n",
    "Edge[]\n"
   ]
  },
  {
   "cell_type": "code",
   "execution_count": null,
   "metadata": {},
   "outputs": [],
   "source": [
    "Step 1: Sort the input array according to weight\n",
    "Step 2: Initially count = 0. \n",
    "Step 3: while count < n-1\n",
    "Step 4: Check whether connecting v1, v2 forms a cycle or not [Union Find Algorithm]\n",
    "        If topmost parent are same then don't add in output\n",
    "        else make changes in parent array and add that edge in the output finally increment the count"
   ]
  },
  {
   "cell_type": "code",
   "execution_count": 22,
   "metadata": {},
   "outputs": [
    {
     "name": "stdout",
     "output_type": "stream",
     "text": [
      "4 4\n",
      "0 1 2\n",
      "1 3 3\n",
      "0 2 5\n",
      "2 3 8\n",
      "[<__main__.Edge object at 0x0000017F27A95B00>, <__main__.Edge object at 0x0000017F27A334E0>, <__main__.Edge object at 0x0000017F279E49E8>]\n",
      "0 1 2\n",
      "1 3 3\n",
      "0 2 5\n"
     ]
    }
   ],
   "source": [
    "class Edge:\n",
    "    def __init__(self, src, dest, wt):\n",
    "        self.src = src\n",
    "        self.dest = dest\n",
    "        self.wt = wt\n",
    "        \n",
    "def getParent(v, parent):\n",
    "    if (v == parent[v]):\n",
    "        return v\n",
    "    return getParent(parent[v], parent)\n",
    "\n",
    "def kruskal(edges, nVertices):\n",
    "    parent = [i for i in range(nVertices)]\n",
    "    edges = sorted(edges, key=lambda edge:edge.wt)\n",
    "    \n",
    "    #print(edges)\n",
    "    count = 0\n",
    "    output = []\n",
    "    i = 0\n",
    "    while count < (nVertices - 1):\n",
    "        currentEdge = edges[i]\n",
    "        srcParent = getParent(currentEdge.src, parent)\n",
    "        destParent = getParent(currentEdge.dest, parent)\n",
    "        \n",
    "        if srcParent != destParent:\n",
    "            output.append(currentEdge)\n",
    "            count += 1\n",
    "            parent[srcParent] = destParent    \n",
    "        i += 1\n",
    "        \n",
    "    return output        \n",
    "\n",
    "    \n",
    "li = [int(ele) for ele in input().split()]\n",
    "n = li[0]\n",
    "E = li[1]\n",
    "edges = []\n",
    "\n",
    "for i in range(E):\n",
    "    curr_input = [int(x) for x in input().split()]\n",
    "    src = curr_input[0]\n",
    "    dest = curr_input[1]\n",
    "    wt = curr_input[2]\n",
    "    edge = Edge(src, dest, wt)\n",
    "    edges.append(edge)  \n",
    "    \n",
    "output = kruskal(edges, n)\n",
    "\n",
    "\n",
    "for edge in output:\n",
    "    if edge.src < edge.dest:\n",
    "        print(str(edge.src) + \" \" + str(edge.dest) + \" \" + str(edge.wt))\n",
    "    else:\n",
    "        print(str(edge.dest) + \" \" + str(edge.src)  + \" \" + str(edge.wt))\n",
    "    "
   ]
  },
 ],
 "metadata": {
  "kernelspec": {
   "display_name": "Python 3",
   "language": "python",
   "name": "python3"
  },
  "language_info": {
   "codemirror_mode": {
    "name": "ipython",
    "version": 3
   },
   "file_extension": ".py",
   "mimetype": "text/x-python",
   "name": "python",
   "nbconvert_exporter": "python",
   "pygments_lexer": "ipython3",
   "version": "3.7.3"
  }
 },
 "nbformat": 4,
 "nbformat_minor": 2
}
