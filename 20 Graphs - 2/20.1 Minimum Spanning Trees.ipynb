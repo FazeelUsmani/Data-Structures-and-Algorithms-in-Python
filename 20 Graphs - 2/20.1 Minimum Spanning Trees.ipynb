{
 "cells": [
  {
   "cell_type": "markdown",
   "metadata": {},
   "source": [
    "### Minimum Spanning Tree:"
   ]
  },
  {
   "cell_type": "markdown",
   "metadata": {},
   "source": [
    "Trees:\n",
    "    1) Graph is Connected\n",
    "    2) Graph has no cycles\n",
    "    \n",
    "**Tree has n vertices and n-1 edges"
   ]
  },
  {
   "cell_type": "markdown",
   "metadata": {},
   "source": [
    "Minimum Spanning Tree has the minimum weight connecting all vertices and satisfies the following 3 properties:\n",
    "    1) Weighted\n",
    "    2) Undirected\n",
    "    3) Connected"
   ]
  }
 ],
 "metadata": {
  "kernelspec": {
   "display_name": "Python 3",
   "language": "python",
   "name": "python3"
  },
  "language_info": {
   "codemirror_mode": {
    "name": "ipython",
    "version": 3
   },
   "file_extension": ".py",
   "mimetype": "text/x-python",
   "name": "python",
   "nbconvert_exporter": "python",
   "pygments_lexer": "ipython3",
   "version": "3.7.3"
  }
 },
 "nbformat": 4,
 "nbformat_minor": 2
}
