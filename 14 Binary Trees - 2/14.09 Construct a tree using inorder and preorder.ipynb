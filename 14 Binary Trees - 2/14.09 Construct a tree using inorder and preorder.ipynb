{
 "cells": [
  {
   "cell_type": "code",
   "execution_count": null,
   "metadata": {},
   "outputs": [],
   "source": [
    "1) Find the root - preorder[0]\n",
    "2) Find inorder of both left and right subtree - Left sub tree followed by root and the rest will be right sub tree. \n",
    "                   ---> Search for root in inorder. (Left of root is left subtree and right of root is right subtree)\n",
    "3) Find preorder of left and right subtree - Find the middle point between left and right sub tree.\n",
    "4) Use recursion to build left and right subtree\n",
    "5) Connect root with both\n",
    "\n",
    "** Assume all data is unique"
   ]
  },
  {
   "cell_type": "code",
   "execution_count": null,
   "metadata": {},
   "outputs": [],
   "source": [
    "Pre order (Root, left, right):\n",
    "In order (Left, Root, right): "
   ]
  },
  {
   "cell_type": "code",
   "execution_count": 23,
   "metadata": {},
   "outputs": [
    {
     "name": "stdout",
     "output_type": "stream",
     "text": [
      "1 \n",
      "2 3 \n",
      "4 5 6 7 \n"
     ]
    }
   ],
   "source": [
    "import queue\n",
    "class BinaryTreeNode:\n",
    "    def __init__(self, data):\n",
    "        self.data = data\n",
    "        self.left = None\n",
    "        self.right = None\n",
    "\n",
    "def binary_search(a, x, si, ei):\n",
    "    if si > ei:\n",
    "        return -1\n",
    "    \n",
    "    mid = (si + ei)//2\n",
    "    if a[mid] == x:\n",
    "        return mid\n",
    "    elif a[mid] > x:\n",
    "        return binary_search(a, x, si, mid-1)\n",
    "    else:\n",
    "        return binary_search(a, x, mid+1, ei)\n",
    "    \n",
    "    \n",
    "def buildTreePreOrder(preorder, inorder):\n",
    "    if len(preorder) == 0:\n",
    "        return None\n",
    "    root = BinaryTreeNode(preorder[0])\n",
    "    rootIndex = binary_search(inorder, root.data, 0, len(inorder))\n",
    "    \n",
    "    leftInorder = inorder[:rootIndex]\n",
    "    rightInorder = inorder[rootIndex + 1:]\n",
    "    \n",
    "    x = len(leftInorder)    \n",
    "    leftPreorder = preorder[1:1+x]\n",
    "    rightPreorder = preorder[1+x:]\n",
    "    \n",
    "    root.left = buildTreePreOrder(leftPreorder, leftInorder)    # Where to call recursion?\n",
    "    root.right = buildTreePreOrder(rightPreorder, rightInorder)\n",
    "    \n",
    "    return root\n",
    "       \n",
    "\n",
    "\n",
    "def printLevelATNewLine(root):\n",
    "    if root==None:\n",
    "        return\n",
    "    inputQ = queue.Queue()\n",
    "    outputQ = queue.Queue()\n",
    "    inputQ.put(root)\n",
    "    while not inputQ.empty():\n",
    "        while not inputQ.empty():\n",
    "            curr = inputQ.get()\n",
    "            print(curr.data, end=' ')\n",
    "            if curr.left!=None:\n",
    "                outputQ.put(curr.left)\n",
    "            if curr.right!=None:\n",
    "                outputQ.put(curr.right)\n",
    "        print()\n",
    "        inputQ, outputQ = outputQ, inputQ\n",
    "\n",
    "\n",
    "#n=int(input())\n",
    "n = 7\n",
    "#preorder = [int(i) for i in input().strip().split()]\n",
    "#inorder = [int(i) for i in input().strip().split()]\n",
    "#preorder = [1, 2, 3, 4, 15, 5, 6, 7, 8, 10, 9, 12]\n",
    "#inorder = [4, 15, 3, 2, 5, 1, 6, 10, 8, 7, 9, 12]\n",
    "\n",
    "inorder = [4,2,5,1,6,3,7]\n",
    "preorder = [1,2,4,5,3,6,7] \n",
    "\n",
    "root = buildTreePreOrder(preorder, inorder)\n",
    "printLevelATNewLine(root)\n"
   ]
  },
  {
   "cell_type": "code",
   "execution_count": 26,
   "metadata": {},
   "outputs": [
    {
     "name": "stdout",
     "output_type": "stream",
     "text": [
      "1 \n",
      "2 3 \n",
      "4 5 6 7 \n"
     ]
    },
    {
     "ename": "NameError",
     "evalue": "name 'printTreeDetailed' is not defined",
     "output_type": "error",
     "traceback": [
      "\u001b[1;31m---------------------------------------------------------------------------\u001b[0m",
      "\u001b[1;31mNameError\u001b[0m                                 Traceback (most recent call last)",
      "\u001b[1;32m<ipython-input-26-b4a50820e526>\u001b[0m in \u001b[0;36m<module>\u001b[1;34m\u001b[0m\n\u001b[0;32m     33\u001b[0m \u001b[0mroot\u001b[0m \u001b[1;33m=\u001b[0m \u001b[0mbuildTreePreOrder\u001b[0m\u001b[1;33m(\u001b[0m\u001b[0mpreorder\u001b[0m\u001b[1;33m,\u001b[0m \u001b[0minorder\u001b[0m\u001b[1;33m)\u001b[0m\u001b[1;33m\u001b[0m\u001b[1;33m\u001b[0m\u001b[0m\n\u001b[0;32m     34\u001b[0m \u001b[0mprintLevelATNewLine\u001b[0m\u001b[1;33m(\u001b[0m\u001b[0mroot\u001b[0m\u001b[1;33m)\u001b[0m\u001b[1;33m\u001b[0m\u001b[1;33m\u001b[0m\u001b[0m\n\u001b[1;32m---> 35\u001b[1;33m \u001b[0mprintTreeDetailed\u001b[0m\u001b[1;33m(\u001b[0m\u001b[0mroot\u001b[0m\u001b[1;33m)\u001b[0m\u001b[1;33m\u001b[0m\u001b[1;33m\u001b[0m\u001b[0m\n\u001b[0m",
      "\u001b[1;31mNameError\u001b[0m: name 'printTreeDetailed' is not defined"
     ]
    }
   ],
   "source": [
    "def buildTreeFromPreIn(preorder, inorder):\n",
    "    if len(preorder) == 0:\n",
    "        return None\n",
    "    rootData = preorder[0]\n",
    "    root = BinaryTreeNode(rootData)\n",
    "    rootIndexInInorder = -1\n",
    "    for i in range(0, len(inorder)):\n",
    "        if inorder[i] == rootData:\n",
    "            rootIndexInInorder = i\n",
    "            break\n",
    "    if rootIndexInInorder == -1:\n",
    "        return None\n",
    "    \n",
    "    leftInorder = inorder[0:rootIndexInorder]\n",
    "    rightInorder = inorder[rootIndexInorder + 1:]\n",
    "    \n",
    "    lenLeftSubtree = len(leftInorder)\n",
    "\n",
    "    leftPreorder = preorder[1:lenLeftSubtree + 1]\n",
    "    rightPreorder = preorder[lenLeftSubtree + 1:]\n",
    "    \n",
    "    leftChild = buildTreeFromPreIn(leftPreorder, leftInorder)\n",
    "    rightChild = buildTreeFromPreIn(rightPreorder, rightInorder)\n",
    "    \n",
    "    root.left = leftChild\n",
    "    root.right = rightChild\n",
    "    \n",
    "    return root\n",
    "    \n",
    "inorder = [4,2,5,1,6,3,7]\n",
    "preorder = [1,2,4,5,3,6,7] \n",
    "\n",
    "root = buildTreePreOrder(preorder, inorder)\n",
    "printLevelATNewLine(root)\n",
    "printTreeDetailed(root)"
   ]
  },
  {
   "cell_type": "code",
   "execution_count": null,
   "metadata": {},
   "outputs": [],
   "source": []
  }
 ],
 "metadata": {
  "kernelspec": {
   "display_name": "Python 3",
   "language": "python",
   "name": "python3"
  },
  "language_info": {
   "codemirror_mode": {
    "name": "ipython",
    "version": 3
   },
   "file_extension": ".py",
   "mimetype": "text/x-python",
   "name": "python",
   "nbconvert_exporter": "python",
   "pygments_lexer": "ipython3",
   "version": "3.7.3"
  }
 },
 "nbformat": 4,
 "nbformat_minor": 2
}
