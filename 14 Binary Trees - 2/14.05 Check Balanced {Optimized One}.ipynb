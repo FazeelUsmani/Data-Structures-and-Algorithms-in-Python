{
 "cells": [
  {
   "cell_type": "code",
   "execution_count": 4,
   "metadata": {},
   "outputs": [],
   "source": [
    "class BinaryTreeNode:\n",
    "    def __init__(self, data):\n",
    "        self.data = data\n",
    "        self.left = None\n",
    "        self.right = None"
   ]
  },
  {
   "cell_type": "code",
   "execution_count": 5,
   "metadata": {},
   "outputs": [],
   "source": [
    "def height(root):\n",
    "    if root == None:\n",
    "        return 0\n",
    "\n",
    "    return 1 + max(height(root.left), height(root.right))     "
   ]
  },
  {
   "cell_type": "code",
   "execution_count": 6,
   "metadata": {},
   "outputs": [],
   "source": [
    "def treeInput():\n",
    "        \n",
    "    rootData = int(input())\n",
    "    if rootData == -1:\n",
    "        return None\n",
    "    \n",
    "    root = BinaryTreeNode(rootData)\n",
    "    root.left = treeInput()\n",
    "    root.right = treeInput()\n",
    "\n",
    "    return root"
   ]
  },
  {
   "cell_type": "code",
   "execution_count": 7,
   "metadata": {},
   "outputs": [],
   "source": [
    "def printTreeDetailed(root):\n",
    "    if root == None:\n",
    "        return\n",
    "    print(root.data, end = \":\")\n",
    "    \n",
    "    if root.left is not None:\n",
    "        print(\"L\", root.left.data, end = \",\")\n",
    "        \n",
    "    if root.right is not None:\n",
    "        print(\"R\", root.right.data, end = \" \")\n",
    "        \n",
    "    print()\n",
    "    printTreeDetailed(root.left)\n",
    "    printTreeDetailed(root.right)"
   ]
  },
  {
   "cell_type": "markdown",
   "metadata": {},
   "source": [
    "### The below isBalanced() has a time complexity of O(N^2) in worst case"
   ]
  },
  {
   "cell_type": "code",
   "execution_count": 8,
   "metadata": {},
   "outputs": [],
   "source": [
    "def isBalanced(root):\n",
    "    if root == None:\n",
    "        return True      # Because Empty tree is balanced\n",
    "    \n",
    "    lh = height(root.left)\n",
    "    rh = height(root.right)\n",
    "    if lh - rh > 1 or rh - lh > 1:\n",
    "        return False\n",
    "    \n",
    "    isLeftBalanced = isBalanced(root.left)\n",
    "    isRightBalanced = isBalanced(root.right)\n",
    "    \n",
    "    if isLeftBalanced and isRightBalanced:\n",
    "        return True\n",
    "    else:\n",
    "        return False"
   ]
  },
  {
   "cell_type": "markdown",
   "metadata": {},
   "source": [
    "### The below getHeightAndCheckBalanced() has a time complexity of O(N) in worst case"
   ]
  },
  {
   "cell_type": "code",
   "execution_count": 12,
   "metadata": {},
   "outputs": [],
   "source": [
    "def getHeightAndCheckBalanced(root):\n",
    "    if root == None:\n",
    "        return 0, True\n",
    "    \n",
    "    lh, isLeftBalanced = getHeightAndCheckBalanced(root.left)\n",
    "    rh, isRightBalanced = getHeightAndCheckBalanced(root.right)\n",
    "    \n",
    "    h = 1 + max(lh, rh)\n",
    "    \n",
    "    if lh - rh > 1 or rh - lh > 1:\n",
    "        return h, False\n",
    "    \n",
    "    if isLeftBalanced and isRightBalanced:\n",
    "        return h, True\n",
    "    else:\n",
    "        return h, False        "
   ]
  },
  {
   "cell_type": "code",
   "execution_count": 15,
   "metadata": {},
   "outputs": [],
   "source": [
    "def isBalanced2(root):\n",
    "    h, isRootBalanced = getHeightAndCheckBalanced(root)\n",
    "    return isRootBalanced"
   ]
  },
  {
   "cell_type": "code",
   "execution_count": 13,
   "metadata": {},
   "outputs": [
    {
     "name": "stdout",
     "output_type": "stream",
     "text": [
      "1\n",
      "2\n",
      "4\n",
      "5\n",
      "-1\n",
      "-1\n",
      "-1\n",
      "-1\n",
      "3\n",
      "-1\n",
      "6\n",
      "-1\n",
      "-1\n",
      "1:L 2,R 3 \n",
      "2:L 4,\n",
      "4:L 5,\n",
      "5:\n",
      "3:R 6 \n",
      "6:\n",
      "(4, False)\n"
     ]
    }
   ],
   "source": [
    "root = treeInput()\n",
    "printTreeDetailed(root)\n",
    "print(getHeightAndCheckBalanced(root))\n"
   ]
  },
  {
   "cell_type": "code",
   "execution_count": null,
   "metadata": {},
   "outputs": [],
   "source": [
    "class BinaryTreeNode:\n",
    "    def __init__(self, data):\n",
    "        self.data = data\n",
    "        self.left = None\n",
    "        self.right = None\n",
    "\n",
    "def postorder(root):\n",
    "    if root == None:\n",
    "        return root\n",
    "    postorder(root.left)\n",
    "    postorder(root.right)\n",
    "    postorder(root)\n",
    "    \n"
   ]
  }
 ],
 "metadata": {
  "kernelspec": {
   "display_name": "Python 3",
   "language": "python",
   "name": "python3"
  },
  "language_info": {
   "codemirror_mode": {
    "name": "ipython",
    "version": 3
   },
   "file_extension": ".py",
   "mimetype": "text/x-python",
   "name": "python",
   "nbconvert_exporter": "python",
   "pygments_lexer": "ipython3",
   "version": "3.7.3"
  }
 },
 "nbformat": 4,
 "nbformat_minor": 2
}
