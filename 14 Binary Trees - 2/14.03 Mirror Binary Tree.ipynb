{
 "cells": [
  {
   "cell_type": "code",
   "execution_count": 3,
   "metadata": {},
   "outputs": [
    {
     "name": "stdout",
     "output_type": "stream",
     "text": [
      "1 2 3 4 5 6 7 -1 -1 -1 -1 -1 -1 -1 -1\n",
      "1 \n",
      "3 2 \n",
      "7 6 5 4 \n"
     ]
    }
   ],
   "source": [
    "import queue\n",
    "class BinaryTreeNode:\n",
    "    def __init__(self, data):\n",
    "        self.data = data\n",
    "        self.left = None\n",
    "        self.right = None\n",
    "\n",
    "def mirrorBinaryTree(root):\n",
    "    if root == None:\n",
    "        return None\n",
    "    \n",
    "    if root.left == None and root.right == None:\n",
    "        return None\n",
    "    \n",
    "    mirrorBinaryTree(root.left)\n",
    "    mirrorBinaryTree(root.right)\n",
    "        \n",
    "    temp = root.left\n",
    "    root.left = root.right\n",
    "    root.right = temp        \n",
    "\n",
    "    return root\n",
    "    \n",
    "\n",
    "def buildLevelTree(levelorder):\n",
    "    index = 0\n",
    "    length = len(levelorder)\n",
    "    if length<=0 or levelorder[0]==-1:\n",
    "        return None\n",
    "    root = BinaryTreeNode(levelorder[index])\n",
    "    index += 1\n",
    "    q = queue.Queue()\n",
    "    q.put(root)\n",
    "    while not q.empty():\n",
    "        currentNode = q.get()\n",
    "        leftChild = levelorder[index]\n",
    "        index += 1\n",
    "        if leftChild != -1:\n",
    "            leftNode = BinaryTreeNode(leftChild)\n",
    "            currentNode.left =leftNode\n",
    "            q.put(leftNode)\n",
    "        rightChild = levelorder[index]\n",
    "        index += 1\n",
    "        if rightChild != -1:\n",
    "            rightNode = BinaryTreeNode(rightChild)\n",
    "            currentNode.right =rightNode\n",
    "            q.put(rightNode)\n",
    "    return root\n",
    "\n",
    "# Problem ID 353, Level order traversal\n",
    "def printLevelATNewLine(root):\n",
    "    # Given a binary tree, print the level order traversal. Make sure each level\n",
    "    # start in new line.\n",
    "    if root==None:\n",
    "        return\n",
    "    inputQ = queue.Queue()\n",
    "    outputQ = queue.Queue()\n",
    "    inputQ.put(root)\n",
    "    while not inputQ.empty():\n",
    "        while not inputQ.empty():\n",
    "            curr = inputQ.get()\n",
    "            print(curr.data, end=' ')\n",
    "            if curr.left!=None:\n",
    "                outputQ.put(curr.left)\n",
    "            if curr.right!=None:\n",
    "                outputQ.put(curr.right)\n",
    "        print()\n",
    "        inputQ, outputQ = outputQ, inputQ\n",
    "\n",
    "# Main\n",
    "levelOrder = [int(i) for i in input().strip().split()]\n",
    "root = buildLevelTree(levelOrder)\n",
    "mirrorBinaryTree(root)\n",
    "printLevelATNewLine(root)\n"
   ]
  }
 ],
 "metadata": {
  "kernelspec": {
   "display_name": "Python 3",
   "language": "python",
   "name": "python3"
  },
  "language_info": {
   "codemirror_mode": {
    "name": "ipython",
    "version": 3
   },
   "file_extension": ".py",
   "mimetype": "text/x-python",
   "name": "python",
   "nbconvert_exporter": "python",
   "pygments_lexer": "ipython3",
   "version": "3.7.3"
  }
 },
 "nbformat": 4,
 "nbformat_minor": 2
}
