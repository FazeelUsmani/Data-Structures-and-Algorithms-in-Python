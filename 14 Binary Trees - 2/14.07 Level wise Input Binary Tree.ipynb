{
 "cells": [
  {
   "cell_type": "markdown",
   "metadata": {},
   "source": [
    "Here we can't use recursion because whenever we call a left sub tree\n",
    "then it completes the work of entire left sub tree and then return. \n",
    "You can't get the control to stop at 1. So, we use iterative approach\n",
    "and use a queue say 1 2 3. Firstly we ask for childrens of 1, 2 3 are \n",
    "given and then 2 childres are asked then added to queue. "
   ]
  },
  {
   "cell_type": "code",
   "execution_count": null,
   "metadata": {},
   "outputs": [],
   "source": [
    "1) Take root input\n",
    "2) Add it to queue\n",
    "3) While queue is not empty:\n",
    "   i) Take out the front of queue --> a (Queue is a)\n",
    "   ii) Ask for its children\n",
    "       If valid children attach them to queue 'a' & add them to queue"
   ]
  },
  {
   "cell_type": "code",
   "execution_count": null,
   "metadata": {},
   "outputs": [],
   "source": [
    "class BinaryTreeNode:\n",
    "    def __init__(self, data):\n",
    "        self.data = data\n",
    "        self.left = None\n",
    "        self.right = None"
   ]
  },
  {
   "cell_type": "code",
   "execution_count": 4,
   "metadata": {},
   "outputs": [],
   "source": [
    "def printTreeDetailed(root):\n",
    "    if root == None:\n",
    "        return\n",
    "    print(root.data, end = \":\")\n",
    "    \n",
    "    if root.left is not None:\n",
    "        print(\"L\", root.left.data, end = \",\")\n",
    "        \n",
    "    if root.right is not None:\n",
    "        print(\"R\", root.right.data, end = \" \")\n",
    "        \n",
    "    print()\n",
    "    printTreeDetailed(root.left)\n",
    "    printTreeDetailed(root.right)"
   ]
  },
  {
   "cell_type": "code",
   "execution_count": 14,
   "metadata": {},
   "outputs": [],
   "source": [
    "import queue\n",
    "def takeLevelWiseTreeInput():\n",
    "    q = queue.Queue()\n",
    "    print(\"Enter root\")\n",
    "    rootData = int(input())\n",
    "    if rootData == -1:\n",
    "        return None\n",
    "    root = BinaryTreeNode(rootData)\n",
    "    q.put(root)\n",
    "    \n",
    "    while (not(q.empty())):\n",
    "        current_node = q.get()\n",
    "        \n",
    "        print(\"Enter left child of \", current_node.data)\n",
    "        leftChildData = int(input())\n",
    "        if leftChildData != -1:\n",
    "            leftChild = BinaryTreeNode(leftChildData)\n",
    "            current_node.left = leftChild\n",
    "            q.put(leftChild)\n",
    "            \n",
    "        print(\"Enter right child of \", current_node.data)\n",
    "        rightChildData = int(input())\n",
    "        if rightChildData != -1:\n",
    "            rightChild = BinaryTreeNode(rightChildData)\n",
    "            current_node.right = rightChild\n",
    "            q.put(rightChild)\n",
    "            \n",
    "        \n",
    "    return root"
   ]
  },
  {
   "cell_type": "code",
   "execution_count": 16,
   "metadata": {},
   "outputs": [
    {
     "name": "stdout",
     "output_type": "stream",
     "text": [
      "Enter root\n",
      "1\n",
      "Enter left child of  1\n",
      "2\n",
      "Enter right child of  1\n",
      "3\n",
      "Enter left child of  2\n",
      "4\n",
      "Enter right child of  2\n",
      "5\n",
      "Enter left child of  3\n",
      "6\n",
      "Enter right child of  3\n",
      "7\n",
      "Enter left child of  4\n",
      "-1\n",
      "Enter right child of  4\n",
      "-1\n",
      "Enter left child of  5\n",
      "8\n",
      "Enter right child of  5\n",
      "-1\n",
      "Enter left child of  6\n",
      "-1\n",
      "Enter right child of  6\n",
      "-1\n",
      "Enter left child of  7\n",
      "-1\n",
      "Enter right child of  7\n",
      "-1\n",
      "Enter left child of  8\n",
      "-1\n",
      "Enter right child of  8\n",
      "-1\n",
      "1:L 2,R 3 \n",
      "2:L 4,R 5 \n",
      "4:\n",
      "5:L 8,\n",
      "8:\n",
      "3:L 6,R 7 \n",
      "6:\n",
      "7:\n"
     ]
    }
   ],
   "source": [
    "root = takeLevelWiseTreeInput()\n",
    "printTreeDetailed(root)"
   ]
  }
 ],
 "metadata": {
  "kernelspec": {
   "display_name": "Python 3",
   "language": "python",
   "name": "python3"
  }
 },
 "nbformat": 4,
 "nbformat_minor": 2
}
