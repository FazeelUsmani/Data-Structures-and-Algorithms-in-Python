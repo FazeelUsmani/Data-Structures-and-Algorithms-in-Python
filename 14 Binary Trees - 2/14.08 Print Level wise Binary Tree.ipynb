{
 "cells": [
  {
   "cell_type": "code",
   "execution_count": 23,
   "metadata": {},
   "outputs": [
    {
     "name": "stdout",
     "output_type": "stream",
     "text": [
      "8 3 10 1 6 -1 14 -1 -1 4 7 13 -1 -1 -1 -1 -1 -1 -1\n",
      "8:L:3,R:10\n",
      "3:L:1,R:6\n",
      "10:L:-1,R:14\n",
      "1:L:-1,R:-1\n",
      "6:L:4,R:7\n",
      "14:L:13,R:-1\n",
      "4:L:-1,R:-1\n",
      "7:L:-1,R:-1\n",
      "13:L:-1,R:-1\n"
     ]
    },
    {
     "data": {
      "text/plain": [
       "<__main__.BinaryTreeNode at 0x1c55eb69128>"
      ]
     },
     "execution_count": 23,
     "metadata": {},
     "output_type": "execute_result"
    }
   ],
   "source": [
    "import queue\n",
    "class BinaryTreeNode:\n",
    "    def __init__(self, data):\n",
    "        self.data = data\n",
    "        self.left = None\n",
    "        self.right = None\n",
    "\n",
    "\n",
    "\n",
    "def printLevelWise(root):\n",
    "    q = queue.Queue()    \n",
    "\n",
    "    if root == None:\n",
    "        return None\n",
    "    \n",
    "    q.put(root)\n",
    "    \n",
    "    while (not(q.empty())):\n",
    "        a = q.get()\n",
    "        print(a.data, end = \":\")\n",
    "        \n",
    "        leftChild = a.left\n",
    "        if leftChild != None:\n",
    "            print(\"L:\", end = \"\")\n",
    "            print(leftChild.data, end = \",\")\n",
    "            q.put(leftChild)\n",
    "        else:\n",
    "            print(\"L:\", end = \"\")\n",
    "            print(-1, end = \",\")\n",
    "            \n",
    "        rightChild = a.right\n",
    "        if rightChild != None:\n",
    "            print(\"R:\", end = \"\")\n",
    "            print(rightChild.data)\n",
    "            q.put(rightChild)\n",
    "        else:\n",
    "            print(\"R:\", end = \"\")\n",
    "            print(-1)\n",
    "                      \n",
    "    return root\n",
    "    \n",
    "\n",
    "def buildLevelTree(levelorder):\n",
    "    index = 0\n",
    "    length = len(levelorder)\n",
    "    if length<=0 or levelorder[0]==-1:\n",
    "        return None\n",
    "    root = BinaryTreeNode(levelorder[index])\n",
    "    index += 1\n",
    "    q = queue.Queue()\n",
    "    q.put(root)\n",
    "    while not q.empty():\n",
    "        currentNode = q.get()\n",
    "        leftChild = levelorder[index]\n",
    "        index += 1\n",
    "        if leftChild != -1:\n",
    "            leftNode = BinaryTreeNode(leftChild)\n",
    "            currentNode.left =leftNode\n",
    "            q.put(leftNode)\n",
    "        rightChild = levelorder[index]\n",
    "        index += 1\n",
    "        if rightChild != -1:\n",
    "            rightNode = BinaryTreeNode(rightChild)\n",
    "            currentNode.right =rightNode\n",
    "            q.put(rightNode)\n",
    "    return root\n",
    "\n",
    "# Main \n",
    "levelOrder = [int(i) for i in input().strip().split()]\n",
    "root = buildLevelTree(levelOrder)\n",
    "printLevelWise(root)\n"
   ]
  },
  {
   "cell_type": "code",
   "execution_count": null,
   "metadata": {},
   "outputs": [],
   "source": [
    "def printLevelATNewLine(root):\n",
    "    \n",
    "    #q = queue.Queue()    \n",
    "\n",
    "    if root is None: \n",
    "        return\n",
    "      \n",
    "    queue = [] \n",
    "  \n",
    "    queue.append(root) \n",
    "     \n",
    "    while(len(queue) > 0): \n",
    "        print(queue[0].data)         \n",
    "        node = queue.pop(0) \n",
    "  \n",
    "        if node.left is not None: \n",
    "            queue.append(node.left) \n",
    "  \n",
    "\n",
    "        if node.right is not None: \n",
    "            queue.append(node.right) \n",
    "            \n",
    "    return root"
   ]
  }
 ],
 "metadata": {
  "kernelspec": {
   "display_name": "Python 3",
   "language": "python",
   "name": "python3"
  },
  "language_info": {
   "codemirror_mode": {
    "name": "ipython",
    "version": 3
   },
   "file_extension": ".py",
   "mimetype": "text/x-python",
   "name": "python",
   "nbconvert_exporter": "python",
   "pygments_lexer": "ipython3",
   "version": "3.7.3"
  }
 },
 "nbformat": 4,
 "nbformat_minor": 2
}
