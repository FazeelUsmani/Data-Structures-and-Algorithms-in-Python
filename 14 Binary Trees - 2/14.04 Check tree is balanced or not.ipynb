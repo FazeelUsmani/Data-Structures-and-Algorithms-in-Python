{
 "cells": [
  {
   "cell_type": "code",
   "execution_count": 2,
   "metadata": {},
   "outputs": [],
   "source": [
    "Balance tree: For each node in our tree that nodes left & right sub tree should not have height difference more than one"
   ]
  },
  {
   "cell_type": "code",
   "execution_count": 15,
   "metadata": {},
   "outputs": [],
   "source": [
    "class BinaryTreeNode:\n",
    "    def __init__(self, data):\n",
    "        self.data = data\n",
    "        self.left = None\n",
    "        self.right = None"
   ]
  },
  {
   "cell_type": "code",
   "execution_count": 16,
   "metadata": {},
   "outputs": [],
   "source": [
    "def height(root):\n",
    "    if root == None:\n",
    "        return 0\n",
    "\n",
    "    return 1 + max(height(root.left), height(root.right))     "
   ]
  },
  {
   "cell_type": "code",
   "execution_count": 17,
   "metadata": {},
   "outputs": [],
   "source": [
    "def treeInput():\n",
    "        \n",
    "    rootData = int(input())\n",
    "    if rootData == -1:\n",
    "        return None\n",
    "    \n",
    "    root = BinaryTreeNode(rootData)\n",
    "    root.left = treeInput()\n",
    "    root.right = treeInput()\n",
    "\n",
    "    return root"
   ]
  },
  {
   "cell_type": "code",
   "execution_count": 18,
   "metadata": {},
   "outputs": [],
   "source": [
    "def printTreeDetailed(root):\n",
    "    if root == None:\n",
    "        return\n",
    "    print(root.data, end = \":\")\n",
    "    \n",
    "    if root.left is not None:\n",
    "        print(\"L\", root.left.data, end = \",\")\n",
    "        \n",
    "    if root.right is not None:\n",
    "        print(\"R\", root.right.data, end = \" \")\n",
    "        \n",
    "    print()\n",
    "    printTreeDetailed(root.left)\n",
    "    printTreeDetailed(root.right)"
   ]
  },
  {
   "cell_type": "code",
   "execution_count": 19,
   "metadata": {},
   "outputs": [],
   "source": [
    "def isBalanced(root):\n",
    "    if root == None:\n",
    "        return True      # Because Empty tree is balanced\n",
    "    lh = height(root.left)\n",
    "    rh = height(root.right)\n",
    "    if lh - rh > 1 or rh - lh > 1:\n",
    "        return False\n",
    "    \n",
    "    isLeftBalanced = isBalanced(root.left)\n",
    "    isRightBalanced = isBalanced(root.right)\n",
    "    \n",
    "    if isLeftBalanced and isRightBalanced:\n",
    "        return True\n",
    "    else:\n",
    "        return False"
   ]
  },
  {
   "cell_type": "code",
   "execution_count": 21,
   "metadata": {},
   "outputs": [
    {
     "name": "stdout",
     "output_type": "stream",
     "text": [
      "1\n",
      "2\n",
      "-1\n",
      "-1\n",
      "3\n",
      "-1\n",
      "-1\n",
      "1:L 2,R 3 \n",
      "2:\n",
      "3:\n",
      "True\n"
     ]
    }
   ],
   "source": [
    "root = treeInput()\n",
    "printTreeDetailed(root)\n",
    "print(isBalanced(root))"
   ]
  },
  {
   "cell_type": "code",
   "execution_count": 22,
   "metadata": {},
   "outputs": [
    {
     "name": "stdout",
     "output_type": "stream",
     "text": [
      "1\n",
      "2\n",
      "4\n",
      "6\n",
      "-1\n",
      "-1\n",
      "-1\n",
      "-1\n",
      "3\n",
      "-1\n",
      "5\n",
      "-1\n",
      "-1\n",
      "1:L 2,R 3 \n",
      "2:L 4,\n",
      "4:L 6,\n",
      "6:\n",
      "3:R 5 \n",
      "5:\n",
      "False\n"
     ]
    }
   ],
   "source": [
    "root = treeInput()\n",
    "printTreeDetailed(root)\n",
    "print(isBalanced(root))"
   ]
  },
  {
   "cell_type": "markdown",
   "metadata": {},
   "source": [
    "### Time Complexity to check if Binary Tree is balanced or not?"
   ]
  },
  {
   "cell_type": "markdown",
   "metadata": {},
   "source": [
    "O(N^2) for left and right skewed trees\n",
    "\n",
    "O(NlogN) for balanced tree"
   ]
  }
 ],
 "metadata": {
  "kernelspec": {
   "display_name": "Python 3",
   "language": "python",
   "name": "python3"
  },
  "language_info": {
   "codemirror_mode": {
    "name": "ipython",
    "version": 3
   },
   "file_extension": ".py",
   "mimetype": "text/x-python",
   "name": "python",
   "nbconvert_exporter": "python",
   "pygments_lexer": "ipython3",
   "version": "3.7.3"
  }
 },
 "nbformat": 4,
 "nbformat_minor": 2
}
