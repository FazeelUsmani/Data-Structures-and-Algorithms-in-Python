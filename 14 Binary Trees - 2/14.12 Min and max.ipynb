{
 "cells": [
  {
   "cell_type": "code",
   "execution_count": 1,
   "metadata": {},
   "outputs": [
    {
     "name": "stdout",
     "output_type": "stream",
     "text": [
      "8 3 10 1 6 -1 14 -1 -1 4 7 13 -1 -1 -1 -1 -1 -1 -1\n",
      "14 1\n"
     ]
    }
   ],
   "source": [
    "import queue\n",
    "class BinaryTreeNode:\n",
    "    def __init__(self, data):\n",
    "        self.data = data\n",
    "        self.left = None\n",
    "        self.right = None\n",
    "\n",
    "INT_MIN = -2147483648\n",
    "INT_MAX = 2147483647\n",
    "\n",
    "def findMax(root): \n",
    "       \n",
    "    if (root == None):  \n",
    "        return INT_MIN\n",
    "    res = root.data \n",
    "    lres = findMax(root.left)  \n",
    "    rres = findMax(root.right)  \n",
    "    if (lres > res): \n",
    "        res = lres  \n",
    "    if (rres > res):  \n",
    "        res = rres  \n",
    "    return res \n",
    "\n",
    "def findMin(root):  \n",
    "    if (root == None):  \n",
    "        return INT_MAX\n",
    "  \n",
    "    res = root.data \n",
    "    lres = findMin(root.left)  \n",
    "    rres = findMin(root.right)  \n",
    "    if (lres < res): \n",
    "        res = lres  \n",
    "    if (rres < res):  \n",
    "        res = rres  \n",
    "        \n",
    "    return res \n",
    "\n",
    "\n",
    "def minMax(root):\n",
    "    min = findMin(root)\n",
    "    max = findMax(root)\n",
    "    \n",
    "    return min, max\n",
    "\n",
    "def buildLevelTree(levelorder):\n",
    "    index = 0\n",
    "    length = len(levelorder)\n",
    "    if length<=0 or levelorder[0]==-1:\n",
    "        return None\n",
    "    root = BinaryTreeNode(levelorder[index])\n",
    "    index += 1\n",
    "    q = queue.Queue()\n",
    "    q.put(root)\n",
    "    while not q.empty():\n",
    "        currentNode = q.get()\n",
    "        leftChild = levelorder[index]\n",
    "        index += 1\n",
    "        if leftChild != -1:\n",
    "            leftNode = BinaryTreeNode(leftChild)\n",
    "            currentNode.left =leftNode\n",
    "            q.put(leftNode)\n",
    "        rightChild = levelorder[index]\n",
    "        index += 1\n",
    "        if rightChild != -1:\n",
    "            rightNode = BinaryTreeNode(rightChild)\n",
    "            currentNode.right =rightNode\n",
    "            q.put(rightNode)\n",
    "    return root\n",
    "\n",
    "# Main\n",
    "levelOrder = [int(i) for i in input().strip().split()]\n",
    "root = buildLevelTree(levelOrder)\n",
    "minimum, maximum = minMax(root)\n",
    "print(maximum, minimum)"
   ]
  },
  {
   "cell_type": "code",
   "execution_count": null,
   "metadata": {},
   "outputs": [],
   "source": []
  }
 ],
 "metadata": {
  "kernelspec": {
   "display_name": "Python 3",
   "language": "python",
   "name": "python3"
  },
  "language_info": {
   "codemirror_mode": {
    "name": "ipython",
    "version": 3
   },
   "file_extension": ".py",
   "mimetype": "text/x-python",
   "name": "python",
   "nbconvert_exporter": "python",
   "pygments_lexer": "ipython3",
   "version": "3.7.3"
  }
 },
 "nbformat": 4,
 "nbformat_minor": 2
}
