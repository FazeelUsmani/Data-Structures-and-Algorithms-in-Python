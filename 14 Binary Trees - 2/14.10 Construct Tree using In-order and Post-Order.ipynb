{
 "cells": [
  {
   "cell_type": "code",
   "execution_count": 1,
   "metadata": {},
   "outputs": [
    {
     "name": "stdout",
     "output_type": "stream",
     "text": [
      "8\n",
      "8 4 5 2 6 7 3 1\n",
      "4 8 2 5 1 6 3 7\n",
      "1 \n",
      "2 3 \n",
      "4 5 6 7 \n",
      "8 \n"
     ]
    }
   ],
   "source": [
    "import queue\n",
    "class BinaryTreeNode:\n",
    "    def __init__(self, data):\n",
    "        self.data = data\n",
    "        self.left = None\n",
    "        self.right = None\n",
    "\n",
    "def buildTreePostOrder(postorder, inorder):\n",
    "    if len(postorder) == 0:\n",
    "        return None\n",
    "    \n",
    "    rootData = postorder[len(postorder) - 1]\n",
    "    root = BinaryTreeNode(rootData)\n",
    "    rootIndex = -1\n",
    "    \n",
    "    for i in range(0, len(inorder)):\n",
    "        if inorder[i] == rootData:\n",
    "            rootIndex = i\n",
    "            break\n",
    "    if rootIndex == -1:\n",
    "        return None\n",
    "    \n",
    "    leftInorder = inorder[:rootIndex]\n",
    "    rightInorder = inorder[rootIndex + 1:]\n",
    "    \n",
    "    x = len(leftInorder)    \n",
    "    leftPostorder = postorder[:x]\n",
    "    rightPostorder = postorder[x:len(postorder) - 1]\n",
    "    \n",
    "    root.left = buildTreePostOrder(leftPostorder, leftInorder)    # Where to call recursion?\n",
    "    root.right = buildTreePostOrder(rightPostorder, rightInorder)\n",
    "    \n",
    "    return root\n",
    "    \n",
    "\n",
    "def printLevelATNewLine(root):\n",
    "    # Given a binary tree, print the level order traversal. Make sure each level\n",
    "    # start in new line.\n",
    "    if root==None:\n",
    "        return\n",
    "    inputQ = queue.Queue()\n",
    "    outputQ = queue.Queue()\n",
    "    inputQ.put(root)\n",
    "    while not inputQ.empty():\n",
    "        while not inputQ.empty():\n",
    "            curr = inputQ.get()\n",
    "            print(curr.data, end=' ')\n",
    "            if curr.left!=None:\n",
    "                outputQ.put(curr.left)\n",
    "            if curr.right!=None:\n",
    "                outputQ.put(curr.right)\n",
    "        print()\n",
    "        inputQ, outputQ = outputQ, inputQ\n",
    "\n",
    "# Main\n",
    "n=int(input())\n",
    "postOrder = [int(i) for i in input().strip().split()]\n",
    "inorder = [int(i) for i in input().strip().split()]\n",
    "root = buildTreePostOrder(postOrder, inorder)\n",
    "printLevelATNewLine(root)\n"
   ]
  },
  {
   "cell_type": "code",
   "execution_count": null,
   "metadata": {},
   "outputs": [],
   "source": []
  }
 ],
 "metadata": {
  "kernelspec": {
   "display_name": "Python 3",
   "language": "python",
   "name": "python3"
  },
  "language_info": {
   "codemirror_mode": {
    "name": "ipython",
    "version": 3
   },
   "file_extension": ".py",
   "mimetype": "text/x-python",
   "name": "python",
   "nbconvert_exporter": "python",
   "pygments_lexer": "ipython3",
   "version": "3.7.3"
  }
 },
 "nbformat": 4,
 "nbformat_minor": 2
}
