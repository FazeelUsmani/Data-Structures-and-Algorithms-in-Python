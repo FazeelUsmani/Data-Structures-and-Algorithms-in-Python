{
 "cells": [
  {
   "cell_type": "markdown",
   "metadata": {},
   "source": [
    "#### Linked List:\n",
    "      A data structure which has a collection of nodes. A node contain data and next field\n",
    "      --> head of the linked list stores the reference to the first node\n",
    "      --> tail of the linked list stores the reference to the last node\n",
    "\n",
    "For each node we store both data and next (is the reference to the next node). If there is no next node present then we store NULL (None in Python) in it. "
   ]
  },
  {
   "cell_type": "code",
   "execution_count": 7,
   "metadata": {},
   "outputs": [
    {
     "name": "stdout",
     "output_type": "stream",
     "text": [
      "13\n",
      "15\n",
      "15\n",
      "\n",
      "<__main__.Node object at 0x000001B953226978>\n",
      "<__main__.Node object at 0x000001B953226470>\n",
      "<__main__.Node object at 0x000001B953226470>\n",
      "\n",
      "None\n"
     ]
    }
   ],
   "source": [
    "class Node:\n",
    "    def __init__(self, data):        # take data as an input\n",
    "        self.data = data             \n",
    "        self.next = None\n",
    "        \n",
    "a = Node(13)                         # node 'a' has data 13\n",
    "b = Node(15)                         # node 'b' has data 15 \n",
    "a.next = b                           # a.next stores the address of 'b' node\n",
    "\n",
    "print(a.data)                        # prints 13 \n",
    "print(b.data)                        # prints 15\n",
    "print(a.next.data)                   # a.next is node b and a.next.data represents the data field of note b. So, 15 \n",
    "\n",
    "print()\n",
    "\n",
    "print(a)\n",
    "print(b)\n",
    "print(a.next)                   # As you can see the addresses below, it is clear that a.next and b is the same node. \n",
    "\n",
    "print()\n",
    "# print(b.next.data)              # There is no node after b. So, attribute error    \n",
    "print(b.next)                     # Since b is the last node in this LL. So, it's storing None in it."
   ]
  },
  {
   "cell_type": "markdown",
   "metadata": {},
   "source": [
    "#### If you know the head of the Linked List then you can easily travel the entire Linked List"
   ]
  },
  {
   "cell_type": "code",
   "execution_count": 8,
   "metadata": {},
   "outputs": [
    {
     "name": "stdout",
     "output_type": "stream",
     "text": [
      "20 10 "
     ]
    }
   ],
   "source": [
    "# Predict the Output:\n",
    "class Node:\n",
    "    def __init__(self, data):\n",
    "        self.data = data\n",
    "        self.next = None\n",
    "        \n",
    "def printLL(head):\n",
    "    while head is not None:\n",
    "        print(head.data,end=\" \")\n",
    "        head = head.next\n",
    "\n",
    "\n",
    "\n",
    "node1 = Node(10)          # Node 1 stores 10\n",
    "node2 = Node(20)          # Node 2 stores 20\n",
    "                                                     ___________       __________\n",
    "                                                    | 20 | Node1|---->| 10 | None|    \n",
    "                                                       Node 2            Node 1\n",
    "                                                       \n",
    "node2.next = node1        # This line depicts \n",
    "printLL(node2)"
   ]
  },
  {
   "cell_type": "code",
   "execution_count": 11,
   "metadata": {},
   "outputs": [
    {
     "name": "stdout",
     "output_type": "stream",
     "text": [
      "20 30 40 "
     ]
    }
   ],
   "source": [
    "# Predict the Output:\n",
    "class Node:\n",
    "    def __init__(self, data):\n",
    "        self.data = data\n",
    "        self.next = None\n",
    "def printLL(head):\n",
    "    while head is not None:\n",
    "        print(head.data,end=\" \")\n",
    "        head = head.next\n",
    "\n",
    "\n",
    "\n",
    "node1 = Node(10)\n",
    "node2 = Node(20)\n",
    "node3 = Node(30)\n",
    "node4 = Node(40)\n",
    "                                     ___________       ___________      ___________       __________ \n",
    "                                    | 10 | Node2|---->| 20 | Node3|    | 30 | Node4|---->| 40 | None|    \n",
    "                                        Node 1            Node 1          Node 3            Node 4\n",
    "\n",
    "node1.next = node2\n",
    "node2.next = node3\n",
    "node3.next = node4\n",
    "\n",
    "printLL(node2)                       # Here we're printing from node 2 till the end of the Linked List"
   ]
  },
  {
   "cell_type": "code",
   "execution_count": null,
   "metadata": {},
   "outputs": [],
   "source": []
  }
 ],
 "metadata": {
  "kernelspec": {
   "display_name": "Python 3",
   "language": "python",
   "name": "python3"
  },
  "language_info": {
   "codemirror_mode": {
    "name": "ipython",
    "version": 3
   },
   "file_extension": ".py",
   "mimetype": "text/x-python",
   "name": "python",
   "nbconvert_exporter": "python",
   "pygments_lexer": "ipython3",
   "version": "3.7.3"
  }
 },
 "nbformat": 4,
 "nbformat_minor": 2
}
