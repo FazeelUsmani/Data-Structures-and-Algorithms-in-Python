{
 "cells": [
  {
   "cell_type": "code",
   "execution_count": 1,
   "metadata": {},
   "outputs": [
    {
     "name": "stdout",
     "output_type": "stream",
     "text": [
      "1 2 3 4 5 4 3 2 1 -1\n",
      "true\n"
     ]
    }
   ],
   "source": [
    "class Node:\n",
    "    def __init__(self, data):\n",
    "        self.data = data\n",
    "        self.next = None\n",
    "\n",
    "def printll(head):\n",
    "  list = []\n",
    "  while head is not None:\n",
    "    list.append(head.data)\n",
    "    head = head.next\n",
    "  return list\n",
    "  \n",
    "def reverseLL(head):\n",
    "  list = []\n",
    "  while head is not None:\n",
    "    list.insert(0, head.data) \n",
    "    head = head.next\n",
    "  return list\n",
    "\n",
    "\n",
    "def check_palindrome(head):\n",
    "  \n",
    "  if printll(head)  == reverseLL(head):\n",
    "    return True\n",
    "  else:\n",
    "    return False   \n",
    "    \n",
    "    \n",
    "    \n",
    "\n",
    "def ll(arr):\n",
    "    if len(arr)==0:\n",
    "        return None\n",
    "    head = Node(arr[0])\n",
    "    last = head\n",
    "    for data in arr[1:]:\n",
    "        last.next = Node(data)\n",
    "        last = last.next\n",
    "    return head\n",
    "\n",
    "arr=list(int(i) for i in input().strip().split(' '))\n",
    "l = ll(arr[:-1])\n",
    "ans = check_palindrome(l)\n",
    "if ans:\n",
    "    print(\"true\")\n",
    "else:\n",
    "    print(\"false\")\n"
   ]
  },
  {
   "cell_type": "code",
   "execution_count": null,
   "metadata": {},
   "outputs": [],
   "source": []
  }
 ],
 "metadata": {
  "kernelspec": {
   "display_name": "Python 3",
   "language": "python",
   "name": "python3"
  },
  "language_info": {
   "codemirror_mode": {
    "name": "ipython",
    "version": 3
   },
   "file_extension": ".py",
   "mimetype": "text/x-python",
   "name": "python",
   "nbconvert_exporter": "python",
   "pygments_lexer": "ipython3",
   "version": "3.7.3"
  }
 },
 "nbformat": 4,
 "nbformat_minor": 2
}
