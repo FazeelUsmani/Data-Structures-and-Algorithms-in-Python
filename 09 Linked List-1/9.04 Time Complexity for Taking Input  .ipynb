{
 "cells": [
  {
   "cell_type": "markdown",
   "metadata": {},
   "source": [
    "#### For nth element we're iterating for n-1 elements. So, for just taking input (for traversing) it's taking O(N^2) time. The only statement which is taking time is traversing."
   ]
  },
  {
   "cell_type": "markdown",
   "metadata": {},
   "source": [
    "#### Creating a list from the last node when the entire input is given as an array:\n",
    "##### limitations: works only if you have the entire input before hand... Dynamic input doesn't works"
   ]
  },
  {
   "cell_type": "code",
   "execution_count": 3,
   "metadata": {},
   "outputs": [
    {
     "name": "stdout",
     "output_type": "stream",
     "text": [
      "11->12->13->14->15->None\n"
     ]
    }
   ],
   "source": [
    "# Creating list from the last node:\n",
    "class Node:\n",
    "    def __init__(self, data):\n",
    "        self.data = data\n",
    "        self.next = None\n",
    "\n",
    "def printLL(head):\n",
    "    while head is not None:\n",
    "        print(str(head.data) + \"->\", end = \"\")       # We're also printing -> so we need to convert head.data to string\n",
    "        head = head.next\n",
    "    print(\"None\")\n",
    "    return\n",
    "        \n",
    "def takeInput():                                      # Now, this logic takes very less time complared to O(N^2)\n",
    "    arr = [11,12,13,14,15]\n",
    "    head = None\n",
    "    for ele in range(len(arr)-1, -1, -1):\n",
    "        if arr[ele] == -1:\n",
    "            break\n",
    "        \n",
    "        newNode = Node(arr[ele])\n",
    "\n",
    "        if head == None:\n",
    "            head = newNode\n",
    "        else:\n",
    "            newNode.next = head\n",
    "            head = newNode\n",
    "            \n",
    "    return head \n",
    "    \n",
    "head = takeInput()\n",
    "printLL(head)"
   ]
  },
  {
   "cell_type": "markdown",
   "metadata": {},
   "source": [
    "### Maintaing a tail (reference to the last node) at the time of creation of a node:  O(N) time"
   ]
  },
  {
   "cell_type": "code",
   "execution_count": 7,
   "metadata": {},
   "outputs": [
    {
     "name": "stdout",
     "output_type": "stream",
     "text": [
      "11->12->13->14->15->None\n"
     ]
    }
   ],
   "source": [
    "# Maintaining a tail:\n",
    "class Node:\n",
    "    def __init__(self, data):\n",
    "        self.data = data\n",
    "        self.next = None\n",
    "\n",
    "def printLL(head):\n",
    "    while head is not None:\n",
    "        print(str(head.data) + \"->\", end = \"\")       # We're also printing -> so we need to convert head.data to string\n",
    "        head = head.next\n",
    "    print(\"None\")\n",
    "    return\n",
    "        \n",
    "def takeInput():                                      # Now, this logic takes very less time complared to O(N^2)\n",
    "    arr = [11,12,13,14,15]\n",
    "    head = None\n",
    "    tail = None\n",
    "    for ele in arr:\n",
    "        if ele == -1:\n",
    "            break\n",
    "        \n",
    "        newNode = Node(ele)\n",
    "\n",
    "        if head == None and tail == None:\n",
    "            head = newNode\n",
    "            tail = newNode\n",
    "            \n",
    "        else:\n",
    "            tail.next = newNode\n",
    "            tail = newNode\n",
    "            \n",
    "    return head \n",
    "    \n",
    "head = takeInput()\n",
    "printLL(head)"
   ]
  },
  {
   "cell_type": "code",
   "execution_count": 9,
   "metadata": {},
   "outputs": [
    {
     "name": "stdout",
     "output_type": "stream",
     "text": [
      "11 21 "
     ]
    }
   ],
   "source": [
    "# Predict the Output:\n",
    "class Node:\n",
    "    def __init__(self, data):\n",
    "        self.data = data\n",
    "        self.next = None\n",
    "\n",
    "def printLL(head):\n",
    "    while head is not None:\n",
    "        print(head.data,end=\" \")\n",
    "        head = head.next\n",
    "\n",
    "def increment(head):\n",
    "     temp = head\n",
    "     while temp is not None:\n",
    "        temp.data +=1\n",
    "        temp = temp.next\n",
    "\n",
    "\n",
    "\n",
    "node1 = Node(10)\n",
    "node2 = Node(20)\n",
    "node1.next = node2\n",
    "increment(node1)\n",
    "printLL(node1)"
   ]
  },
  {
   "cell_type": "code",
   "execution_count": null,
   "metadata": {},
   "outputs": [],
   "source": []
  }
 ],
 "metadata": {
  "kernelspec": {
   "display_name": "Python 3",
   "language": "python",
   "name": "python3"
  },
  "language_info": {
   "codemirror_mode": {
    "name": "ipython",
    "version": 3
   },
   "file_extension": ".py",
   "mimetype": "text/x-python",
   "name": "python",
   "nbconvert_exporter": "python",
   "pygments_lexer": "ipython3",
   "version": "3.7.3"
  }
 },
 "nbformat": 4,
 "nbformat_minor": 2
}
