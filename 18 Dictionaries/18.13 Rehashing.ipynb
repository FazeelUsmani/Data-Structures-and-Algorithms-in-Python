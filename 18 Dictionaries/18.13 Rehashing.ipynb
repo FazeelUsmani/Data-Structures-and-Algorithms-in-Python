{
 "cells": [
  {
   "attachments": {},
   "cell_type": "markdown",
   "metadata": {},
   "source": [
    "![download%20%284%29.png](img/download%20%284%29.png)"
   ]
  },
  {
   "cell_type": "markdown",
   "metadata": {},
   "source": [
    "# Rehashing Code:"
   ]
  },
  {
   "cell_type": "code",
   "execution_count": 14,
   "metadata": {},
   "outputs": [],
   "source": [
    "class MapNode:\n",
    "    def __init__(self, key, value):\n",
    "        self.key = key\n",
    "        self.value = value\n",
    "        self.next = None\n",
    "        \n",
    "class Map:\n",
    "    def __init__(self):\n",
    "        self.bucketSize = 10\n",
    "        self.buckets = [None for i in range(self.bucketSize)]\n",
    "        self.count = 0\n",
    "        \n",
    "    def size(self):\n",
    "        return self.count\n",
    "    \n",
    "    def getBucketIndex(self,hc):\n",
    "        return (abs(hc)%(self.bucketSize))\n",
    "    \n",
    "    def rehash(self):\n",
    "        temp = self.buckets\n",
    "        self.buckets = [None for i in range(2*self.bucketSize)]\n",
    "        self.bucketSize = 2*self.bucketSize\n",
    "        self.count = 0     # However we're increasing at the time of insertion\n",
    "        \n",
    "        for head in temp:\n",
    "            while head is not None:\n",
    "                self.insert(head.key, head.value)\n",
    "                head = head.next\n",
    "    \n",
    "    def loadFactor(self):\n",
    "        return self.count/self.bucketSize\n",
    "    \n",
    "    def insert(self, key, value):\n",
    "        hc = hash(key)\n",
    "        index = self.getBucketIndex(hc)\n",
    "        head = self.buckets[index]\n",
    "        while head is not None:\n",
    "            if head.key == key:\n",
    "                head.value = value\n",
    "                return \n",
    "            head = head.next\n",
    "        \n",
    "        # After iterating the LL make head pointing at buckets\n",
    "        head = self.buckets[index] \n",
    "        newNode = MapNode(key, value)\n",
    "        newNode.next = head\n",
    "        self.buckets[index] = newNode\n",
    "        self.count += 1\n",
    "        loadFactor = self.count/self.bucketSize    \n",
    "        if loadFactor >= 0.7:\n",
    "            self.rehash()\n",
    "        \n",
    "        \n",
    "    def getValue(self, key):\n",
    "        hc = hash(key)\n",
    "        index = self.getBucketIndex(hc)\n",
    "        head = self.buckets[index]\n",
    "        while head is not None:\n",
    "            if head.key == key:\n",
    "                return head.value\n",
    "            head = head.next\n",
    "            \n",
    "        return None\n",
    "            \n",
    "            \n",
    "    def remove(self, key):\n",
    "        hc = hash(key)\n",
    "        index = self.getBucketIndex(hc)\n",
    "        head = self.buckets[index]\n",
    "        prev = None\n",
    "        while head is not None:\n",
    "            if head.key == key:\n",
    "                \n",
    "                if prev == None:\n",
    "                    self.buckets[index] = head.next\n",
    "                else:\n",
    "                    prev.next = head.next\n",
    "                    \n",
    "                self.count -=1\n",
    "                return head.value\n",
    "            \n",
    "            prev = head    \n",
    "            head = head.next\n",
    "            \n",
    "        return None                "
   ]
  },
  {
   "cell_type": "code",
   "execution_count": 19,
   "metadata": {},
   "outputs": [
    {
     "name": "stdout",
     "output_type": "stream",
     "text": [
      "0.1\n",
      "0.2\n",
      "0.3\n",
      "0.4\n",
      "0.5\n",
      "0.6\n",
      "0.35\n",
      "0.4\n",
      "0.45\n",
      "0.5\n",
      "abc0: 1\n",
      "abc1: 2\n",
      "abc2: 3\n",
      "abc3: 4\n",
      "abc4: 5\n",
      "abc5: 6\n",
      "abc6: 7\n",
      "abc7: 8\n",
      "abc8: 9\n",
      "abc9: 10\n"
     ]
    }
   ],
   "source": [
    "m = Map()\n",
    "\n",
    "for i in range(10):\n",
    "    m.insert('abc' + str(i), i + 1)\n",
    "    print(m.loadFactor())\n",
    "\n",
    "for i in range(10):\n",
    "    print(\"abc\" + str(i) + \":\" , m.getValue('abc'+str(i)))"
   ]
  }
 ],
 "metadata": {
  "kernelspec": {
   "display_name": "Python 3",
   "language": "python",
   "name": "python3"
  },
  "language_info": {
   "codemirror_mode": {
    "name": "ipython",
    "version": 3
   },
   "file_extension": ".py",
   "mimetype": "text/x-python",
   "name": "python",
   "nbconvert_exporter": "python",
   "pygments_lexer": "ipython3",
   "version": "3.7.3"
  }
 },
 "nbformat": 4,
 "nbformat_minor": 2
}
