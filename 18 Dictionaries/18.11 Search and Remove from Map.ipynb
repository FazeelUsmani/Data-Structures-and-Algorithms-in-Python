{
 "cells": [
  {
   "cell_type": "code",
   "execution_count": 22,
   "metadata": {},
   "outputs": [],
   "source": [
    "class MapNode:\n",
    "    def __init__(self, key, value):\n",
    "        self.key = key\n",
    "        self.value = value\n",
    "        self.next = None\n",
    "        \n",
    "class Map:\n",
    "    def __init__(self):\n",
    "        self.bucketSize = 10\n",
    "        self.buckets = [None for i in range(self.bucketSize)]\n",
    "        self.count = 0\n",
    "        \n",
    "    def size(self):\n",
    "        return self.count\n",
    "    \n",
    "    def getBucketIndex(self,hc):\n",
    "        return (abs(hc)%(self.bucketSize))\n",
    "    \n",
    "    def insert(self, key, value):\n",
    "        hc = hash(key)\n",
    "        index = self.getBucketIndex(hc)\n",
    "        head = self.buckets[index]\n",
    "        while head is not None:\n",
    "            if head.key == key:\n",
    "                head.value = value\n",
    "                return \n",
    "            head = head.next\n",
    "        \n",
    "        # After iterating the LL make head pointing at buckets\n",
    "        head = self.buckets[index] \n",
    "        newNode = MapNode(key, value)\n",
    "        newNode.next = head\n",
    "        self.buckets[index] = newNode\n",
    "        self.count += 1\n",
    "        \n",
    "    def getValue(self, key):\n",
    "        hc = hash(key)\n",
    "        index = self.getBucketIndex(hc)\n",
    "        head = self.buckets[index]\n",
    "        while head is not None:\n",
    "            if head.key == key:\n",
    "                return head.value\n",
    "            head = head.next\n",
    "            \n",
    "        return None\n",
    "            \n",
    "            \n",
    "    def remove(self, key):\n",
    "        hc = hash(key)\n",
    "        index = self.getBucketIndex(hc)\n",
    "        head = self.buckets[index]\n",
    "        prev = None\n",
    "        while head is not None:\n",
    "            if head.key == key:\n",
    "                \n",
    "                if prev == None:\n",
    "                    self.buckets[index] = head.next\n",
    "                else:\n",
    "                    prev.next = head.next\n",
    "                    \n",
    "                self.count -=1\n",
    "                return head.value\n",
    "            \n",
    "            prev = head    \n",
    "            head = head.next\n",
    "            \n",
    "        return None                "
   ]
  },
  {
   "cell_type": "code",
   "execution_count": 23,
   "metadata": {},
   "outputs": [
    {
     "name": "stdout",
     "output_type": "stream",
     "text": [
      "1\n",
      "2 Got Value of Fazeel\n",
      "2\n",
      "2\n",
      "4 Got Value of Fazeel\n",
      "7 Got Value of Usmani\n",
      "None\n",
      "4\n",
      "7 Got Value of Usmani\n"
     ]
    }
   ],
   "source": [
    "m = Map()\n",
    "m.insert('Fazeel', 2)\n",
    "print(m.size())\n",
    "\n",
    "print(m.getValue('Fazeel'), \"Got Value of Fazeel\")\n",
    "m.insert('Usmani', 7)\n",
    "print(m.size())\n",
    "m.insert('Fazeel', 4)  # It hasn't inserted the new node of key 'Fazeel' instead it just changed the value for of that key\n",
    "print(m.size())\n",
    "print(m.getValue('Fazeel'), \"Got Value of Fazeel\")\n",
    "print(m.getValue('Usmani'), \"Got Value of Usmani\")\n",
    "print(m.getValue('Fazeelasd'))\n",
    "\n",
    "print(m.remove('Fazeel'))\n",
    "print(m.getValue('Usmani'), \"Got Value of Usmani\")"
   ]
  }
 ],
 "metadata": {
  "kernelspec": {
   "display_name": "Python 3",
   "language": "python",
   "name": "python3"
  },
  "language_info": {
   "codemirror_mode": {
    "name": "ipython",
    "version": 3
   },
   "file_extension": ".py",
   "mimetype": "text/x-python",
   "name": "python",
   "nbconvert_exporter": "python",
   "pygments_lexer": "ipython3",
   "version": "3.7.3"
  }
 },
 "nbformat": 4,
 "nbformat_minor": 2
}
