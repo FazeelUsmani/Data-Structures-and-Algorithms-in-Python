{
 "cells": [
  {
   "cell_type": "code",
   "execution_count": 2,
   "metadata": {},
   "outputs": [
    {
     "name": "stdout",
     "output_type": "stream",
     "text": [
      "10\n",
      "95 -97 -387 -435 -5 -70 897 127 23 284\n",
      "5\n"
     ]
    }
   ],
   "source": [
    "def subsetSum(l):\n",
    "    \n",
    "    hash_map = {}\n",
    "    \n",
    "    max_len = 0\n",
    "    curr_sum = 0\n",
    "    \n",
    "    for i in range(len(l)):\n",
    "        curr_sum += l[i]\n",
    "        \n",
    "        if l[i] is 0 and max_len is 0:\n",
    "            max_len = i + 1\n",
    "            \n",
    "        if curr_sum in hash_map:\n",
    "            max_len = max(max_len, i - hash_map[curr_sum])\n",
    "        \n",
    "        else:\n",
    "            hash_map[curr_sum] = i\n",
    "            \n",
    "    return max_len       \n",
    "    \n",
    "\n",
    "\n",
    "n=int(input())\n",
    "l=list(int(i) for i in input().strip().split(' '))\n",
    "finalLen= subsetSum(l)\n",
    "print(finalLen)"
   ]
  },
  {
   "cell_type": "markdown",
   "metadata": {},
   "source": [
    "### HashMap Approach InProgress....."
   ]
  }
 ],
 "metadata": {
  "kernelspec": {
   "display_name": "Python 3",
   "language": "python",
   "name": "python3"
  },
  "language_info": {
   "codemirror_mode": {
    "name": "ipython",
    "version": 3
   },
   "file_extension": ".py",
   "mimetype": "text/x-python",
   "name": "python",
   "nbconvert_exporter": "python",
   "pygments_lexer": "ipython3",
   "version": "3.7.3"
  }
 },
 "nbformat": 4,
 "nbformat_minor": 2
}
