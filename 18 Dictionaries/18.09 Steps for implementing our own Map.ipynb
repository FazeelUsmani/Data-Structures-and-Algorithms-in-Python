{
 "cells": [
  {
   "cell_type": "markdown",
   "metadata": {},
   "source": [
    "### Each map will have buckets, each bucket will have map nodes and each map node will have key, value and next\n",
    "\n",
    "class Map:\n",
    "\n",
    "1) buckets\n",
    "\n",
    "2) bucketSize\n",
    "\n",
    "3) count"
   ]
  },
  {
   "cell_type": "markdown",
   "metadata": {},
   "source": [
    "class MapNode:\n",
    "\n",
    "1) key\n",
    "\n",
    "2) value\n",
    "\n",
    "3) next"
   ]
  },
  {
   "cell_type": "markdown",
   "metadata": {},
   "source": [
    "Implement these 3 functions:\n",
    "\n",
    "1) insert(key, value) : You'll be storing value according to the key\n",
    "\n",
    "2) Remove(key): Removes the elemnt of the key\n",
    "\n",
    "3) search(key) : return the element stored in that key"
   ]
  }
 ],
 "metadata": {
  "kernelspec": {
   "display_name": "Python 3",
   "language": "python",
   "name": "python3"
  },
  "language_info": {
   "codemirror_mode": {
    "name": "ipython",
    "version": 3
   },
   "file_extension": ".py",
   "mimetype": "text/x-python",
   "name": "python",
   "nbconvert_exporter": "python",
   "pygments_lexer": "ipython3",
   "version": "3.7.3"
  }
 },
 "nbformat": 4,
 "nbformat_minor": 2
}
