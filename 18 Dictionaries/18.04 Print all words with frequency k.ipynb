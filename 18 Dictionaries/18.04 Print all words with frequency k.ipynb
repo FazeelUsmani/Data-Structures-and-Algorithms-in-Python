{
 "cells": [
  {
   "cell_type": "code",
   "execution_count": 2,
   "metadata": {},
   "outputs": [],
   "source": [
    "s = \"this is a word string having many many word\"\n",
    "k = 2"
   ]
  },
  {
   "cell_type": "code",
   "execution_count": 5,
   "metadata": {},
   "outputs": [],
   "source": [
    "words = s.split()"
   ]
  },
  {
   "cell_type": "code",
   "execution_count": 9,
   "metadata": {},
   "outputs": [],
   "source": [
    "d = {}\n",
    "for w in words:\n",
    "    if w in d:\n",
    "        d[w] = d[w] + 1\n",
    "    else:\n",
    "        d[w] = 1"
   ]
  },
  {
   "cell_type": "code",
   "execution_count": 10,
   "metadata": {},
   "outputs": [
    {
     "data": {
      "text/plain": [
       "{'this': 1, 'is': 1, 'a': 1, 'word': 2, 'string': 1, 'having': 1, 'many': 2}"
      ]
     },
     "execution_count": 10,
     "metadata": {},
     "output_type": "execute_result"
    }
   ],
   "source": [
    "d"
   ]
  },
  {
   "cell_type": "code",
   "execution_count": 14,
   "metadata": {},
   "outputs": [],
   "source": [
    "e = {}\n",
    "for w in words:\n",
    "    e[w] = e.get(w,0) + 1   "
   ]
  },
  {
   "cell_type": "code",
   "execution_count": 15,
   "metadata": {},
   "outputs": [
    {
     "data": {
      "text/plain": [
       "{'this': 1, 'is': 1, 'a': 1, 'word': 2, 'string': 1, 'having': 1, 'many': 2}"
      ]
     },
     "execution_count": 15,
     "metadata": {},
     "output_type": "execute_result"
    }
   ],
   "source": [
    "e"
   ]
  },
  {
   "cell_type": "code",
   "execution_count": 16,
   "metadata": {},
   "outputs": [
    {
     "name": "stdout",
     "output_type": "stream",
     "text": [
      "word\n",
      "many\n"
     ]
    }
   ],
   "source": [
    "for w in d:\n",
    "    if d[w] == k:\n",
    "        print(w)"
   ]
  },
  {
   "cell_type": "code",
   "execution_count": 17,
   "metadata": {},
   "outputs": [],
   "source": [
    "def printKFreqWords(s, k):\n",
    "    words = s.split()\n",
    "    d = {}\n",
    "    for w in words:\n",
    "        d[w] = d.get(w,0) + 1\n",
    "    for w in d:\n",
    "        if d[w] == k:\n",
    "            print(w)\n",
    "    "
   ]
  },
  {
   "cell_type": "code",
   "execution_count": 18,
   "metadata": {},
   "outputs": [
    {
     "name": "stdout",
     "output_type": "stream",
     "text": [
      "this\n",
      "is\n",
      "a\n",
      "string\n",
      "having\n"
     ]
    }
   ],
   "source": [
    "printKFreqWords(s, 1)"
   ]
  },
  {
   "cell_type": "code",
   "execution_count": 19,
   "metadata": {},
   "outputs": [
    {
     "name": "stdout",
     "output_type": "stream",
     "text": [
      "word\n",
      "many\n"
     ]
    }
   ],
   "source": [
    "printKFreqWords(s, 2)"
   ]
  },
  {
   "cell_type": "code",
   "execution_count": 21,
   "metadata": {},
   "outputs": [],
   "source": [
    "printKFreqWords(s, 3)                    # There are no words in the string with frequency 3"
   ]
  }
 ],
 "metadata": {
  "kernelspec": {
   "display_name": "Python 3",
   "language": "python",
   "name": "python3"
  },
  "language_info": {
   "codemirror_mode": {
    "name": "ipython",
    "version": 3
   },
   "file_extension": ".py",
   "mimetype": "text/x-python",
   "name": "python",
   "nbconvert_exporter": "python",
   "pygments_lexer": "ipython3",
   "version": "3.7.3"
  }
 },
 "nbformat": 4,
 "nbformat_minor": 2
}
