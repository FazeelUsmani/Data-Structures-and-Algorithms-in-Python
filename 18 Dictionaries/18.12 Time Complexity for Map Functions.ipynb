{
 "cells": [
  {
   "cell_type": "markdown",
   "metadata": {},
   "source": [
    "## Time Complexity for Map Functions:"
   ]
  },
  {
   "cell_type": "code",
   "execution_count": null,
   "metadata": {},
   "outputs": [],
   "source": [
    "1) Insert(key, value)\n",
    "\n",
    "    i) Calculating HashCode  --> O(L) time\n",
    "    ii) Iterating on LL      --> O(N) time in worst case if it needs to traverse the whole LL till the end \n",
    "                    O(L) <<< O(N) so we consider O(L) as constant time i.e. O(1) time\n",
    "        \n",
    "If there are b buckets then each bucket has n/b entries. Then we should make sure that n/b < 0.7.\n",
    "For example, if there are 100 buckets then the buckets should be in between 130 or 140\n",
    "\n",
    "         Load Factor = 0.7\n",
    "\n",
    "If we maintain n/b < 0.7 (Load Factor) then we can say that for inserting it takes constant time. \n",
    "\n",
    "n = 14\n",
    "b = 20 then it's okay\n",
    "\n",
    "Rehashing: Initializes the new array of double size and whatever the previous element was we try to store in the new array.\n",
    "    \n",
    "--> But Rehashing will not occur everytime it occurs very less times. SO, it is ignored as it comes under Amortized \n",
    "complexity of algorithms."
   ]
  },
  {
   "cell_type": "markdown",
   "metadata": {},
   "source": [
    "## Steps for Rehashing:"
   ]
  },
  {
   "cell_type": "code",
   "execution_count": null,
   "metadata": {},
   "outputs": [],
   "source": [
    "Whenever n/b becomes >= 0.7 we need to rehash. That means, we need to increase (double) our bucket size. \n",
    "Copy these elements to the new list. Before the new buckets list are None and then copy the elements by again \n",
    "passing through the hash function. \n",
    "When you create a new list then we need to insert each element to the new buckets. "
   ]
  },
  {
   "attachments": {},
   "cell_type": "markdown",
   "metadata": {},
   "source": [
    "![download%20%284%29.png](img/download%20%284%29.png)"
   ]
  },
  {
   "cell_type": "code",
   "execution_count": null,
   "metadata": {},
   "outputs": [],
   "source": []
  }
 ],
 "metadata": {
  "kernelspec": {
   "display_name": "Python 3",
   "language": "python",
   "name": "python3"
  },
  "language_info": {
   "codemirror_mode": {
    "name": "ipython",
    "version": 3
   },
   "file_extension": ".py",
   "mimetype": "text/x-python",
   "name": "python",
   "nbconvert_exporter": "python",
   "pygments_lexer": "ipython3",
   "version": "3.7.3"
  }
 },
 "nbformat": 4,
 "nbformat_minor": 2
}
