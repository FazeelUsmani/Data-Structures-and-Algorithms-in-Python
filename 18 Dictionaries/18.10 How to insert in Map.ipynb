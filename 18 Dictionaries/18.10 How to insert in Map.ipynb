{
 "cells": [
  {
   "cell_type": "code",
   "execution_count": 1,
   "metadata": {},
   "outputs": [],
   "source": [
    "class MapNode:\n",
    "    def __init__(self, key, value):\n",
    "        self.key = key\n",
    "        self.value = value\n",
    "        self.next = None\n",
    "        \n",
    "class Map:\n",
    "    def __init__(self):\n",
    "        self.bucketSize = 10\n",
    "        self.buckets = [None for i in range(self.bucketSize)]\n",
    "        self.count = 0\n",
    "        \n",
    "    def size(self):\n",
    "        return self.count\n",
    "    \n",
    "    def getBucketIndex(self, hc):\n",
    "        return (abs(hc) % (self.bucketSize))\n",
    "    \n",
    "    def insert(self, key, value):   # First task is to find the index\n",
    "                                    # At the index, if same key is present then change the corresponding value of it\n",
    "    # If same key is not present then create a new Node, make newNode.next = head, self.buckets[index] = newNode and \n",
    "    # increment the count of that bucket\n",
    "                                    \n",
    "        hc = hash(key)\n",
    "        index = self.getBucketIndex(hc)\n",
    "        head = self.buckets[index]\n",
    "        while head is not None:\n",
    "            if head.key == key:\n",
    "                head.value = value\n",
    "                return \n",
    "            head = head.next\n",
    "            \n",
    "        newNode = MapNode(key, value)\n",
    "        newNode.next = head\n",
    "        self.buckets[index] = newNode\n",
    "        self.count += 1  "
   ]
  },
  {
   "cell_type": "code",
   "execution_count": 6,
   "metadata": {},
   "outputs": [
    {
     "name": "stdout",
     "output_type": "stream",
     "text": [
      "1\n",
      "2\n",
      "2\n"
     ]
    }
   ],
   "source": [
    "m = Map()\n",
    "m.insert('Fazeel', 2)\n",
    "print(m.size())\n",
    "m.insert('Usmani', 7)\n",
    "print(m.size())\n",
    "m.insert('Fazeel', 4)  # It hasn't inserted the new node of key 'Fazeel' instead it just changed the value for of that key\n",
    "print(m.size())"
   ]
  }
 ],
 "metadata": {
  "kernelspec": {
   "display_name": "Python 3",
   "language": "python",
   "name": "python3"
  },
  "language_info": {
   "codemirror_mode": {
    "name": "ipython",
    "version": 3
   },
   "file_extension": ".py",
   "mimetype": "text/x-python",
   "name": "python",
   "nbconvert_exporter": "python",
   "pygments_lexer": "ipython3",
   "version": "3.7.3"
  }
 },
 "nbformat": 4,
 "nbformat_minor": 2
}
