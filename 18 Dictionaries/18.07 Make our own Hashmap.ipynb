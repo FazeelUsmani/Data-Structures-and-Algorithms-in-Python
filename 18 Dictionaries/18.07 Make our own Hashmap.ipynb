{
 "cells": [
  {
   "cell_type": "markdown",
   "metadata": {},
   "source": [
    "key --> Hash Funciton --> Integer"
   ]
  },
  {
   "cell_type": "markdown",
   "metadata": {},
   "source": [
    "Hash Function does:\n",
    "\n",
    "1) Calculationg hash code\n",
    "\n",
    "2) Compression to keep withing bucket size\n",
    "\n",
    "\n",
    "Key --> Hash Function ---> Hash Code --> Compression FUnction --> Index\n",
    "\n",
    "** %bucketSize is the perfect compression function\n",
    "\n"
   ]
  },
  {
   "attachments": {},
   "cell_type": "markdown",
   "metadata": {},
   "source": [
    "![image.png](img/hashFunction.png)"
   ]
  },
  {
   "cell_type": "markdown",
   "metadata": {},
   "source": [
    "### For inserting you'll use Hash Function and for accessing also we use Hash Function"
   ]
  },
  {
   "cell_type": "markdown",
   "metadata": {},
   "source": [
    "## What is Hashcode?"
   ]
  },
  {
   "attachments": {},
   "cell_type": "markdown",
   "metadata": {},
   "source": [
    "How can we get the hashcode?\n",
    "It depends on the type of the key. \n",
    "\n",
    "1) Integer --> Hash Code --> Integer\n",
    "\n",
    "2) Strings --> Hash Code (Sum of ascii values) --> Ascii('a') + Ascii('b') + Ascii('c')\n",
    "\n",
    "But for abc, bca, cab, bac and all permutations the index will be same\n",
    "\n",
    "We want our hash code to be uniform distribution. So, choose wiser\n",
    "\n",
    "A great Hash FUnciton can be 'abc' --> Number base p\n",
    "\n",
    "\n",
    "![image.png](img/hashTable.png)\n",
    "\n",
    "\n",
    "\n",
    "#### Here p should be a prime number as it gives great distribution\n",
    "\n",
    "123 --> 1**100 + 2**10 + 3**1\n",
    "\n",
    "'abc' --> 10**2 ('a') + 10**1 ('b') + 10**0 ('c')"
   ]
  },
  {
   "attachments": {},
   "cell_type": "markdown",
   "metadata": {},
   "source": [
    "![image.png](img/hash.png)"
   ]
  },
  {
   "cell_type": "code",
   "execution_count": null,
   "metadata": {},
   "outputs": [],
   "source": [
    "In Python, we have a inbuilt hash()\n",
    "\n",
    "hash() --> HashCode --> %bucketSize --> Integer"
   ]
  },
  {
   "cell_type": "markdown",
   "metadata": {},
   "source": [
    "### Collision:"
   ]
  },
  {
   "cell_type": "code",
   "execution_count": null,
   "metadata": {},
   "outputs": [],
   "source": [
    "For two keys if the integer is same then collision occurs"
   ]
  }
 ],
 "metadata": {
  "kernelspec": {
   "display_name": "Python 3",
   "language": "python",
   "name": "python3"
  },
  "language_info": {
   "codemirror_mode": {
    "name": "ipython",
    "version": 3
   },
   "file_extension": ".py",
   "mimetype": "text/x-python",
   "name": "python",
   "nbconvert_exporter": "python",
   "pygments_lexer": "ipython3",
   "version": "3.7.3"
  }
 },
 "nbformat": 4,
 "nbformat_minor": 2
}
