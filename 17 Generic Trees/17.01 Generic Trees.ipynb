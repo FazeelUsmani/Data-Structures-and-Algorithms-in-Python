{
 "cells": [
  {
   "cell_type": "markdown",
   "metadata": {},
   "source": [
    "Generic trees can have as many childrens as they can unlike Binary trees which are restricted to have atmost 2 childrens.\n",
    "\n",
    "In Binary trees the childrens are stored as left and right but here in generic tree we have an array or list of childrens\n",
    "\n",
    "Node contains of data and an array of integers. \n",
    "\n",
    "Now, we need to iterate the array and that's the only dirfference."
   ]
  },
  {
   "cell_type": "code",
   "execution_count": 1,
   "metadata": {},
   "outputs": [],
   "source": [
    "class TreeNode:\n",
    "    def __init__(self, data):\n",
    "        self.data = data\n",
    "        self.children = list()"
   ]
  },
  {
   "cell_type": "code",
   "execution_count": 3,
   "metadata": {},
   "outputs": [
    {
     "data": {
      "text/plain": [
       "5"
      ]
     },
     "execution_count": 3,
     "metadata": {},
     "output_type": "execute_result"
    }
   ],
   "source": [
    "root = TreeNode(5)\n",
    "root.data"
   ]
  },
  {
   "cell_type": "code",
   "execution_count": 6,
   "metadata": {},
   "outputs": [],
   "source": [
    "n1 = TreeNode(5)\n",
    "n2 = TreeNode(2)\n",
    "n3 = TreeNode(9)\n",
    "n4 = TreeNode(8)\n",
    "n5 = TreeNode(7)\n",
    "n6 = TreeNode(15)\n",
    "n7 = TreeNode(1)\n",
    "\n",
    "n1.children.append(n2)\n",
    "n1.children.append(n3)\n",
    "n1.children.append(n4)\n",
    "n1.children.append(n5)\n",
    "\n",
    "n3.children.append(n6)\n",
    "n3.children.append(n7)"
   ]
  }
 ],
 "metadata": {
  "kernelspec": {
   "display_name": "Python 3",
   "language": "python",
   "name": "python3"
  },
  "language_info": {
   "codemirror_mode": {
    "name": "ipython",
    "version": 3
   },
   "file_extension": ".py",
   "mimetype": "text/x-python",
   "name": "python",
   "nbconvert_exporter": "python",
   "pygments_lexer": "ipython3",
   "version": "3.7.3"
  }
 },
 "nbformat": 4,
 "nbformat_minor": 2
}
