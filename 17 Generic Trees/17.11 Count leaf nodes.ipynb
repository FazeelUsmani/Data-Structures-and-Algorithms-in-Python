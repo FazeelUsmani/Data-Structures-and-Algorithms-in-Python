{
 "cells": [
  {
   "cell_type": "code",
   "execution_count": 5,
   "metadata": {},
   "outputs": [
    {
     "name": "stdout",
     "output_type": "stream",
     "text": [
      "10 3 20 30 40 2 40 50 0 0 0 0 \n",
      "4\n"
     ]
    }
   ],
   "source": [
    "class treeNode:\n",
    "    def __init__(self, data):\n",
    "        self.data = data\n",
    "        self.children = []\n",
    "    def __str__(self):\n",
    "        return str(self.data)\n",
    "    \n",
    "import queue\n",
    "def leafNodeCount(tree):\n",
    "    if tree == None:\n",
    "        return\n",
    "    q = queue.Queue()\n",
    "    q.put(tree)\n",
    "    cnt = 0\n",
    "    while (not(q.empty())):\n",
    "        current_node = q.get()\n",
    "        for child in current_node.children:\n",
    "            q.put(child)\n",
    "            if not(child.children):\n",
    "                cnt += 1\n",
    "        \n",
    "    return cnt    \n",
    "\n",
    "def createLevelWiseTree(arr):\n",
    "    root = treeNode(int(arr[0]))\n",
    "    q = [root]\n",
    "    size = len(arr)\n",
    "    i = 1\n",
    "    while i<size:\n",
    "        parent = q.pop(0)\n",
    "        childCount = int(arr[i])\n",
    "        i += 1\n",
    "        for j in range(0,childCount):\n",
    "            temp = treeNode(int(arr[i+j]))\n",
    "            parent.children.append(temp)\n",
    "            q.append(temp)\n",
    "        i += childCount\n",
    "    return root\n",
    "\n",
    "# Main\n",
    "arr = list(int(x) for x in input().strip().split(' '))\n",
    "tree = createLevelWiseTree(arr)\n",
    "print(leafNodeCount(tree))\n"
   ]
  },
  {
   "cell_type": "code",
   "execution_count": null,
   "metadata": {},
   "outputs": [],
   "source": []
  }
 ],
 "metadata": {
  "kernelspec": {
   "display_name": "Python 3",
   "language": "python",
   "name": "python3"
  },
  "language_info": {
   "codemirror_mode": {
    "name": "ipython",
    "version": 3
   },
   "file_extension": ".py",
   "mimetype": "text/x-python",
   "name": "python",
   "nbconvert_exporter": "python",
   "pygments_lexer": "ipython3",
   "version": "3.7.3"
  }
 },
 "nbformat": 4,
 "nbformat_minor": 2
}
