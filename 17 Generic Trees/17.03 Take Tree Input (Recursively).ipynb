{
 "cells": [
  {
   "cell_type": "markdown",
   "metadata": {},
   "source": [
    "1) Keep adding the next child till you get -1\n",
    "\n",
    "2) How many childrens does 5 have?"
   ]
  },
  {
   "cell_type": "code",
   "execution_count": 1,
   "metadata": {},
   "outputs": [],
   "source": [
    "class TreeNode:\n",
    "    def __init__(self, data):\n",
    "        self.data = data\n",
    "        self.children = list()"
   ]
  },
  {
   "cell_type": "code",
   "execution_count": 2,
   "metadata": {},
   "outputs": [],
   "source": [
    "def takeTreeInput():\n",
    "    print(\"Enter root Data\")\n",
    "    rootData = int(input())\n",
    "    \n",
    "    if rootData == -1:\n",
    "        return None\n",
    "    root = TreeNode(rootData)\n",
    "    \n",
    "    print(\"Enter number of children for \", rootData)\n",
    "    childrenCount = int(input())\n",
    "    for i in range(0, childrenCount):\n",
    "        child = takeTreeInput()\n",
    "        root.children.append(child)\n",
    "    return root"
   ]
  },
  {
   "cell_type": "code",
   "execution_count": 3,
   "metadata": {},
   "outputs": [],
   "source": [
    "def printTreeDetailed(root):\n",
    "    if root == None:\n",
    "        return \n",
    "    \n",
    "    print(root.data, \": \", end = \"\")\n",
    "    for child in root.children:\n",
    "        print(child.data, \",\", end = \"\")\n",
    "    \n",
    "    print()\n",
    "    \n",
    "    for child in root.children:\n",
    "        printTreeDetailed(child)"
   ]
  },
  {
   "cell_type": "code",
   "execution_count": 7,
   "metadata": {},
   "outputs": [
    {
     "name": "stdout",
     "output_type": "stream",
     "text": [
      "Enter root Data\n",
      "5\n",
      "Enter number of children for  5\n",
      "4\n",
      "Enter root Data\n",
      "2\n",
      "Enter number of children for  2\n",
      "0\n",
      "Enter root Data\n",
      "9\n",
      "Enter number of children for  9\n",
      "2\n",
      "Enter root Data\n",
      "15\n",
      "Enter number of children for  15\n",
      "0\n",
      "Enter root Data\n",
      "1\n",
      "Enter number of children for  1\n",
      "0\n",
      "Enter root Data\n",
      "8\n",
      "Enter number of children for  8\n",
      "0\n",
      "Enter root Data\n",
      "7\n",
      "Enter number of children for  7\n",
      "0\n",
      "5 : 2 ,9 ,8 ,7 ,\n",
      "2 : \n",
      "9 : 15 ,1 ,\n",
      "15 : \n",
      "1 : \n",
      "8 : \n",
      "7 : \n"
     ]
    }
   ],
   "source": [
    "root = takeTreeInput()\n",
    "printTreeDetailed(root)"
   ]
  }
 ],
 "metadata": {
  "kernelspec": {
   "display_name": "Python 3",
   "language": "python",
   "name": "python3"
  }
 },
 "nbformat": 4,
 "nbformat_minor": 2
}
