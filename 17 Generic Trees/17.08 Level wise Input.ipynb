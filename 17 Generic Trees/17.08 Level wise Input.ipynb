{
 "cells": [
  {
   "cell_type": "code",
   "execution_count": 1,
   "metadata": {},
   "outputs": [],
   "source": [
    "class TreeNode:\n",
    "    def __init__(self, data):\n",
    "        self.data = data\n",
    "        self.children = list()"
   ]
  },
  {
   "cell_type": "code",
   "execution_count": 4,
   "metadata": {},
   "outputs": [],
   "source": [
    "import queue\n",
    "def takeTreeInputLevelWise():\n",
    "    q = queue.Queue()\n",
    "    print(\"Enter root\")\n",
    "    rootData = int(input())\n",
    "    if rootData == -1:\n",
    "        return None\n",
    "    \n",
    "    root = TreeNode(rootData)\n",
    "    q.put(root)\n",
    "    \n",
    "    while (not(q.empty())):\n",
    "        current_node = q.get()\n",
    "        print(\"Enter number of childrens for \", current_node.data)\n",
    "        numChildren = int(input())\n",
    "        for i in range(numChildren):\n",
    "            print(\"Enter next child for \", current_node.data)\n",
    "            childData = int(input())\n",
    "            child = TreeNode(childData)\n",
    "            current_node.children.append(child)\n",
    "            q.put(child)\n",
    "            \n",
    "    return root"
   ]
  },
  {
   "cell_type": "code",
   "execution_count": 7,
   "metadata": {},
   "outputs": [],
   "source": [
    "def printTreeDetailed(root):\n",
    "    if root == None:\n",
    "        return \n",
    "    \n",
    "    print(root.data, \": \", end = \"\")\n",
    "    for child in root.children:\n",
    "        print(child.data, \",\", end = \"\")\n",
    "    \n",
    "    print()\n",
    "    \n",
    "    for child in root.children:\n",
    "        printTreeDetailed(child)"
   ]
  },
  {
   "cell_type": "code",
   "execution_count": 9,
   "metadata": {},
   "outputs": [
    {
     "name": "stdout",
     "output_type": "stream",
     "text": [
      "Enter root\n",
      "1\n",
      "Enter number of childrens for  1\n",
      "3\n",
      "Enter next child for  1\n",
      "2\n",
      "Enter next child for  1\n",
      "3\n",
      "Enter next child for  1\n",
      "4\n",
      "Enter number of childrens for  2\n",
      "0\n",
      "Enter number of childrens for  3\n",
      "2\n",
      "Enter next child for  3\n",
      "5\n",
      "Enter next child for  3\n",
      "6\n",
      "Enter number of childrens for  4\n",
      "0\n",
      "Enter number of childrens for  5\n",
      "0\n",
      "Enter number of childrens for  6\n",
      "3\n",
      "Enter next child for  6\n",
      "7\n",
      "Enter next child for  6\n",
      "8\n",
      "Enter next child for  6\n",
      "9\n",
      "Enter number of childrens for  7\n",
      "0\n",
      "Enter number of childrens for  8\n",
      "0\n",
      "Enter number of childrens for  9\n",
      "0\n",
      "1 : 2 ,3 ,4 ,\n",
      "2 : \n",
      "3 : 5 ,6 ,\n",
      "5 : \n",
      "6 : 7 ,8 ,9 ,\n",
      "7 : \n",
      "8 : \n",
      "9 : \n",
      "4 : \n"
     ]
    }
   ],
   "source": [
    "root = takeTreeInputLevelWise()\n",
    "printTreeDetailed(root)"
   ]
  },
  {
   "cell_type": "code",
   "execution_count": null,
   "metadata": {},
   "outputs": [],
   "source": []
  }
 ],
 "metadata": {
  "kernelspec": {
   "display_name": "Python 3",
   "language": "python",
   "name": "python3"
  },
  "language_info": {
   "codemirror_mode": {
    "name": "ipython",
    "version": 3
   },
   "file_extension": ".py",
   "mimetype": "text/x-python",
   "name": "python",
   "nbconvert_exporter": "python",
   "pygments_lexer": "ipython3",
   "version": "3.7.3"
  }
 },
 "nbformat": 4,
 "nbformat_minor": 2
}
