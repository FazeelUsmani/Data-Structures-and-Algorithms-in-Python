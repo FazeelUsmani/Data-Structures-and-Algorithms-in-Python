{
 "cells": [
  {
   "cell_type": "code",
   "execution_count": 5,
   "metadata": {},
   "outputs": [
    {
     "name": "stdout",
     "output_type": "stream",
     "text": [
      "21\n",
      "10 3 20 30 40 2 40 50 0 0 0 0\n",
      "30\n"
     ]
    }
   ],
   "source": [
    "class treeNode:\n",
    "    def __init__(self, data):\n",
    "        self.data = data\n",
    "        self.children = []\n",
    "\n",
    "import queue        \n",
    "def nextLargest(tree, n):\n",
    "    if tree == None:\n",
    "        return \n",
    "    if tree.data > n:\n",
    "        ans = tree\n",
    "    else:\n",
    "        ans = None\n",
    "    \n",
    "    q = queue.Queue()\n",
    "    q.put(tree)\n",
    "    \n",
    "    while(not(q.empty())):\n",
    "        current_node = q.get()  \n",
    "        \n",
    "        for child in current_node.children:\n",
    "            if child.data > n and child.data < ans:\n",
    "                ans = child.data\n",
    "    return child\n",
    "    \n",
    "\n",
    "def createLevelWiseTree(arr):\n",
    "    root = treeNode(int(arr[0]))\n",
    "    q = [root]\n",
    "    size = len(arr)\n",
    "    i = 1\n",
    "    while i<size:\n",
    "        parent = q.pop(0)\n",
    "        childCount = int(arr[i])\n",
    "        i += 1\n",
    "        for j in range(0,childCount):\n",
    "            temp = treeNode(int(arr[i+j]))\n",
    "            parent.children.append(temp)\n",
    "            q.append(temp)\n",
    "        i += childCount\n",
    "    return root\n",
    "\n",
    "# Main\n",
    "n = int(input())\n",
    "arr = list(int(x) for x in input().strip().split(' '))\n",
    "tree = createLevelWiseTree(arr)\n",
    "print(nextLargest(tree, n).data)\n"
   ]
  },
  {
   "cell_type": "code",
   "execution_count": null,
   "metadata": {},
   "outputs": [],
   "source": []
  }
 ],
 "metadata": {
  "kernelspec": {
   "display_name": "Python 3",
   "language": "python",
   "name": "python3"
  },
  "language_info": {
   "codemirror_mode": {
    "name": "ipython",
    "version": 3
   },
   "file_extension": ".py",
   "mimetype": "text/x-python",
   "name": "python",
   "nbconvert_exporter": "python",
   "pygments_lexer": "ipython3",
   "version": "3.7.3"
  }
 },
 "nbformat": 4,
 "nbformat_minor": 2
}
