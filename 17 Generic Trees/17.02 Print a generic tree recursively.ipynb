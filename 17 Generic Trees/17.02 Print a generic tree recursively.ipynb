{
 "cells": [
  {
   "cell_type": "code",
   "execution_count": 9,
   "metadata": {},
   "outputs": [],
   "source": [
    "class TreeNode:\n",
    "    def __init__(self, data):\n",
    "        self.data = data\n",
    "        self.children = list()"
   ]
  },
  {
   "cell_type": "code",
   "execution_count": 2,
   "metadata": {},
   "outputs": [],
   "source": [
    "n1 = TreeNode(5)\n",
    "n2 = TreeNode(2)\n",
    "n3 = TreeNode(9)\n",
    "n4 = TreeNode(8)\n",
    "n5 = TreeNode(7)\n",
    "n6 = TreeNode(15)\n",
    "n7 = TreeNode(1)\n",
    "\n",
    "n1.children.append(n2)\n",
    "n1.children.append(n3)\n",
    "n1.children.append(n4)\n",
    "n1.children.append(n5)\n",
    "\n",
    "n3.children.append(n6)\n",
    "n3.children.append(n7)"
   ]
  },
  {
   "cell_type": "markdown",
   "metadata": {},
   "source": [
    "Here we print in preorder. First print root then left atlast right. Printing in this order just gives the nodes in the tree. "
   ]
  },
  {
   "cell_type": "markdown",
   "metadata": {},
   "source": [
    "5 2 9 15 1 8 7\n",
    "\n",
    "\n",
    "5 : 2, 9, 8, 7,\n",
    "\n",
    "2:\n",
    "\n",
    "9: 15, 1\n",
    "\n",
    "15:\n",
    "\n",
    "1:\n",
    "\n",
    "8:\n",
    "\n",
    "7:           "
   ]
  },
  {
   "cell_type": "code",
   "execution_count": 9,
   "metadata": {},
   "outputs": [],
   "source": [
    "def printTree(root):\n",
    "    # TODO what if root is None\n",
    "    print(root.data, end = \" \")\n",
    "    for child in root.children:     \n",
    "        printTree(child)"
   ]
  },
  {
   "cell_type": "code",
   "execution_count": 14,
   "metadata": {},
   "outputs": [
    {
     "name": "stdout",
     "output_type": "stream",
     "text": [
      "5 2 9 15 1 8 7 "
     ]
    }
   ],
   "source": [
    "printTree(n1)     # But this output is not much appealing\n",
    "                  # "
   ]
  },
  {
   "cell_type": "code",
   "execution_count": 3,
   "metadata": {},
   "outputs": [],
   "source": [
    "def printTree(root):\n",
    "    # TODO what if root is None\n",
    "    if root == None:\n",
    "        return \n",
    "    \n",
    "    print(root.data, end = \" \")       # Here base case is Leaf  \n",
    "    for child in root.children:       # No base case like root == None because here for loop \n",
    "        printTree(child)              # only executes when it has childrens else it won't\n",
    "# We use root == None as an edge case because when the root\n",
    "# itself is None then it throws an error\n",
    "        "
   ]
  },
  {
   "cell_type": "code",
   "execution_count": 4,
   "metadata": {},
   "outputs": [
    {
     "name": "stdout",
     "output_type": "stream",
     "text": [
      "5 2 9 15 1 8 7 "
     ]
    }
   ],
   "source": [
    "printTree(n1)"
   ]
  },
  {
   "cell_type": "markdown",
   "metadata": {},
   "source": [
    "### Now we need to print tree in a better way to know the exact structure of the tree"
   ]
  },
  {
   "cell_type": "code",
   "execution_count": 16,
   "metadata": {},
   "outputs": [],
   "source": [
    "def printTreeDetailed(root):\n",
    "    if root == None:\n",
    "        return \n",
    "    \n",
    "    print(root.data, \": \", end = \"\")\n",
    "    for child in root.children:\n",
    "        print(child.data, \",\", end = \"\")\n",
    "    \n",
    "    print()\n",
    "    \n",
    "    for child in root.children:\n",
    "        printTreeDetailed(child)"
   ]
  },
  {
   "cell_type": "code",
   "execution_count": 17,
   "metadata": {},
   "outputs": [
    {
     "name": "stdout",
     "output_type": "stream",
     "text": [
      "5 : 2 ,9 ,8 ,7 ,\n",
      "2 : \n",
      "9 : 15 ,1 ,\n",
      "15 : \n",
      "1 : \n",
      "8 : \n",
      "7 : \n"
     ]
    }
   ],
   "source": [
    "n1 = TreeNode(5)\n",
    "n2 = TreeNode(2)\n",
    "n3 = TreeNode(9)\n",
    "n4 = TreeNode(8)\n",
    "n5 = TreeNode(7)\n",
    "n6 = TreeNode(15)\n",
    "n7 = TreeNode(1)\n",
    "\n",
    "n1.children.append(n2)\n",
    "n1.children.append(n3)\n",
    "n1.children.append(n4)\n",
    "n1.children.append(n5)\n",
    "\n",
    "n3.children.append(n6)\n",
    "n3.children.append(n7)\n",
    "printTreeDetailed(n1)"
   ]
  },
  {
   "cell_type": "code",
   "execution_count": null,
   "metadata": {},
   "outputs": [],
   "source": []
  }
 ],
 "metadata": {
  "kernelspec": {
   "display_name": "Python 3",
   "language": "python",
   "name": "python3"
  },
  "language_info": {
   "codemirror_mode": {
    "name": "ipython",
    "version": 3
   },
   "file_extension": ".py",
   "mimetype": "text/x-python",
   "name": "python",
   "nbconvert_exporter": "python",
   "pygments_lexer": "ipython3",
   "version": "3.7.3"
  }
 },
 "nbformat": 4,
 "nbformat_minor": 2
}
