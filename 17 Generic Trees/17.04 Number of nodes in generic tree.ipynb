{
 "cells": [
  {
   "cell_type": "code",
   "execution_count": 2,
   "metadata": {},
   "outputs": [],
   "source": [
    "class TreeNode:\n",
    "    def __init__(self, data):\n",
    "        self.data = data\n",
    "        self.children = list()"
   ]
  },
  {
   "cell_type": "code",
   "execution_count": 3,
   "metadata": {},
   "outputs": [],
   "source": [
    "def takeTreeInput():\n",
    "    print(\"Enter root Data\")\n",
    "    rootData = int(input())\n",
    "    \n",
    "    if rootData == -1:\n",
    "        return None\n",
    "    root = TreeNode(rootData)\n",
    "    \n",
    "    print(\"Enter number of children for \", rootData)\n",
    "    childrenCount = int(input())\n",
    "    for i in range(0, childrenCount):\n",
    "        child = takeTreeInput()\n",
    "        root.children.append(child)\n",
    "    return root"
   ]
  },
  {
   "cell_type": "code",
   "execution_count": 4,
   "metadata": {},
   "outputs": [],
   "source": [
    "def printTreeDetailed(root):\n",
    "    if root == None:\n",
    "        return \n",
    "    \n",
    "    print(root.data, \": \", end = \"\")\n",
    "    for child in root.children:\n",
    "        print(child.data, \",\", end = \"\")\n",
    "    \n",
    "    print()\n",
    "    \n",
    "    for child in root.children:\n",
    "        printTreeDetailed(child)"
   ]
  },
  {
   "cell_type": "code",
   "execution_count": 1,
   "metadata": {},
   "outputs": [],
   "source": [
    "def numNodes(root):\n",
    "    count = 1\n",
    "    for child in root.children:\n",
    "        count = count + numNodes(child)\n",
    "        \n",
    "    return count"
   ]
  },
  {
   "cell_type": "code",
   "execution_count": 6,
   "metadata": {},
   "outputs": [
    {
     "name": "stdout",
     "output_type": "stream",
     "text": [
      "Enter root Data\n",
      "5\n",
      "Enter number of children for  5\n",
      "4\n",
      "Enter root Data\n",
      "2\n",
      "Enter number of children for  2\n",
      "0\n",
      "Enter root Data\n",
      "65\n",
      "Enter number of children for  65\n",
      "2\n",
      "Enter root Data\n",
      "14\n",
      "Enter number of children for  14\n",
      "0\n",
      "Enter root Data\n",
      "15\n",
      "Enter number of children for  15\n",
      "0\n",
      "Enter root Data\n",
      "9\n",
      "Enter number of children for  9\n",
      "0\n",
      "Enter root Data\n",
      "6\n",
      "Enter number of children for  6\n",
      "0\n",
      "5 : 2 ,65 ,9 ,6 ,\n",
      "2 : \n",
      "65 : 14 ,15 ,\n",
      "14 : \n",
      "15 : \n",
      "9 : \n",
      "6 : \n",
      "7\n"
     ]
    }
   ],
   "source": [
    "root = takeTreeInput()\n",
    "printTreeDetailed(root)\n",
    "print(numNodes(root))"
   ]
  },
  {
   "cell_type": "code",
   "execution_count": 7,
   "metadata": {},
   "outputs": [
    {
     "name": "stdout",
     "output_type": "stream",
     "text": [
      "Enter root Data\n",
      "1\n",
      "Enter number of children for  1\n",
      "3\n",
      "Enter root Data\n",
      "2\n",
      "Enter number of children for  2\n",
      "0\n",
      "Enter root Data\n",
      "3\n",
      "Enter number of children for  3\n",
      "2\n",
      "Enter root Data\n",
      "5\n",
      "Enter number of children for  5\n",
      "0\n",
      "Enter root Data\n",
      "6\n",
      "Enter number of children for  6\n",
      "3\n",
      "Enter root Data\n",
      "7\n",
      "Enter number of children for  7\n",
      "0\n",
      "Enter root Data\n",
      "8\n",
      "Enter number of children for  8\n",
      "0\n",
      "Enter root Data\n",
      "9\n",
      "Enter number of children for  9\n",
      "0\n",
      "Enter root Data\n",
      "4\n",
      "Enter number of children for  4\n",
      "0\n",
      "1 : 2 ,3 ,4 ,\n",
      "2 : \n",
      "3 : 5 ,6 ,\n",
      "5 : \n",
      "6 : 7 ,8 ,9 ,\n",
      "7 : \n",
      "8 : \n",
      "9 : \n",
      "4 : \n",
      "9\n"
     ]
    }
   ],
   "source": [
    "root = takeTreeInput()\n",
    "printTreeDetailed(root)\n",
    "print(numNodes(root))"
   ]
  },
  {
   "cell_type": "code",
   "execution_count": null,
   "metadata": {},
   "outputs": [],
   "source": []
  }
 ],
 "metadata": {
  "kernelspec": {
   "display_name": "Python 3",
   "language": "python",
   "name": "python3"
  },
  "language_info": {
   "codemirror_mode": {
    "name": "ipython",
    "version": 3
   },
   "file_extension": ".py",
   "mimetype": "text/x-python",
   "name": "python",
   "nbconvert_exporter": "python",
   "pygments_lexer": "ipython3",
   "version": "3.7.3"
  }
 },
 "nbformat": 4,
 "nbformat_minor": 2
}
