{
 "cells": [
  {
   "cell_type": "markdown",
   "metadata": {},
   "source": [
    "### Space Complexity is the maximum space required by a program at any point in time"
   ]
  },
  {
   "cell_type": "code",
   "execution_count": 1,
   "metadata": {},
   "outputs": [
    {
     "name": "stdout",
     "output_type": "stream",
     "text": [
      "5\n",
      "1\n",
      "2\n",
      "3\n",
      "4\n",
      "5\n"
     ]
    }
   ],
   "source": [
    "n = int(input())\n",
    "i = 1                #Space Complexity = K * n^0 = O(1) \n",
    "while i <= n:\n",
    "    print(i)\n",
    "    i += 1"
   ]
  },
  {
   "cell_type": "code",
   "execution_count": 2,
   "metadata": {},
   "outputs": [
    {
     "name": "stdout",
     "output_type": "stream",
     "text": [
      "1\n",
      "2\n",
      "3\n",
      "4\n",
      "5\n"
     ]
    }
   ],
   "source": [
    "i = 1              # k1 space\n",
    "while i <= n:\n",
    "    j = 0          # k2 space         \n",
    "    print(i)\n",
    "    i += 1\n",
    "\n",
    "# Space Complexity = k1 + n*k2 = O(n) (Wrong Answer)\n",
    "# Space Complexity is the maximum space required by a program at any point in time\n",
    "# So, for our progam at any point in time we require only k2 memory so overall will be k1 + k2 = O(1)\n",
    "# Space Complexity = k1 + k2 = O(1)"
   ]
  },
  {
   "cell_type": "markdown",
   "metadata": {},
   "source": [
    "#### For a list of 'n' size then the space complexity is O(n)"
   ]
  },
  {
   "cell_type": "markdown",
   "metadata": {},
   "source": [
    "### Three points to be kept in mind while calculating the space complexity:\n",
    "#### 1) Calculating the space complexity in point in time not the overall complexity\n",
    "#### 2) Auxillary Space - Extra space to your alogorithm. For example, space complexity of Bubble Sort is O(1) because we're not using any extra space \n",
    "#### 3) Recursion takes space. For example, fact 5 --> fact 4 --> fact 3 --> fact 2 --> fact 1 (--> means calls)\n",
    "\n",
    "## Tip: Don't count the input space requirement in your space complexity\n",
    "\n"
   ]
  },
  {
   "cell_type": "code",
   "execution_count": 3,
   "metadata": {},
   "outputs": [
    {
     "name": "stdout",
     "output_type": "stream",
     "text": [
      "[2, 3, 4, 6, 9]\n"
     ]
    }
   ],
   "source": [
    "# Bubble Sort\n",
    "list = [3,9,6,4,2]\n",
    "\n",
    "for i in range(0, len(list)):\n",
    "  for j in range(0, len(list)-i-1):\n",
    "    if list[j] > list[j+1]:\n",
    "      list[j], list[j+1] = list[j+1], list[j]\n",
    "    \n",
    "print(list) \n",
    "\n",
    "# No extra space so O(1)"
   ]
  },
  {
   "cell_type": "code",
   "execution_count": null,
   "metadata": {},
   "outputs": [],
   "source": [
    "# Factorial Recursive:\n",
    "fact(n):\n",
    "    if n == 0:\n",
    "        return 1\n",
    "    return n*fact(n)\n",
    "\n",
    "# Recursive function stores the calls in a stack which requires memory. When you reach end of the recursion you'll have 'n+1' functions in the memory. Each taking 'k' space. So, overall space complexity is O(n)"
   ]
  },
  {
   "cell_type": "markdown",
   "metadata": {},
   "source": [
    "                            Space Complexity  \n",
    "Bubble Sort              -        O(1)\n",
    "Factorial(Iterative)     -        O(1)\n",
    "Factorial(Recursive)     -        O(n)  \n",
    "Merge Sort               -        O(n)"
   ]
  },
  {
   "cell_type": "code",
   "execution_count": null,
   "metadata": {},
   "outputs": [],
   "source": []
  }
 ],
 "metadata": {
  "kernelspec": {
   "display_name": "Python 3",
   "language": "python",
   "name": "python3"
  },
  "language_info": {
   "codemirror_mode": {
    "name": "ipython",
    "version": 3
   },
   "file_extension": ".py",
   "mimetype": "text/x-python",
   "name": "python",
   "nbconvert_exporter": "python",
   "pygments_lexer": "ipython3",
   "version": "3.7.3"
  }
 },
 "nbformat": 4,
 "nbformat_minor": 2
}
