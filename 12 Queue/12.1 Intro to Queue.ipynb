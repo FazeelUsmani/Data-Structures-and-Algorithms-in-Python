{
 "cells": [
  {
   "cell_type": "markdown",
   "metadata": {},
   "source": [
    "### Queue: follows FIFO mechanism\n",
    "\n",
    "1) Enqueue() - Inserting an element to the queue\n",
    "\n",
    "2) Dequeue() - Deleting an element from the queue\n",
    "\n",
    "3) size() - returns the size of the queue\n",
    "\n",
    "4) isEmpty() - returns queue is empty or not\n",
    "\n",
    "5) front() - returns front element of queue\n",
    "\n",
    "**Elements are inserted at the rear part of the queue and elements are removed from the front end."
   ]
  }
 ],
 "metadata": {
  "kernelspec": {
   "display_name": "Python 3",
   "language": "python",
   "name": "python3"
  },
  "language_info": {
   "codemirror_mode": {
    "name": "ipython",
    "version": 3
   },
   "file_extension": ".py",
   "mimetype": "text/x-python",
   "name": "python",
   "nbconvert_exporter": "python",
   "pygments_lexer": "ipython3",
   "version": "3.7.3"
  }
 },
 "nbformat": 4,
 "nbformat_minor": 2
}
