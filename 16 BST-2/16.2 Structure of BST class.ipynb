{
 "cells": [
  {
   "cell_type": "markdown",
   "metadata": {},
   "source": [
    "We need to create a BST class which has the following four functions:\n",
    "\n",
    "b = BST()\n",
    "\n",
    "b.insert(1)\n",
    "\n",
    "b.delete(1)\n",
    "\n",
    "b.isPresent(1)\n",
    "\n",
    "b.count()"
   ]
  },
  {
   "cell_type": "code",
   "execution_count": 1,
   "metadata": {},
   "outputs": [],
   "source": [
    "class BinaryTreeNode:\n",
    "    def __init__(self, data):\n",
    "        self.data = data\n",
    "        self.left = None\n",
    "        self.right = None"
   ]
  },
  {
   "cell_type": "code",
   "execution_count": null,
   "metadata": {},
   "outputs": [],
   "source": [
    "# Basic structure of BST class\n",
    "class BST:\n",
    "    \n",
    "    def __init__(self):\n",
    "        self.root = None\n",
    "        self.numNodes = 0\n",
    "    \n",
    "    def printTree(self):\n",
    "        return \n",
    "    \n",
    "    def isPresent(self, data):\n",
    "        return False\n",
    "    \n",
    "    def insert(self, data):\n",
    "        return \n",
    "    \n",
    "    def deleteData(self, data):\n",
    "        return False\n",
    "    \n",
    "    def count(self):\n",
    "        return 0"
   ]
  },
  {
   "cell_type": "code",
   "execution_count": null,
   "metadata": {},
   "outputs": [],
   "source": [
    "b = BST()\n",
    "b.insert(10)\n",
    "b.insert(5)\n",
    "b.insert(12)\n",
    "print(b.isPresent(10))\n",
    "print(b.isPresent(7))\n",
    "print(b.deleteData(10))\n",
    "print(b.count())\n",
    "b.printTree()"
   ]
  },
  {
   "cell_type": "markdown",
   "metadata": {},
   "source": [
    "### This is the basic structure of a BST class and from the next session we're going to write all these functions"
   ]
  }
 ],
 "metadata": {
  "kernelspec": {
   "display_name": "Python 3",
   "language": "python",
   "name": "python3"
  },
  "language_info": {
   "codemirror_mode": {
    "name": "ipython",
    "version": 3
   },
   "file_extension": ".py",
   "mimetype": "text/x-python",
   "name": "python",
   "nbconvert_exporter": "python",
   "pygments_lexer": "ipython3",
   "version": "3.7.3"
  }
 },
 "nbformat": 4,
 "nbformat_minor": 2
}
