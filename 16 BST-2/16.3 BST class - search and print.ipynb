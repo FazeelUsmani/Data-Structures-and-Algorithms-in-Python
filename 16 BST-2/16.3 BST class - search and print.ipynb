{
 "cells": [
  {
   "cell_type": "code",
   "execution_count": null,
   "metadata": {},
   "outputs": [],
   "source": [
    "class BinaryTreeNode:\n",
    "    def __init__(self, data):\n",
    "        self.data = data\n",
    "        self.left = None\n",
    "        self.right = None"
   ]
  },
  {
   "cell_type": "markdown",
   "metadata": {},
   "source": [
    "### There are two solutions for isPresent():\n",
    "1) Solve it iteratively\n",
    "\n",
    "2) Use a helper function whose arguments are root and data\n",
    "\n",
    "** You can't solve this recursively because in isPresent we can't pass root.left or root.right because self itself is root\n",
    "\n",
    "### Can you pass self.right or self.left?"
   ]
  },
  {
   "cell_type": "code",
   "execution_count": null,
   "metadata": {},
   "outputs": [],
   "source": [
    "# Basic structure of BST class\n",
    "class BST:\n",
    "    \n",
    "    def __init__(self):\n",
    "        self.root = None\n",
    "        self.numNodes = 0\n",
    "    \n",
    "    def printTreeHelper(self, root):\n",
    "        if root == None:\n",
    "            return\n",
    "        print(root.data, end = \":\")\n",
    "\n",
    "        if root.left is not None:\n",
    "            print(\"L\", root.left.data, end = \",\")\n",
    "\n",
    "        if root.right is not None:\n",
    "            print(\"R\", root.right.data, end = \" \")\n",
    "\n",
    "        print()\n",
    "        printTreeDetailed(root.left)  \n",
    "        printTreeDetailed(root.right) \n",
    "        \n",
    "    \n",
    "    def printTree(self):\n",
    "        return printTreeHelper()\n",
    "            \n",
    "    def isPresentHelper(self, root, data):\n",
    "        if root == None:\n",
    "            return False\n",
    "        if root.data == data:\n",
    "            return True\n",
    "        \n",
    "        if root.data > data:\n",
    "            # Call on left\n",
    "            return isPresentHelper(root.left, data)                                        \n",
    "        \n",
    "        else:\n",
    "            # Call on right\n",
    "            return isPresentHelper(root.right, data)\n",
    "        \n",
    "    \n",
    "    def isPresent(self, data):\n",
    "        return isPresentHelper(self.root, data)\n",
    "        \n",
    "    \n",
    "    def insert(self, data):\n",
    "        return \n",
    "    \n",
    "    def deleteData(self, data):\n",
    "        return False\n",
    "    \n",
    "    def count(self):\n",
    "        return 0"
   ]
  },
  {
   "cell_type": "code",
   "execution_count": null,
   "metadata": {},
   "outputs": [],
   "source": [
    "b = BST()\n",
    "b.insert(10)\n",
    "b.insert(5)\n",
    "b.insert(12)\n",
    "print(b.isPresent(10))\n",
    "print(b.isPresent(7))\n",
    "print(b.deleteData(10))\n",
    "print(b.count())\n",
    "b.printTree()"
   ]
  }
 ],
 "metadata": {
  "kernelspec": {
   "display_name": "Python 3",
   "language": "python",
   "name": "python3"
  },
  "language_info": {
   "codemirror_mode": {
    "name": "ipython",
    "version": 3
   },
   "file_extension": ".py",
   "mimetype": "text/x-python",
   "name": "python",
   "nbconvert_exporter": "python",
   "pygments_lexer": "ipython3",
   "version": "3.7.3"
  }
 },
 "nbformat": 4,
 "nbformat_minor": 2
}
