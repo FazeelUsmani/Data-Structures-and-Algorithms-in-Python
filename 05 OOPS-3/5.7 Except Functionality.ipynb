{
 "cells": [
  {
   "cell_type": "code",
   "execution_count": 1,
   "metadata": {},
   "outputs": [
    {
     "name": "stdout",
     "output_type": "stream",
     "text": [
      "Enter the numerator :5\n",
      "Enter the denominator :0\n",
      "Division by zero is not allowed\n",
      "Enter the numerator :547\n",
      "Enter the denominator :68\n",
      "8.044117647058824\n"
     ]
    }
   ],
   "source": [
    "#Raise your own Exception:                       \n",
    "class ZeroDenominatorError(ZeroDivisionError): #Here we're inheriting ZeroDivisionError\n",
    "    pass                                       #Every ZeroDenominatorError is a ZeroDivisionError   \n",
    "while True:\n",
    "    try:\n",
    "        n = input(\"Enter the numerator :\")\n",
    "        num = int(n)\n",
    "        n = input(\"Enter the denominator :\")\n",
    "        den = int(n)\n",
    "        if den == 0:\n",
    "            raise ZeroDenominatorError('Denominator should not be zero')\n",
    "        value = num/den\n",
    "        print(value)\n",
    "        break\n",
    "    except ValueError:\n",
    "        print(\"Numerator and Denominator should be integers\")\n",
    "    except ZeroDivisionError:\n",
    "        print(\"Division by zero is not allowed\")\n",
    "    except ZeroDenominatorError:\n",
    "        print(\"ZeroDenominatorError is raised\")"
   ]
  },
  {
   "cell_type": "code",
   "execution_count": 2,
   "metadata": {},
   "outputs": [
    {
     "name": "stdout",
     "output_type": "stream",
     "text": [
      "Enter the numerator :54\n",
      "Enter the denominator :0\n",
      "ZeroDenominatorError is raised\n",
      "Enter the numerator :89\n",
      "Enter the denominator :9\n",
      "9.88888888888889\n"
     ]
    }
   ],
   "source": [
    "#Raise your own Exception:                       \n",
    "class ZeroDenominatorError(ZeroDivisionError): #Here we're inheriting ZeroDivisionError\n",
    "    pass                                       #Every ZeroDenominatorError is a ZeroDivisionError   \n",
    "while True:\n",
    "    try:\n",
    "        n = input(\"Enter the numerator :\")\n",
    "        num = int(n)\n",
    "        n = input(\"Enter the denominator :\")\n",
    "        den = int(n)\n",
    "        if den == 0:\n",
    "            raise ZeroDenominatorError('Denominator should not be zero')\n",
    "        value = num/den\n",
    "        print(value)\n",
    "        break\n",
    "    except ValueError:\n",
    "        print(\"Numerator and Denominator should be integers\")\n",
    "    except ZeroDenominatorError:              #Order matters here\n",
    "        print(\"ZeroDenominatorError is raised\")\n",
    "    except ZeroDivisionError:\n",
    "        print(\"Division by zero is not allowed\")\n",
    "    "
   ]
  },
  {
   "cell_type": "code",
   "execution_count": 7,
   "metadata": {},
   "outputs": [
    {
     "ename": "SyntaxError",
     "evalue": "default 'except:' must be last (<ipython-input-7-2b2e6f580e4e>, line 21)",
     "output_type": "error",
     "traceback": [
      "\u001b[1;36m  File \u001b[1;32m\"<ipython-input-7-2b2e6f580e4e>\"\u001b[1;36m, line \u001b[1;32m21\u001b[0m\n\u001b[1;33m    except ZeroDivisionError:\u001b[0m\n\u001b[1;37m                     ^\u001b[0m\n\u001b[1;31mSyntaxError\u001b[0m\u001b[1;31m:\u001b[0m default 'except:' must be last\n"
     ]
    }
   ],
   "source": [
    "#Raise your own Exception:                       \n",
    "class ZeroDenominatorError(ZeroDivisionError): #Here we're inheriting ZeroDivisionError\n",
    "    pass                                       #Every ZeroDenominatorError is a ZeroDivisionError   \n",
    "while True:\n",
    "    try:\n",
    "        n = input(\"Enter the numerator :\")\n",
    "        num = int(n)\n",
    "        n = input(\"Enter the denominator :\")\n",
    "        den = int(n)\n",
    "        if den == 0:\n",
    "            raise ZeroDenominatorError('Denominator should not be zero')\n",
    "        value = num/den\n",
    "        print(value)\n",
    "        break\n",
    "    except ValueError:\n",
    "        print(\"Numerator and Denominator should be integers\")\n",
    "    except ZeroDenominatorError:              #Order matters here\n",
    "        print(\"ZeroDenominatorError is raised\")\n",
    "    except:                               #Default Exception must be at last\n",
    "        print(\"Some exception is raised\")\n",
    "    except ZeroDivisionError:\n",
    "        print(\"Division by zero is not allowed\")\n",
    "    "
   ]
  },
  {
   "cell_type": "code",
   "execution_count": 5,
   "metadata": {},
   "outputs": [
    {
     "name": "stdout",
     "output_type": "stream",
     "text": [
      "Enter the numerator :547\n",
      "Enter the denominator :0\n",
      "ZeroDenominatorError is raised\n",
      "Enter the numerator :65\n",
      "Enter the denominator :9\n",
      "7.222222222222222\n"
     ]
    }
   ],
   "source": [
    "#Raise your own Exception:                       \n",
    "class ZeroDenominatorError(ZeroDivisionError): #Here we're inheriting ZeroDivisionError\n",
    "    pass                                       #Every ZeroDenominatorError is a ZeroDivisionError   \n",
    "while True:\n",
    "    try:\n",
    "        n = input(\"Enter the numerator :\")\n",
    "        num = int(n)\n",
    "        n = input(\"Enter the denominator :\")\n",
    "        den = int(n)\n",
    "        if den == 0:\n",
    "            raise ZeroDenominatorError('Denominator should not be zero')\n",
    "        value = num/den\n",
    "        print(value)\n",
    "        break\n",
    "    except ValueError:\n",
    "        print(\"Numerator and Denominator should be integers\")\n",
    "    except ZeroDenominatorError:              #Order matters here\n",
    "        print(\"ZeroDenominatorError is raised\")\n",
    "    except ZeroDivisionError:\n",
    "        print(\"Division by zero is not allowed\")\n",
    "    except:                               #Default Exception should be at last\n",
    "        print(\"Some exception is raised\")\n",
    "    "
   ]
  },
  {
   "cell_type": "code",
   "execution_count": 8,
   "metadata": {},
   "outputs": [
    {
     "name": "stdout",
     "output_type": "stream",
     "text": [
      "Zero Division Error occured\n"
     ]
    }
   ],
   "source": [
    "#Predict the Output:\n",
    "class ZeroDenominatorError(ZeroDivisionError):\n",
    "    pass\n",
    "try:\n",
    "    a = 10\n",
    "    b = 0\n",
    "    if(b==0):\n",
    "        raise ZeroDenominatorError()\n",
    "    c = a/b\n",
    "except ZeroDivisionError:\n",
    "    print('Zero Division Error occured')\n",
    "except ZeroDenominatorError:\n",
    "    print('Zero Denominator Error occured')"
   ]
  },
  {
   "cell_type": "code",
   "execution_count": null,
   "metadata": {},
   "outputs": [],
   "source": []
  }
 ],
 "metadata": {
  "kernelspec": {
   "display_name": "Python 3",
   "language": "python",
   "name": "python3"
  },
  "language_info": {
   "codemirror_mode": {
    "name": "ipython",
    "version": 3
   },
   "file_extension": ".py",
   "mimetype": "text/x-python",
   "name": "python",
   "nbconvert_exporter": "python",
   "pygments_lexer": "ipython3",
   "version": "3.7.3"
  }
 },
 "nbformat": 4,
 "nbformat_minor": 2
}
