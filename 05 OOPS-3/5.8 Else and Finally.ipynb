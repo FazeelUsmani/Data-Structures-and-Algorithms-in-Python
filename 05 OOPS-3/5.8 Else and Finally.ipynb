{
 "cells": [
  {
   "cell_type": "code",
   "execution_count": 2,
   "metadata": {},
   "outputs": [
    {
     "name": "stdout",
     "output_type": "stream",
     "text": [
      "Enter the numerator :5\n",
      "Enter the denominator :0\n",
      "ZeroDenominatorError is raised\n",
      "Exception may or may not be raised\n",
      "Enter the numerator :658\n",
      "Enter the denominator :45\n",
      "14.622222222222222\n",
      "Exception may or may not be raised\n"
     ]
    }
   ],
   "source": [
    "#Raise your own Exception:                       \n",
    "class ZeroDenominatorError(ZeroDivisionError): #Here we're inheriting ZeroDivisionError\n",
    "    pass                                       #Every ZeroDenominatorError is a ZeroDivisionError   \n",
    "while True:\n",
    "    try:\n",
    "        n = input(\"Enter the numerator :\")\n",
    "        num = int(n)\n",
    "        n = input(\"Enter the denominator :\")\n",
    "        den = int(n)\n",
    "        if den == 0:\n",
    "            raise ZeroDenominatorError('Denominator should not be zero')\n",
    "        value = num/den\n",
    "   \n",
    "    except ValueError:\n",
    "        print(\"Numerator and Denominator should be integers\")\n",
    "    except ZeroDenominatorError:              #Order matters here\n",
    "        print(\"ZeroDenominatorError is raised\")\n",
    "    except ZeroDivisionError:\n",
    "        print(\"Division by zero is not allowed\")\n",
    "    except:                               #Default Exception should be at last\n",
    "        print(\"Some exception is raised\")\n",
    "   \n",
    "    else:                  #If no exception has come in try block then else block is executed\n",
    "        print(value)\n",
    "        break \n",
    "    \n",
    "    finally:        # If excception comes then exception code is executed and then finally is executed\n",
    "        print(\"Exception may or may not be raised\")"
   ]
  },
  {
   "cell_type": "markdown",
   "metadata": {},
   "source": [
    "### Order:\n",
    "##### try \n",
    "##### except\n",
    "##### else\n",
    "##### finally\n"
   ]
  },
  {
   "cell_type": "code",
   "execution_count": 5,
   "metadata": {},
   "outputs": [
    {
     "name": "stdout",
     "output_type": "stream",
     "text": [
      "Zero Division Error occured "
     ]
    }
   ],
   "source": [
    "#Predict the Output:\n",
    "class ZeroDenominatorError(ZeroDivisionError):\n",
    "    pass\n",
    "try:\n",
    "    a = 10\n",
    "    b = 0\n",
    "    if(b==0):\n",
    "        raise ZeroDenominatorError()\n",
    "    c = a/b\n",
    "except ZeroDivisionError:\n",
    "    print('Zero Division Error occured',end= \" \")\n",
    "except ZeroDenominatorError:\n",
    "    print('Zero Denominator Error occured',end = \" \")\n",
    "else:\n",
    "    print(\"else works\")"
   ]
  },
  {
   "cell_type": "code",
   "execution_count": 6,
   "metadata": {},
   "outputs": [
    {
     "name": "stdout",
     "output_type": "stream",
     "text": [
      "else works\n"
     ]
    }
   ],
   "source": [
    "#Predict the Output:\n",
    "class ZeroDenominatorError(ZeroDivisionError):\n",
    "    pass\n",
    "try:\n",
    "    a = 10\n",
    "    b = 5\n",
    "    if(b==0):\n",
    "        raise ZeroDenominatorError()\n",
    "    c = a/b\n",
    "except ZeroDivisionError:\n",
    "    print('Zero Division Error occured',end= \" \")\n",
    "except ZeroDenominatorError:\n",
    "    print('Zero Denominator Error occured',end = \" \")\n",
    "else:\n",
    "    print('else works')"
   ]
  },
  {
   "cell_type": "code",
   "execution_count": 7,
   "metadata": {},
   "outputs": [
    {
     "name": "stdout",
     "output_type": "stream",
     "text": [
      "else works finally works\n"
     ]
    }
   ],
   "source": [
    "#Predict the Output:\n",
    "class ZeroDenominatorError(ZeroDivisionError):\n",
    "    pass\n",
    "try:\n",
    "    a = 10\n",
    "    b = 5\n",
    "    if(b==0):\n",
    "        raise ZeroDenominatorError()\n",
    "    c = a/b\n",
    "except ZeroDivisionError:\n",
    "    print('Zero Division Error occured',end= \" \")\n",
    "except ZeroDenominatorError:\n",
    "    print('Zero Denominator Error occured',end = \" \")\n",
    "else:\n",
    "    print(\"else works\",end=' ')\n",
    "finally:\n",
    "    print(\"finally works\")"
   ]
  },
  {
   "cell_type": "code",
   "execution_count": null,
   "metadata": {},
   "outputs": [],
   "source": []
  }
 ],
 "metadata": {
  "kernelspec": {
   "display_name": "Python 3",
   "language": "python",
   "name": "python3"
  },
  "language_info": {
   "codemirror_mode": {
    "name": "ipython",
    "version": 3
   },
   "file_extension": ".py",
   "mimetype": "text/x-python",
   "name": "python",
   "nbconvert_exporter": "python",
   "pygments_lexer": "ipython3",
   "version": "3.7.3"
  }
 },
 "nbformat": 4,
 "nbformat_minor": 2
}
