{
 "cells": [
  {
   "cell_type": "markdown",
   "metadata": {},
   "source": [
    "### How to handle Multiple Exceptions?"
   ]
  },
  {
   "cell_type": "code",
   "execution_count": 2,
   "metadata": {},
   "outputs": [
    {
     "name": "stdout",
     "output_type": "stream",
     "text": [
      "Enter the numerator :54\n",
      "Enter the denominator :0\n",
      "Denominator should not be zero\n",
      "Enter the numerator :2\n",
      "Enter the denominator :a\n",
      "Numerator and Denominator should be integers\n",
      "Enter the numerator :154\n",
      "Enter the denominator :326\n",
      "0.4723926380368098\n"
     ]
    }
   ],
   "source": [
    "while True:\n",
    "    try:\n",
    "        n = input(\"Enter the numerator :\")\n",
    "        num = int(n)\n",
    "        n = input(\"Enter the denominator :\")\n",
    "        den = int(n)\n",
    "        value = num/den\n",
    "        print(value)\n",
    "        break\n",
    "    except ValueError:\n",
    "        print(\"Numerator and Denominator should be integers\")\n",
    "    except ZeroDivisionError:\n",
    "        print(\"Denominator should not be zero\")"
   ]
  },
  {
   "cell_type": "markdown",
   "metadata": {},
   "source": [
    "### How to handle Exceptions in a single line?"
   ]
  },
  {
   "cell_type": "code",
   "execution_count": 3,
   "metadata": {},
   "outputs": [
    {
     "name": "stdout",
     "output_type": "stream",
     "text": [
      "Enter the numerator :2\n",
      "Enter the denominator :d\n",
      "Numerator and Denominator should be integers and Denominator should not be zero\n",
      "Enter the numerator :25\n",
      "Enter the denominator :45\n",
      "0.5555555555555556\n"
     ]
    }
   ],
   "source": [
    "while True:\n",
    "    try:\n",
    "        n = input(\"Enter the numerator :\")\n",
    "        num = int(n)\n",
    "        n = input(\"Enter the denominator :\")\n",
    "        den = int(n)\n",
    "        value = num/den\n",
    "        print(value)\n",
    "        break\n",
    "    except (ValueError, ZeroDivisionError):      \n",
    "        print(\"Numerator and Denominator should be integers and Denominator should not be zero\")\n"
   ]
  },
  {
   "cell_type": "code",
   "execution_count": 4,
   "metadata": {},
   "outputs": [
    {
     "name": "stdout",
     "output_type": "stream",
     "text": [
      "Name Error occured\n"
     ]
    }
   ],
   "source": [
    "#Predict the Output:\n",
    "try:\n",
    "    a = 10\n",
    "    b = 0\n",
    "    print(d)\n",
    "    c = a/b\n",
    "except NameError:\n",
    "    print(\"Name Error occured\")\n",
    "except ZeroDivisionError:\n",
    "    print(\"Zero Division Error occured\")"
   ]
  },
  {
   "cell_type": "code",
   "execution_count": null,
   "metadata": {},
   "outputs": [],
   "source": []
  }
 ],
 "metadata": {
  "kernelspec": {
   "display_name": "Python 3",
   "language": "python",
   "name": "python3"
  },
  "language_info": {
   "codemirror_mode": {
    "name": "ipython",
    "version": 3
   },
   "file_extension": ".py",
   "mimetype": "text/x-python",
   "name": "python",
   "nbconvert_exporter": "python",
   "pygments_lexer": "ipython3",
   "version": "3.7.3"
  }
 },
 "nbformat": 4,
 "nbformat_minor": 2
}
