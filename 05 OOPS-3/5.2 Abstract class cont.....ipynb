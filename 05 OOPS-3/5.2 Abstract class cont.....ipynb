{
 "cells": [
  {
   "cell_type": "markdown",
   "metadata": {},
   "source": [
    "#### You can write code in abstract methods"
   ]
  },
  {
   "cell_type": "code",
   "execution_count": 43,
   "metadata": {},
   "outputs": [
    {
     "name": "stdout",
     "output_type": "stream",
     "text": [
      "Automobile Created\n",
      "Automobile Created\n",
      "4\n",
      "6\n"
     ]
    }
   ],
   "source": [
    "from abc import ABC, abstractmethod\n",
    "\n",
    "class Automobile(ABC):\n",
    "    \n",
    "    def __init__(self, no_of_wheels):\n",
    "        self.no_of_wheels = no_of_wheels \n",
    "        print(\"Automobile Created\")\n",
    "    \n",
    "    @abstractmethod   \n",
    "    def start(self):\n",
    "        print(\"start of Automobile called\")\n",
    "    \n",
    "    @abstractmethod   \n",
    "    def stop(self):\n",
    "        pass\n",
    "    \n",
    "    @abstractmethod   \n",
    "    def drive(self):\n",
    "        pass\n",
    "    \n",
    "    @abstractmethod   \n",
    "    def get_no_of_wheels(self):\n",
    "        return self.no_of_wheels\n",
    "    \n",
    "    \n",
    "class Car(Automobile):\n",
    "        \n",
    "    def start(self):\n",
    "        super().start()\n",
    "        print(\"start of Car called\")\n",
    "    def stop(self):\n",
    "        pass\n",
    "    def drive(self):\n",
    "        pass\n",
    "    def get_no_of_wheels(self):\n",
    "        return super().get_no_of_wheels()\n",
    "    \n",
    "class Bus(Automobile):\n",
    "    def start(self):\n",
    "        pass\n",
    "    def stop(self):\n",
    "        pass\n",
    "    def drive(self):\n",
    "        pass\n",
    "    def get_no_of_wheels(self):\n",
    "        return super().get_no_of_wheels()\n",
    "    \n",
    "    \n",
    "c = Car(4)\n",
    "b = Bus(6)\n",
    "print(c.get_no_of_wheels())\n",
    "print(b.get_no_of_wheels())"
   ]
  },
  {
   "cell_type": "code",
   "execution_count": 44,
   "metadata": {},
   "outputs": [
    {
     "name": "stdout",
     "output_type": "stream",
     "text": [
      "function 1 called\n"
     ]
    }
   ],
   "source": [
    "#Predict the Output:\n",
    "\n",
    "from abc import ABC, abstractmethod\n",
    "\n",
    "class A(ABC):\n",
    "    \n",
    "    @abstractmethod\n",
    "    def fun1(self):\n",
    "        print(\"function of class A called\")\n",
    "    \n",
    "    @abstractmethod\n",
    "    def fun2(self):\n",
    "        pass\n",
    "\n",
    "class B(A):\n",
    "    def fun1(self):\n",
    "        print(\"function 1 called\")\n",
    "    def fun2(self):\n",
    "        print(\"function 2 called\")\n",
    "    \n",
    "o = B()\n",
    "o.fun1()"
   ]
  },
  {
   "cell_type": "code",
   "execution_count": 45,
   "metadata": {},
   "outputs": [
    {
     "name": "stdout",
     "output_type": "stream",
     "text": [
      "function of class A called\n"
     ]
    }
   ],
   "source": [
    "#Predict the Output:\n",
    "\n",
    "from abc import ABC, abstractmethod\n",
    "\n",
    "class A(ABC):\n",
    "    \n",
    "    @abstractmethod\n",
    "    def fun1(self):\n",
    "        print(\"function of class A called\")\n",
    "    \n",
    "    @abstractmethod\n",
    "    def fun2(self):\n",
    "        pass\n",
    "\n",
    "class B(A):\n",
    "    def fun1(self):\n",
    "        super().fun1()\n",
    "    def fun2(self):\n",
    "        print(\" function 2 called\")\n",
    "    \n",
    "o = B()\n",
    "o.fun1()"
   ]
  },
  {
   "cell_type": "code",
   "execution_count": null,
   "metadata": {},
   "outputs": [],
   "source": []
  }
 ],
 "metadata": {
  "kernelspec": {
   "display_name": "Python 3",
   "language": "python",
   "name": "python3"
  },
  "language_info": {
   "codemirror_mode": {
    "name": "ipython",
    "version": 3
   },
   "file_extension": ".py",
   "mimetype": "text/x-python",
   "name": "python",
   "nbconvert_exporter": "python",
   "pygments_lexer": "ipython3",
   "version": "3.7.3"
  }
 },
 "nbformat": 4,
 "nbformat_minor": 2
}
