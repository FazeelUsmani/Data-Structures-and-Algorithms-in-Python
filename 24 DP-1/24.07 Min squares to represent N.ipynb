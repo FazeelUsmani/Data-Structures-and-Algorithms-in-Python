{
 "cells": [
  {
   "cell_type": "markdown",
   "metadata": {},
   "source": [
    "### 14 can be obtained in many following ways. But we need to pickup the min. squares required:"
   ]
  },
  {
   "cell_type": "markdown",
   "metadata": {},
   "source": [
    "$1^2$ + $1^2$ + $1^2$ + $1^2$ + $1^2$ + ------- + $1^2$ = 14 "
   ]
  },
  {
   "cell_type": "markdown",
   "metadata": {},
   "source": [
    "$1^2$ + $2^2$ + $2^2$ + $2^2$ + $1^2$  = 14"
   ]
  },
  {
   "cell_type": "markdown",
   "metadata": {},
   "source": [
    "$3^2$ + $2^2$ + $1^2$ = 14"
   ]
  },
  {
   "cell_type": "markdown",
   "metadata": {},
   "source": [
    "Here min. squares required are 3"
   ]
  },
  {
   "cell_type": "markdown",
   "metadata": {},
   "source": [
    "Find the nearest perfect square and call again the minSquares.\n",
    "\n",
    "For an example: minSteps(41) = $6^2$ + minSteps(5) [5 = $2^2$ + $1^2$] \n",
    "                total steps = 3\n",
    "                \n",
    "         **But this can also be acheived in $5^2$ + $4^2$ which has only two steps\n",
    "         \n",
    "    So, this intuition is wrong in various cases. However, we need to explore everything."
   ]
  },
  {
   "cell_type": "markdown",
   "metadata": {},
   "source": [
    "minSteps(41) --> $1^2$ + minSteps(40)\n",
    "\n",
    "minSteps(41) --> $2^2$ + minSteps(37)\n",
    "\n",
    "minSteps(41) --> $3^2$ + minSteps(32)\n",
    "\n",
    "minSteps(41) --> $4^2$ + minSteps(25)\n",
    "\n",
    "minSteps(41) --> $5^2$ + minSteps(16)\n",
    "\n",
    "minSteps(41) --> $6^2$ + minSteps(5)\n",
    "\n",
    "\n",
    "count = 1 + min(all those possibilities)\n",
    "\n",
    "possibilities ranges from 0 to i*i<n"
   ]
  },
  {
   "cell_type": "markdown",
   "metadata": {},
   "source": [
    "### Recursive solution:"
   ]
  },
  {
   "cell_type": "code",
   "execution_count": 38,
   "metadata": {},
   "outputs": [
    {
     "name": "stdout",
     "output_type": "stream",
     "text": [
      "41\n",
      "2\n"
     ]
    }
   ],
   "source": [
    "import sys, math\n",
    "def minSquares(n):\n",
    "    if n == 0:\n",
    "        return 0\n",
    "    ans = sys.maxsize\n",
    "    root = int(math.sqrt(n))\n",
    "    for i in range(1, root+1):\n",
    "        currAns = 1 + minSquares(n-(i*i))\n",
    "        ans = min(ans, currAns)\n",
    "        i += 1\n",
    "        \n",
    "    return ans\n",
    "\n",
    "n = int(input())\n",
    "print(minSquares(n))\n",
    "\n",
    "# Here it took a some time to get the output and has lots of overlapping sub problems."
   ]
  },
  {
   "cell_type": "markdown",
   "metadata": {},
   "source": [
    "### Memoization:"
   ]
  },
  {
   "cell_type": "code",
   "execution_count": 39,
   "metadata": {},
   "outputs": [
    {
     "name": "stdout",
     "output_type": "stream",
     "text": [
      "109\n",
      "2\n"
     ]
    }
   ],
   "source": [
    "import sys, math\n",
    "def minSquares(n, dp):\n",
    "    if n == 0:\n",
    "        return 0\n",
    "    \n",
    "    ans = sys.maxsize\n",
    "    root = int(math.sqrt(n))\n",
    "    \n",
    "    for i in range(1, root+1):    \n",
    "        checkValue = n-(i*i)\n",
    "        \n",
    "        if dp[checkValue] == -1:\n",
    "            smallAns = minSquares(checkValue, dp)\n",
    "            dp[checkValue] = smallAns\n",
    "            currAns = 1 + smallAns\n",
    "        else:\n",
    "            currAns = 1 + dp[checkValue]\n",
    "\n",
    "        ans = min(ans, currAns)    \n",
    "        \n",
    "    return ans\n",
    "\n",
    "n = int(input())\n",
    "dp = [-1 for i in range(n+1)]\n",
    "print(minSquares(n, dp))"
   ]
  },
  {
   "cell_type": "markdown",
   "metadata": {},
   "source": [
    "### Iterative solution:"
   ]
  },
  {
   "cell_type": "code",
   "execution_count": 49,
   "metadata": {},
   "outputs": [
    {
     "name": "stdout",
     "output_type": "stream",
     "text": [
      "989746\n",
      "2\n"
     ]
    }
   ],
   "source": [
    "import sys, math\n",
    "def minSquaresI(n):\n",
    "    dp = [-1 for x in range(n+1)]\n",
    "    dp[0] = 0\n",
    "        \n",
    "    for i in range(1,n+1):\n",
    "        ans = sys.maxsize\n",
    "        root = int(math.sqrt(i))\n",
    "        for j in range(1, root+1):\n",
    "            currAns = 1 + dp[i - (j*j)]\n",
    "            ans = min(ans, currAns)            \n",
    "        dp[i] = ans\n",
    "        \n",
    "    return dp[n]\n",
    "\n",
    "n = int(input())\n",
    "print(minSquaresI(n))"
   ]
  },
  {
   "cell_type": "markdown",
   "metadata": {},
   "source": [
    "Time complexity is same as recurive solution but the stack overflow headache is gone in case of iterative solution"
   ]
  },
  {
   "cell_type": "markdown",
   "metadata": {},
   "source": [
    "Time complexity is O(n.sqrt(n))   and space complexity is O(n)"
   ]
  },
  {
   "cell_type": "code",
   "execution_count": null,
   "metadata": {},
   "outputs": [],
   "source": [
    "# Sum of n integers in Python;\n",
    "\n",
    "def sumOfN(n):\n",
    "    sum = 0\n",
    "    for i in range(1, n+1):    \n",
    "        sum = sum + i           \n",
    "                   \n",
    "    return sum\n",
    "\n",
    "n = int(input())\n",
    "print(sumOfN(n))\n",
    "\n",
    "1 --> 1\n",
    "2 --> 1 + 2 = 3\n",
    "3 --> 1 + 2 + 3 = 6 "
   ]
  }
 ],
 "metadata": {
  "kernelspec": {
   "display_name": "Python 3",
   "language": "python",
   "name": "python3"
  },
  "language_info": {
   "codemirror_mode": {
    "name": "ipython",
    "version": 3
   },
   "file_extension": ".py",
   "mimetype": "text/x-python",
   "name": "python",
   "nbconvert_exporter": "python",
   "pygments_lexer": "ipython3",
   "version": "3.7.3"
  }
 },
 "nbformat": 4,
 "nbformat_minor": 2
}
