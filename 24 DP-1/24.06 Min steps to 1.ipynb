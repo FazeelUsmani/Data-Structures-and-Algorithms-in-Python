{
 "cells": [
  {
   "cell_type": "code",
   "execution_count": null,
   "metadata": {},
   "outputs": [],
   "source": [
    "There are 3 operations allowed:\n",
    "    --> n to n-1\n",
    "    --> n/2 if n is divisible by 2\n",
    "    --> n/3 if n is divisible by 3\n",
    "    \n",
    "Min steps require to go from n to 1"
   ]
  },
  {
   "cell_type": "code",
   "execution_count": 2,
   "metadata": {},
   "outputs": [
    {
     "name": "stdout",
     "output_type": "stream",
     "text": [
      "5\n",
      "3\n"
     ]
    }
   ],
   "source": [
    "import sys\n",
    "def minSteps(n, dp):\n",
    "    \n",
    "    if n == 1:\n",
    "        return 0\n",
    "\n",
    "    if dp[n-1] == -1:\n",
    "        ans1 = minSteps(n-1, dp)\n",
    "        dp[n-1] = ans1\n",
    "    else:\n",
    "        ans1 = dp[n-1]\n",
    "    \n",
    "    ans2 = sys.maxsize\n",
    "    if n%2 == 0:\n",
    "        if dp[n//2] == -1:\n",
    "            ans2 = minSteps(n//2, dp)\n",
    "            dp[n//2] = ans2\n",
    "        else:\n",
    "            ans2 = dp[n//2]\n",
    "    \n",
    "    ans3 = sys.maxsize\n",
    "    if n%3 == 0:\n",
    "        if dp[n//3] == -1:\n",
    "            ans2 = minSteps(n//3, dp)\n",
    "            dp[n//3] = ans3\n",
    "        else:\n",
    "            ans3 = dp[n//3]\n",
    "    \n",
    "    ans = 1 + min(ans1, ans2, ans3)\n",
    "    dp[n] = ans\n",
    "    return ans    \n",
    "    \n",
    "n = int(input())\n",
    "dp = [-1 for i in range(n+1)]\n",
    "print(minSteps(n, dp))\n",
    "    "
   ]
  },
  {
   "cell_type": "markdown",
   "metadata": {},
   "source": [
    "### The above recursive DP approach throws Runtime Error as it reaches the maximum recursion lime. So, we need to implement it iteratively the following:"
   ]
  },
  {
   "cell_type": "code",
   "execution_count": 5,
   "metadata": {},
   "outputs": [
    {
     "name": "stdout",
     "output_type": "stream",
     "text": [
      "20\n",
      "4\n"
     ]
    }
   ],
   "source": [
    "import sys\n",
    "def minSteps(n):\n",
    "    dp = [-1 for i in range(n+1)]\n",
    "    dp[1] = 0\n",
    "    dp[0] = 0\n",
    "    for i in range(2, n+1):\n",
    "        \n",
    "        if dp[i] == -1:\n",
    "            ans1 = dp[i-1]\n",
    "        \n",
    "        if i%2 == 0:\n",
    "            x = i//2\n",
    "            if dp[i//2] == -1:\n",
    "                ans2 = 1 + dp[x//2]\n",
    "            else:\n",
    "                ans2 = dp[i//2]\n",
    "        else:\n",
    "            ans2 = sys.maxsize\n",
    "            \n",
    "        if i%3 == 0:\n",
    "            y = i//3\n",
    "            if dp[i//3] == -1:\n",
    "                ans2 = 1 + dp[y//3]\n",
    "            else:\n",
    "                ans3 = dp[i//3]      \n",
    "        else:\n",
    "            ans3 = sys.maxsize\n",
    "            \n",
    "        ans = 1+min(ans1,ans2,ans3)\n",
    "        dp[i] = ans\n",
    "    return dp[n]\n",
    "\n",
    "n = int(input())        \n",
    "print(minSteps(n))"
   ]
  }
 ],
 "metadata": {
  "kernelspec": {
   "display_name": "Python 3",
   "language": "python",
   "name": "python3"
  },
  "language_info": {
   "codemirror_mode": {
    "name": "ipython",
    "version": 3
   },
   "file_extension": ".py",
   "mimetype": "text/x-python",
   "name": "python",
   "nbconvert_exporter": "python",
   "pygments_lexer": "ipython3",
   "version": "3.7.3"
  }
 },
 "nbformat": 4,
 "nbformat_minor": 2
}
