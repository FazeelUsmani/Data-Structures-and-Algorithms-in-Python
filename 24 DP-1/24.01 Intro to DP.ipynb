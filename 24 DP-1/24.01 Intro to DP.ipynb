{
 "cells": [
  {
   "cell_type": "code",
   "execution_count": null,
   "metadata": {},
   "outputs": [],
   "source": [
    "An concept which is applied where the following two things are happening:\n",
    "    1) Optimal Substructure - {Recurtion} \n",
    "                 wherever recurrence relation is present it is optimal substructure\n",
    "    2) Overlapping subproblems - \n",
    "    \n",
    "    Problem depends on subproblems. \n",
    "    \n",
    "In fib(n):\n",
    "    if n == 0 or n == 1:\n",
    "        return n\n",
    "   \n",
    "    return fib(n-1) + fib(n-2)"
   ]
  },
  {
   "attachments": {},
   "cell_type": "markdown",
   "metadata": {},
   "source": [
    "![fibonacci_tree.png](img/fibonacci_tree.png)"
   ]
  },
  {
   "cell_type": "code",
   "execution_count": null,
   "metadata": {},
   "outputs": [],
   "source": [
    "Here in the above tree:\n",
    "    --> f4 is called 2 times\n",
    "    --> f3 is called 3 times\n",
    "    --> f2 is called 5 times\n",
    "    \n",
    "DP uses a storage so that you do not call on the same sub problem again and again\n",
    "\n",
    "Every recursive problem is not an overlapping subproblem. For example, factorial of a number\n",
    "\n",
    "Fact(5) --> Fact(4) --> Fact(3) --> Fact(2) --> Fact(1) --> Fact(0) \n",
    "\n",
    "Recursion will always have optimal substructure but DP is applied where it also has overlapping sub problem"
   ]
  }
 ],
 "metadata": {
  "kernelspec": {
   "display_name": "Python 3",
   "language": "python",
   "name": "python3"
  },
  "language_info": {
   "codemirror_mode": {
    "name": "ipython",
    "version": 3
   },
   "file_extension": ".py",
   "mimetype": "text/x-python",
   "name": "python",
   "nbconvert_exporter": "python",
   "pygments_lexer": "ipython3",
   "version": "3.7.3"
  }
 },
 "nbformat": 4,
 "nbformat_minor": 2
}
