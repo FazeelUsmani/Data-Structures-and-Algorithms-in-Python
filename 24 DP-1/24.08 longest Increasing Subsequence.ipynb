{
 "cells": [
  {
   "cell_type": "markdown",
   "metadata": {},
   "source": [
    "LIS is a sequence in which the subsequence's elements are in sorted order, \n",
    "lowest to highest, and in which the subsequence is as long as possible."
   ]
  },
  {
   "cell_type": "markdown",
   "metadata": {},
   "source": [
    "![lis.jpg](img/lis.jpg)"
   ]
  },
  {
   "cell_type": "markdown",
   "metadata": {},
   "source": [
    "Equal no's can come or not come; depends on the question.\n",
    "\n",
    "For [6 3 1 2 7 0 9] LIS is 4 i.e. 1 2 7 9\n",
    "\n",
    "Find length of LIS including 6 and overall LIS excluding 6?\n",
    "\n",
    "What's the max. LIS from ith position?   lis(arr, i, n)\n",
    "\n",
    "Including ith element\n",
    "\n",
    "Overall LIS starting from ith element"
   ]
  },
  {
   "cell_type": "markdown",
   "metadata": {},
   "source": [
    "### Working:-\n",
    "\n",
    "For an example, [6,3,1,2,7,0,9] we first find\n",
    "\n",
    "Length of LIS including 6 = 1 + max(LIS(7), LIS(9)) Why 7 and 9? because they're > 6\n",
    "\n",
    "we also find Length of LIS excluding 6 which gives the max. length as 4 (i.e. 1,2,7,9) \n",
    "\n",
    "Then finally we return max(length of LIS including 6, length of LIS excluding 6)\n",
    "\n",
    "**P.S: Don't try to think about recursion. Just implement the correct base case and hypothesis\n",
    "for smaller input and the rest will be taken by recursion"
   ]
  },
  {
   "cell_type": "markdown",
   "metadata": {},
   "source": [
    "### Recursive:"
   ]
  },
  {
   "cell_type": "code",
   "execution_count": 5,
   "metadata": {},
   "outputs": [
    {
     "name": "stdout",
     "output_type": "stream",
     "text": [
      "7\n",
      "6 3 1 2 0 7 9\n",
      "4\n"
     ]
    }
   ],
   "source": [
    "def lis(li, i, n):\n",
    "    if i == n:\n",
    "        return 0, 0\n",
    "    \n",
    "    including_max = 1\n",
    "    for j in range(i+1, n):\n",
    "        if li[j] >= li[i]:\n",
    "            further_including_max = lis(li, j, n)[0]\n",
    "            including_max = max(including_max, 1 + further_including_max)    \n",
    "    excluding_max = lis(li, i+1, n)[1]\n",
    "    overallMax = max(including_max, excluding_max)\n",
    "    \n",
    "    return including_max, overallMax\n",
    "    \n",
    "n = int(input())\n",
    "li = [int(ele) for ele in input().split()]\n",
    "ans = lis(li, 0, n)[1]\n",
    "print(ans)"
   ]
  },
  {
   "cell_type": "markdown",
   "metadata": {},
   "source": [
    "![IMG_20190918_145913.jpg](img/IMG_20190918_145913.jpg)"
   ]
  },
  {
   "cell_type": "code",
   "execution_count": null,
   "metadata": {},
   "outputs": [],
   "source": [
    "So, by using the above approach there are many overlapping sub problems. Refer above image. \n",
    "For 6 you're again calling LIS(7) and LIS(9), \n",
    "for 3 you're again calling LIS(7) and LIS(9), \n",
    "for 1 you're again calling LIS(7) and LIS(9),\n",
    "for 2 you're again calling LIS(7) and LIS(9),\n",
    "for 0 you're again calling LIS(7) and LIS(9) \n",
    "which is a total time waste and eats up your memory as well.\n",
    "\n",
    "To avoid overlapping sub problems, you can save the answers for 7 & 9 by using Memoization"
   ]
  },
  {
   "cell_type": "markdown",
   "metadata": {},
   "source": [
    "### Memoization:"
   ]
  },
  {
   "cell_type": "code",
   "execution_count": 7,
   "metadata": {},
   "outputs": [
    {
     "name": "stdout",
     "output_type": "stream",
     "text": [
      "7\n",
      "6 3 1 2 0 7 9\n",
      "4\n"
     ]
    }
   ],
   "source": [
    "# [6,3,1,2,0,7,9]\n",
    "# 7 will store lisincluding7 and overallMax\n",
    "# dp is storing including ith element lis and overall max lis starting from ith element\n",
    "\n",
    "def lis(arr, i, n, dp):\n",
    "    if i == n:\n",
    "        return 0, 0\n",
    "    including_max = 1\n",
    "    for j in range(i+1, n):\n",
    "        if arr[j] > arr[i]:\n",
    "            if dp[j] == -1:\n",
    "                ans = lis(arr,j,n,dp)\n",
    "                dp[j] = ans\n",
    "                further_including_max = ans[0]\n",
    "            else:\n",
    "                further_including_max = dp[j][0]\n",
    "            including_max = max(including_max, 1+further_including_max)\n",
    "            \n",
    "    if dp[i+1] == -1:\n",
    "        ans = lis(arr, i+1, n, dp)\n",
    "        dp[i+1] = ans\n",
    "        excluding_max = ans[1]\n",
    "    else:\n",
    "        excluding_max = dp[i+1][1]\n",
    "        \n",
    "    overallMax = max(including_max, excluding_max)\n",
    "    return including_max, overallMax\n",
    "\n",
    "n = int(input())\n",
    "arr = list(int(x) for x in input().split())\n",
    "dp = [-1 for i in range(n+1)]\n",
    "print(lis(arr, 0, n, dp)[1])"
   ]
  },
  {
   "cell_type": "markdown",
   "metadata": {},
   "source": [
    "### Iterative:                                                      \n",
    "Time Complexity = O(N^2) \n",
    "Space compleity = O(N)"
   ]
  },
  {
   "cell_type": "code",
   "execution_count": 12,
   "metadata": {},
   "outputs": [
    {
     "name": "stdout",
     "output_type": "stream",
     "text": [
      "5\n",
      "2 63 5 4 1\n",
      "2\n"
     ]
    }
   ],
   "source": [
    "def lisI(li, n):\n",
    "    dp = [[0 for j in range(2)] for i in range(n+1)]\n",
    "    \n",
    "    for i in range(n-1,-1,-1):\n",
    "        including_max = 1\n",
    "        for j in range(i+1, n):\n",
    "            if arr[j] > arr[i]:\n",
    "                including_max = max(including_max, 1+dp[j][0])\n",
    "        dp[i][0] = including_max\n",
    "        excluding_max = dp[i+1][1]\n",
    "        overallMax = max(including_max, excluding_max)\n",
    "        dp[i][1] = overallMax\n",
    "        \n",
    "    return dp[0][1]\n",
    "\n",
    "n = int(input())\n",
    "arr = list(int(ele) for ele in input().split())\n",
    "\n",
    "print(lisI(arr, n))                \n",
    "    "
   ]
  }
 ],
 "metadata": {
  "kernelspec": {
   "display_name": "Python 3",
   "language": "python",
   "name": "python3"
  },
  "language_info": {
   "codemirror_mode": {
    "name": "ipython",
    "version": 3
   },
   "file_extension": ".py",
   "mimetype": "text/x-python",
   "name": "python",
   "nbconvert_exporter": "python",
   "pygments_lexer": "ipython3",
   "version": "3.7.3"
  }
 },
 "nbformat": 4,
 "nbformat_minor": 2
}
