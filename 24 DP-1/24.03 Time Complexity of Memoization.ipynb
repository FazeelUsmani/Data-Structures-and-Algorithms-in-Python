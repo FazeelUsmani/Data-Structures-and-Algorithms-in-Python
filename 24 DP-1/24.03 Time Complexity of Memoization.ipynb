{
 "cells": [
  {
   "attachments": {},
   "cell_type": "markdown",
   "metadata": {},
   "source": [
    "![memoization-12.png](img/memoization-12.png)"
   ]
  },
  {
   "cell_type": "markdown",
   "metadata": {},
   "source": [
    "Normal Recursion has a time complexity of O(2^n). Space complexity is O(n)\n",
    "\n",
    "Memoized has a time complexity of O(n+1) = O(n). Space complexity is O(n)for path +O(n)for array \n",
    "\n",
    "So, your time complexity has decreased from O(2^n) to O(n)"
   ]
  }
 ],
 "metadata": {
  "kernelspec": {
   "display_name": "Python 3",
   "language": "python",
   "name": "python3"
  },
  "language_info": {
   "codemirror_mode": {
    "name": "ipython",
    "version": 3
   },
   "file_extension": ".py",
   "mimetype": "text/x-python",
   "name": "python",
   "nbconvert_exporter": "python",
   "pygments_lexer": "ipython3",
   "version": "3.7.3"
  }
 },
 "nbformat": 4,
 "nbformat_minor": 2
}
