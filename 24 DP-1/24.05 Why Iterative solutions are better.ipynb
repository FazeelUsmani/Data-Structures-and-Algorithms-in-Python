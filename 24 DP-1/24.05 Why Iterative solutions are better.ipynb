{
 "cells": [
  {
   "cell_type": "markdown",
   "metadata": {},
   "source": [
    "### Why Iterative solutions are better?"
   ]
  },
  {
   "cell_type": "code",
   "execution_count": null,
   "metadata": {},
   "outputs": [],
   "source": [
    "Don't skip to iterative solution directly you may face issues as you're doing if for the first \n",
    "time. First try for 15-20 problems (by following the below steps) then you can directly jump to \n",
    "Iterative solution\n",
    "\n",
    "First find \n",
    "1) Calculate the recursion or recurrence relation [70%]\n",
    "2) Memoization [30%]\n",
    "3) Iterative DP"
   ]
  },
  {
   "cell_type": "code",
   "execution_count": null,
   "metadata": {},
   "outputs": [],
   "source": [
    "         Recursion               Iterative\n",
    "Time        O(n)                    O(n)\n",
    "Space       O(n)                    O(n)\n",
    "\n",
    "\n",
    "In recursion, one call is waited for another call and so on so there are chances for \n",
    "stack overflow.\n",
    "\n",
    "Limit for calls:-\n",
    "    In C++, Java the recursion limit is 10**4 \n",
    "    In Python, the recursion limit is 10**3 but you can change upto 10**4 by using \n",
    "    setRecursionLimit().\n",
    "    \n",
    "Iterative solution does not have this stack overflow headache."
   ]
  }
 ],
 "metadata": {
  "kernelspec": {
   "display_name": "Python 3",
   "language": "python",
   "name": "python3"
  },
  "language_info": {
   "codemirror_mode": {
    "name": "ipython",
    "version": 3
   },
   "file_extension": ".py",
   "mimetype": "text/x-python",
   "name": "python",
   "nbconvert_exporter": "python",
   "pygments_lexer": "ipython3",
   "version": "3.7.3"
  }
 },
 "nbformat": 4,
 "nbformat_minor": 2
}
