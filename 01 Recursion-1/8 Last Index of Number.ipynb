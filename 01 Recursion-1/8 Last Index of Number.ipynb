{
 "cells": [
  {
   "cell_type": "code",
   "execution_count": 13,
   "metadata": {},
   "outputs": [],
   "source": [
    "#copy the smaller part\n",
    "def lastIndex(arr, x):\n",
    "    l = len(arr)\n",
    "    if l == 0:\n",
    "        return -1\n",
    "    \n",
    "    smallerList = arr[1:]\n",
    "    smallerListOutput = lastIndex(smallerList, x)\n",
    "    if smallerListOutput != -1:\n",
    "        return smallerListOutput +1\n",
    "    else:\n",
    "        if arr[0] == x:\n",
    "            return 0\n",
    "        else:\n",
    "            return -1"
   ]
  },
  {
   "cell_type": "code",
   "execution_count": 15,
   "metadata": {},
   "outputs": [
    {
     "name": "stdout",
     "output_type": "stream",
     "text": [
      "7\n"
     ]
    }
   ],
   "source": [
    "a = [1,2,3,4,1,2,3,4]\n",
    "x = 4\n",
    "print(lastIndex(a,x))"
   ]
  },
  {
   "cell_type": "code",
   "execution_count": 21,
   "metadata": {},
   "outputs": [],
   "source": [
    "# Using starting index\n",
    "\n",
    "def lastIndexBetter(arr, si, x):\n",
    "    l = len(arr)\n",
    "    if si == l:\n",
    "        return -1\n",
    "    smallerListOutput = lastIndexBetter(arr, si+1, x)\n",
    "    if smallerListOutput != -1:\n",
    "        return smallerListOutput \n",
    "    else:\n",
    "        if arr[si] == x:\n",
    "            return si\n",
    "        else:\n",
    "            return -1"
   ]
  },
  {
   "cell_type": "code",
   "execution_count": 24,
   "metadata": {},
   "outputs": [
    {
     "name": "stdout",
     "output_type": "stream",
     "text": [
      "-1\n"
     ]
    }
   ],
   "source": [
    "a = [1,2,3,4,1,2,3,4]\n",
    "x = 15\n",
    "print(lastIndexBetter(a,0,x))"
   ]
  },
  {
   "cell_type": "code",
   "execution_count": null,
   "metadata": {},
   "outputs": [],
   "source": []
  }
 ],
 "metadata": {
  "kernelspec": {
   "display_name": "Python 3",
   "language": "python",
   "name": "python3"
  },
  "language_info": {
   "codemirror_mode": {
    "name": "ipython",
    "version": 3
   },
   "file_extension": ".py",
   "mimetype": "text/x-python",
   "name": "python",
   "nbconvert_exporter": "python",
   "pygments_lexer": "ipython3",
   "version": "3.7.3"
  }
 },
 "nbformat": 4,
 "nbformat_minor": 2
}
