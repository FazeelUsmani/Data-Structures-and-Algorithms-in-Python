{
 "cells": [
  {
   "cell_type": "code",
   "execution_count": 32,
   "metadata": {},
   "outputs": [
    {
     "name": "stdout",
     "output_type": "stream",
     "text": [
      "['abc', 'abc', 'bac', 'bca', 'cab', 'cab']\n"
     ]
    }
   ],
   "source": [
    "def permutation(str):\n",
    "    if len(str) == 0:\n",
    "        return \n",
    "    \n",
    "    output = []\n",
    "    for i in range(len(str)):\n",
    "        start = str[i]\n",
    "        \n",
    "                \n",
    "        remaining = str[:i] + str[i+1:]        \n",
    "        output.append(start + remaining )\n",
    "        \n",
    "        remaining = str[i+1:] + str[:i]\n",
    "        output.append(start+remaining)\n",
    "        \n",
    "    return output\n",
    "\n",
    "print(permutation(\"abc\"))\n",
    "    "
   ]
  },
  {
   "cell_type": "code",
   "execution_count": 25,
   "metadata": {},
   "outputs": [
    {
     "name": "stdout",
     "output_type": "stream",
     "text": [
      "ac\n",
      "ca\n"
     ]
    }
   ],
   "source": [
    "str = \"abc\" \n",
    "remaining = str[:1] + str[1+1:]\n",
    "print(remaining)\n",
    "\n",
    "remaining = str[2:] + str[:1]\n",
    "print(remaining)"
   ]
  },
  {
   "cell_type": "code",
   "execution_count": 42,
   "metadata": {},
   "outputs": [
    {
     "name": "stdout",
     "output_type": "stream",
     "text": [
      "['abcd', 'adcb', 'bacd', 'bdca', 'cabd', 'cdba', 'dabc', 'dcba']\n"
     ]
    }
   ],
   "source": [
    "def permutation(str):\n",
    "    if len(str) == 0:\n",
    "        return \n",
    "    \n",
    "    output = []\n",
    "    for i in range(len(str)):\n",
    "        \n",
    "        start = str[i]\n",
    "        \n",
    "        remaining = str[:i] + str[i+1:]        \n",
    "        permutation(remaining)\n",
    "        output.append(start + remaining)\n",
    "        \n",
    "        next1 = remaining[::-1]\n",
    "        permutation(next1)\n",
    "        output.append(start + next1 )\n",
    "        \n",
    "    return output\n",
    "\n",
    "print(permutation(\"abcd\"))\n",
    "    "
   ]
  },
  {
   "cell_type": "code",
   "execution_count": 45,
   "metadata": {},
   "outputs": [
    {
     "name": "stdout",
     "output_type": "stream",
     "text": [
      "abcd\n",
      "abcd\n",
      "abdc\n",
      "acbd\n",
      "acdb\n",
      "adbc\n",
      "adcb\n",
      "bacd\n",
      "badc\n",
      "bcad\n",
      "bcda\n",
      "bdac\n",
      "bdca\n",
      "cabd\n",
      "cadb\n",
      "cbad\n",
      "cbda\n",
      "cdab\n",
      "cdba\n",
      "dabc\n",
      "dacb\n",
      "dbac\n",
      "dbca\n",
      "dcab\n",
      "dcba\n"
     ]
    }
   ],
   "source": [
    "import itertools\n",
    "str = input()\n",
    "x = list(itertools.permutations(str))\n",
    "for i in x:\n",
    "    for j in i:\n",
    "        print(j, end =\"\")\n",
    "    print()"
   ]
  },
  {
   "cell_type": "code",
   "execution_count": null,
   "metadata": {},
   "outputs": [],
   "source": []
  }
 ],
 "metadata": {
  "kernelspec": {
   "display_name": "Python 3",
   "language": "python",
   "name": "python3"
  },
  "language_info": {
   "codemirror_mode": {
    "name": "ipython",
    "version": 3
   },
   "file_extension": ".py",
   "mimetype": "text/x-python",
   "name": "python",
   "nbconvert_exporter": "python",
   "pygments_lexer": "ipython3",
   "version": "3.7.3"
  }
 },
 "nbformat": 4,
 "nbformat_minor": 2
}
