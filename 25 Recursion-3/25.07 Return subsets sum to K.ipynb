{
 "cells": [
  {
   "cell_type": "code",
   "execution_count": null,
   "metadata": {},
   "outputs": [],
   "source": []
  },
  {
   "cell_type": "code",
   "execution_count": 3,
   "metadata": {},
   "outputs": [
    {
     "name": "stdout",
     "output_type": "stream",
     "text": [
      "[' ', 'c ', 'b ', 'bc ', 'a ', 'ac ', 'ab ', 'abc ']\n"
     ]
    }
   ],
   "source": [
    "def subs(str):\n",
    "    if len(str) == 0:\n",
    "        output = []\n",
    "        output.append(\" \")\n",
    "        return output\n",
    "    \n",
    "    smallerString = str[1:]\n",
    "    smallerOutput = subs(smallerString)\n",
    "    \n",
    "    output = []\n",
    "    for sub in smallerOutput:\n",
    "        output.append(sub)\n",
    "        \n",
    "    for sub in smallerOutput:\n",
    "        subs_with_zeroth_char = str[0] + sub\n",
    "        output.append(subs_with_zeroth_char)\n",
    "    \n",
    "    return output\n",
    "    \n",
    "print(subs(\"abc\"))"
   ]
  },
  {
   "cell_type": "code",
   "execution_count": 14,
   "metadata": {},
   "outputs": [
    {
     "name": "stdout",
     "output_type": "stream",
     "text": [
      "3 1 \n",
      "2 2 \n"
     ]
    }
   ],
   "source": [
    "def printSubset(arr, n, v, sum) : \n",
    "    \n",
    "    if (sum == 0): \n",
    "        for value in v : \n",
    "            print(value, end=\" \") \n",
    "        print() \n",
    "        return \n",
    "\n",
    "    if (n == 0): \n",
    "        return\n",
    "\n",
    "    printSubset(arr, n - 1, v, sum) \n",
    "    \n",
    "    v1 = [] + v \n",
    "    v1.append(arr[n - 1]) \n",
    "    printSubset(arr, n - 1, v1, sum - arr[n - 1]) \n",
    "\n",
    "\n",
    "arr = [1,2,3,2] \n",
    "sum = 4\n",
    "n = len(arr) \n",
    "printSubset(arr, n, [], sum) "
   ]
  },
  {
   "cell_type": "code",
   "execution_count": 16,
   "metadata": {},
   "outputs": [
    {
     "name": "stdout",
     "output_type": "stream",
     "text": [
      "None\n"
     ]
    }
   ],
   "source": [
    "def returnSubset(arr, n, v, sum) : \n",
    "    \n",
    "    if (sum == 0): \n",
    "        \n",
    "        return v\n",
    "\n",
    "    if (n == 0): \n",
    "        return\n",
    "\n",
    "    returnSubset(arr, n - 1, v, sum) \n",
    "    \n",
    "    v1 = [] + v \n",
    "    v1.append(arr[n - 1]) \n",
    "    returnSubset(arr, n - 1, v1, sum - arr[n - 1]) \n",
    "\n",
    "\n",
    "arr = [1,2,3,2] \n",
    "sum = 4\n",
    "n = len(arr) \n",
    "print(returnSubset(arr, n, [], sum) )"
   ]
  },
  {
   "cell_type": "code",
   "execution_count": null,
   "metadata": {},
   "outputs": [],
   "source": []
  }
 ],
 "metadata": {
  "kernelspec": {
   "display_name": "Python 3",
   "language": "python",
   "name": "python3"
  },
  "language_info": {
   "codemirror_mode": {
    "name": "ipython",
    "version": 3
   },
   "file_extension": ".py",
   "mimetype": "text/x-python",
   "name": "python",
   "nbconvert_exporter": "python",
   "pygments_lexer": "ipython3",
   "version": "3.7.3"
  }
 },
 "nbformat": 4,
 "nbformat_minor": 2
}
