{
 "cells": [
  {
   "cell_type": "code",
   "execution_count": null,
   "metadata": {},
   "outputs": [],
   "source": [
    "2 abc\n",
    "3 def\n",
    "4 ghi\n",
    "5 jkl\n",
    "6 mno\n",
    "7 pqrs\n",
    "8 tuv\n",
    "9 wxyz"
   ]
  },
  {
   "cell_type": "code",
   "execution_count": null,
   "metadata": {},
   "outputs": [],
   "source": [
    "If you're typing 24 (abc ghi) in your keypad then you're having the possible combinations:\n",
    "\n",
    "ag\n",
    "ah\n",
    "ai\n",
    "bg\n",
    "bh\n",
    "bi"
   ]
  },
  {
   "attachments": {},
   "cell_type": "markdown",
   "metadata": {},
   "source": [
    "![keypad.png](img/keypad.png)"
   ]
  },
  {
   "cell_type": "code",
   "execution_count": 15,
   "metadata": {},
   "outputs": [
    {
     "data": {
      "text/plain": [
       "['ad', 'ae', 'af', 'bd', 'be', 'bf', 'cd', 'ce', 'cf']"
      ]
     },
     "execution_count": 15,
     "metadata": {},
     "output_type": "execute_result"
    }
   ],
   "source": [
    "def getString(d):\n",
    "    if d == 2:\n",
    "        return \"abc\"\n",
    "    if d == 3:\n",
    "        return \"def\"\n",
    "    if d == 4:\n",
    "        return \"ghi\"\n",
    "    if d == 5:\n",
    "        return \"jkl\"\n",
    "    if d == 6:\n",
    "        return \"mno\"\n",
    "    if d == 7:\n",
    "        return \"pqrs\"\n",
    "    if d == 8:\n",
    "        return \"tuv\"\n",
    "    if d == 9:\n",
    "        return \"wxyz\"\n",
    "    return \" \"   \n",
    "    \n",
    "\n",
    "def keypad(input):\n",
    "    if input == 0:\n",
    "        output = []\n",
    "        output.append(\"\")\n",
    "        return output\n",
    "    \n",
    "    smallerInput = input//10\n",
    "    remainder = input%10    \n",
    "    \n",
    "    smallerOutput = keypad(smallerInput)\n",
    "    text = getString(remainder)\n",
    "        \n",
    "    output = []\n",
    "    for s in smallerOutput:\n",
    "        for c in text:\n",
    "            option = s + c\n",
    "            output.append(option)\n",
    "            \n",
    "    return output\n",
    " \n",
    "\n",
    "keypad(23)"
   ]
  },
  {
   "cell_type": "code",
   "execution_count": 21,
   "metadata": {},
   "outputs": [
    {
     "name": "stdout",
     "output_type": "stream",
     "text": [
      "652\n",
      "mja\n",
      "mjb\n",
      "mjc\n",
      "mka\n",
      "mkb\n",
      "mkc\n",
      "mla\n",
      "mlb\n",
      "mlc\n",
      "nja\n",
      "njb\n",
      "njc\n",
      "nka\n",
      "nkb\n",
      "nkc\n",
      "nla\n",
      "nlb\n",
      "nlc\n",
      "oja\n",
      "ojb\n",
      "ojc\n",
      "oka\n",
      "okb\n",
      "okc\n",
      "ola\n",
      "olb\n",
      "olc\n"
     ]
    }
   ],
   "source": [
    "def getString(d):\n",
    "    if d == 2:\n",
    "        return \"abc\"\n",
    "    if d == 3:\n",
    "        return \"def\"\n",
    "    if d == 4:\n",
    "        return \"ghi\"\n",
    "    if d == 5:\n",
    "        return \"jkl\"\n",
    "    if d == 6:\n",
    "        return \"mno\"\n",
    "    if d == 7:\n",
    "        return \"pqrs\"\n",
    "    if d == 8:\n",
    "        return \"tuv\"\n",
    "    if d == 9:\n",
    "        return \"wxyz\"\n",
    "    return \" \"   \n",
    "    \n",
    "def keypad(n):\n",
    "    if n == 0:\n",
    "        output = []\n",
    "        output.append(\"\")\n",
    "        return output\n",
    "    \n",
    "    smallerNumber = n//10\n",
    "    remainder = n%10\n",
    "    \n",
    "    smallerOutput = keypad(smallerNumber)\n",
    "    text = getString(remainder)\n",
    "    \n",
    "    output = []\n",
    "    for s in smallerOutput:\n",
    "        for t in text:        \n",
    "            option = s + t\n",
    "            output.append(option)\n",
    "        \n",
    "    return output\n",
    "        \n",
    "\n",
    "n = int(input())\n",
    "ans = keypad(n)\n",
    "for s in ans:\n",
    "    print(s)"
   ]
  }
 ],
 "metadata": {
  "kernelspec": {
   "display_name": "Python 3",
   "language": "python",
   "name": "python3"
  },
  "language_info": {
   "codemirror_mode": {
    "name": "ipython",
    "version": 3
   },
   "file_extension": ".py",
   "mimetype": "text/x-python",
   "name": "python",
   "nbconvert_exporter": "python",
   "pygments_lexer": "ipython3",
   "version": "3.7.3"
  }
 },
 "nbformat": 4,
 "nbformat_minor": 2
}
