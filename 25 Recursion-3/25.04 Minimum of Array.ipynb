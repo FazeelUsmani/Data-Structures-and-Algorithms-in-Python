{
 "cells": [
  {
   "cell_type": "markdown",
   "metadata": {},
   "source": [
    "### The following is how we find the minimum number in an array using recursion:"
   ]
  },
  {
   "cell_type": "code",
   "execution_count": 2,
   "metadata": {},
   "outputs": [
    {
     "data": {
      "text/plain": [
       "-5"
      ]
     },
     "execution_count": 2,
     "metadata": {},
     "output_type": "execute_result"
    }
   ],
   "source": [
    "def minArray(arr):\n",
    "    if len(arr) == 1:\n",
    "        return arr[0]\n",
    "    \n",
    "    smallMin = minArray(arr[1:])\n",
    "    overallMin = min(smallMin, arr[0])\n",
    "    return overallMin\n",
    "\n",
    "minArray([2,5,4,1,2,3,6,8,7,4,-5]) "
   ]
  },
  {
   "cell_type": "code",
   "execution_count": 7,
   "metadata": {},
   "outputs": [
    {
     "name": "stdout",
     "output_type": "stream",
     "text": [
      "-9\n"
     ]
    }
   ],
   "source": [
    "def printMin(arr, minSoFar = 999999):\n",
    "    if len(arr) == 1:\n",
    "        print(minSoFar)        \n",
    "        return \n",
    "    \n",
    "    newMin = min(minSoFar, arr[0])\n",
    "    printMin(arr[1:], newMin)\n",
    "    \n",
    "printMin([4,2,54,7,3,-2,5,-8,-4,-9,-7,52,36])"
   ]
  }
 ],
 "metadata": {
  "kernelspec": {
   "display_name": "Python 3",
   "language": "python",
   "name": "python3"
  },
  "language_info": {
   "codemirror_mode": {
    "name": "ipython",
    "version": 3
   },
   "file_extension": ".py",
   "mimetype": "text/x-python",
   "name": "python",
   "nbconvert_exporter": "python",
   "pygments_lexer": "ipython3",
   "version": "3.7.3"
  }
 },
 "nbformat": 4,
 "nbformat_minor": 2
}
