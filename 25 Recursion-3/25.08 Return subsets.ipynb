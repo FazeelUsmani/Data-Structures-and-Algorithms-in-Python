{
 "cells": [
  {
   "cell_type": "code",
   "execution_count": 47,
   "metadata": {},
   "outputs": [
    {
     "name": "stdout",
     "output_type": "stream",
     "text": [
      "IF  [3]\n",
      "[3, [2, 3], [1, 3], [1, [2, 3]]]\n"
     ]
    }
   ],
   "source": [
    "def subs(str):\n",
    "    \n",
    "    if len(str) == 1:\n",
    "        output = []\n",
    "        output.append(str[0])\n",
    "        print(\"IF \", output )\n",
    "        return output\n",
    "    \n",
    "    smallArr = str[1:]\n",
    "    smallerOutput = subs(smallArr)\n",
    "        \n",
    "    output = []\n",
    "    for sub in smallerOutput:\n",
    "        output.append(sub)\n",
    "        \n",
    "    for sub in smallerOutput:\n",
    "        newList = []\n",
    "        newList.append(str[0])\n",
    "        newList.append(sub)\n",
    "        output.append(newList)\n",
    "    \n",
    "    return output\n",
    "    \n",
    "print(subs([1,2,3]))\n"
   ]
  },
  {
   "cell_type": "code",
   "execution_count": 48,
   "metadata": {},
   "outputs": [
    {
     "name": "stdout",
     "output_type": "stream",
     "text": [
      "[' ', 'c ', 'b ', 'bc ', 'a ', 'ac ', 'ab ', 'abc ']\n"
     ]
    }
   ],
   "source": [
    "def subs(str):\n",
    "    \n",
    "    if len(str) == 0:\n",
    "        output = []\n",
    "        output.append(\" \")\n",
    "        return output\n",
    "    \n",
    "    smallerString = str[1:]\n",
    "    smallerOutput = subs(smallerString)\n",
    "    \n",
    "    output = []\n",
    "    for sub in smallerOutput:\n",
    "        output.append(sub)\n",
    "        \n",
    "    for sub in smallerOutput:\n",
    "        subs_with_zeroth_char = str[0] + sub\n",
    "        output.append(subs_with_zeroth_char)\n",
    "    \n",
    "    return output\n",
    "    \n",
    "print(subs(\"abc\"))\n"
   ]
  },
  {
   "cell_type": "code",
   "execution_count": 55,
   "metadata": {},
   "outputs": [
    {
     "name": "stdout",
     "output_type": "stream",
     "text": [
      "set() \n",
      "{1} {2} {3} \n",
      "{1, 2} {1, 3} {2, 3} \n",
      "{1, 2, 3} \n"
     ]
    }
   ],
   "source": [
    "import itertools \n",
    "  \n",
    "def findsubsets(s, n): \n",
    "    res = [set(i) for i in itertools.combinations(s, n)]\n",
    "    for i in res:\n",
    "        print(i, end = \" \")\n",
    "    print()\n",
    "  \n",
    "\n",
    "s = {1, 2, 3} \n",
    "for i in range(len(s)+1):\n",
    "    findsubsets(s,i)\n"
   ]
  },
  {
   "cell_type": "code",
   "execution_count": 62,
   "metadata": {},
   "outputs": [
    {
     "name": "stdout",
     "output_type": "stream",
     "text": [
      "\n",
      "3 \n",
      "2 \n",
      "2 3 \n",
      "1 \n",
      "1 3 \n",
      "1 2 \n",
      "1 2 3 \n"
     ]
    }
   ],
   "source": [
    "def subs(l):\n",
    "    if l == []:\n",
    "        return [[]]\n",
    "\n",
    "    x = subs(l[1:])\n",
    "\n",
    "    return x + [[l[0]] + y for y in x]\n",
    "x = subs([1,2,3])\n",
    "for i in x:\n",
    "    for j in i:\n",
    "        print(j, end = \" \")\n",
    "    print()"
   ]
  },
  {
   "cell_type": "code",
   "execution_count": null,
   "metadata": {},
   "outputs": [],
   "source": []
  }
 ],
 "metadata": {
  "kernelspec": {
   "display_name": "Python 3",
   "language": "python",
   "name": "python3"
  },
  "language_info": {
   "codemirror_mode": {
    "name": "ipython",
    "version": 3
   },
   "file_extension": ".py",
   "mimetype": "text/x-python",
   "name": "python",
   "nbconvert_exporter": "python",
   "pygments_lexer": "ipython3",
   "version": "3.7.3"
  }
 },
 "nbformat": 4,
 "nbformat_minor": 2
}
