{
 "cells": [
  {
   "cell_type": "markdown",
   "metadata": {},
   "source": [
    "A subsequence is a part of string need not be continuous whereas substrings are a part of a \n",
    "string which is continuous. \n",
    "\n",
    "Subsequences and substring are different. "
   ]
  },
  {
   "attachments": {},
   "cell_type": "markdown",
   "metadata": {},
   "source": [
    "![substring%20and%20subsequence.jpg](img/substring%20and%20subsequence.jpg)"
   ]
  },
  {
   "cell_type": "markdown",
   "metadata": {},
   "source": [
    "For a string of length n there are $2^n$ subsequences "
   ]
  },
  {
   "cell_type": "code",
   "execution_count": 17,
   "metadata": {},
   "outputs": [
    {
     "name": "stdout",
     "output_type": "stream",
     "text": [
      "[' ', 'c ', 'b ', 'bc ', 'a ', 'ac ', 'ab ', 'abc ']\n"
     ]
    }
   ],
   "source": [
    "def subs(str):\n",
    "    \n",
    "    if len(str) == 0:\n",
    "        output = []\n",
    "        output.append(\" \")\n",
    "        return output\n",
    "    \n",
    "    smallerString = str[1:]\n",
    "    smallerOutput = subs(smallerString)\n",
    "    \n",
    "    output = []\n",
    "    for sub in smallerOutput:\n",
    "        output.append(sub)\n",
    "        \n",
    "    for sub in smallerOutput:\n",
    "        subs_with_zeroth_char = str[0] + sub\n",
    "        output.append(subs_with_zeroth_char)\n",
    "    \n",
    "    return output\n",
    "    \n",
    "print(subs(\"abc\"))\n"
   ]
  }
 ],
 "metadata": {
  "kernelspec": {
   "display_name": "Python 3",
   "language": "python",
   "name": "python3"
  },
  "language_info": {
   "codemirror_mode": {
    "name": "ipython",
    "version": 3
   },
   "file_extension": ".py",
   "mimetype": "text/x-python",
   "name": "python",
   "nbconvert_exporter": "python",
   "pygments_lexer": "ipython3",
   "version": "3.7.3"
  }
 },
 "nbformat": 4,
 "nbformat_minor": 2
}
