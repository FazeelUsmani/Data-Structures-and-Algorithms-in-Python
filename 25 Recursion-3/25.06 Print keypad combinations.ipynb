{
 "cells": [
  {
   "cell_type": "code",
   "execution_count": 11,
   "metadata": {},
   "outputs": [
    {
     "name": "stdout",
     "output_type": "stream",
     "text": [
      "adg\n",
      "bdg\n",
      "cdg\n",
      "aeg\n",
      "beg\n",
      "ceg\n",
      "afg\n",
      "bfg\n",
      "cfg\n",
      "adh\n",
      "bdh\n",
      "cdh\n",
      "aeh\n",
      "beh\n",
      "ceh\n",
      "afh\n",
      "bfh\n",
      "cfh\n",
      "adi\n",
      "bdi\n",
      "cdi\n",
      "aei\n",
      "bei\n",
      "cei\n",
      "afi\n",
      "bfi\n",
      "cfi\n"
     ]
    }
   ],
   "source": [
    "def getString(d):\n",
    "    if d == 2:\n",
    "        return \"abc\"\n",
    "    if d == 3:\n",
    "        return \"def\"\n",
    "    if d == 4:\n",
    "        return \"ghi\"\n",
    "    if d == 5:\n",
    "        return \"jkl\"\n",
    "    if d == 6:\n",
    "        return \"mno\"\n",
    "    if d == 7:\n",
    "        return \"pqrs\"\n",
    "    if d == 8:\n",
    "        return \"tuv\"\n",
    "    if d == 9:\n",
    "        return \"wxyz\"\n",
    "    return \" \"   \n",
    "    \n",
    "\n",
    "def keypad(input, output):\n",
    "    if input == 0:\n",
    "        print(output)\n",
    "        return \n",
    "    \n",
    "    remainder = input%10    \n",
    "    input = input//10\n",
    "    \n",
    "    text = getString(remainder)\n",
    "        \n",
    "    for s in text:       \n",
    "        keypad(input, s+output)\n",
    "            \n",
    "keypad(234, \"\")"
   ]
  }
 ],
 "metadata": {
  "kernelspec": {
   "display_name": "Python 3",
   "language": "python",
   "name": "python3"
  },
  "language_info": {
   "codemirror_mode": {
    "name": "ipython",
    "version": 3
   },
   "file_extension": ".py",
   "mimetype": "text/x-python",
   "name": "python",
   "nbconvert_exporter": "python",
   "pygments_lexer": "ipython3",
   "version": "3.7.3"
  }
 },
 "nbformat": 4,
 "nbformat_minor": 2
}
